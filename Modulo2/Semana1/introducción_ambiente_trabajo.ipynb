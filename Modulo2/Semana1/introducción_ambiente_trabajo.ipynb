{
 "cells": [
  {
   "cell_type": "markdown",
   "id": "bba3508e",
   "metadata": {},
   "source": [
    "### Ejercicio 1:\n",
    "\n",
    "Utilice el método print para mostrar en pantalla la siguiente\n",
    "línea:\n",
    "\n",
    "> *Hola Mundo, esta es mi primera incursión en Python*"
   ]
  },
  {
   "cell_type": "code",
   "execution_count": 7,
   "id": "2f6b94c1",
   "metadata": {},
   "outputs": [
    {
     "name": "stdout",
     "output_type": "stream",
     "text": [
      "Hola Mundo, esta es mi primera incursión en Python\n"
     ]
    }
   ],
   "source": [
    "print('Hola Mundo, esta es mi primera incursión en Python')"
   ]
  },
  {
   "cell_type": "markdown",
   "id": "4fa6ac06",
   "metadata": {},
   "source": [
    "### Ejercicio 2: \n",
    "\n",
    "Ingrese una serie de datos respecto a su información\n",
    "personal. Esta información debe estar ingresada en variables para su posterior uso.\n",
    "Ingrese los siguientes datos:\n",
    "\n",
    "- Su nombre.\n",
    "- Edad.\n",
    "- Una lista con sus 3 actividades favoritas.\n",
    "- ¿Tiene mascotas?"
   ]
  },
  {
   "cell_type": "code",
   "execution_count": 12,
   "id": "c139fdd6",
   "metadata": {},
   "outputs": [
    {
     "name": "stdout",
     "output_type": "stream",
     "text": [
      "Ingrese los siguientes datos solicitados:\n",
      "Su Nombre: >Rodrigo\n",
      "Su Edad: > 29\n",
      "Una lista con sus 3 actividades favoritas, separadas por coma: >Tenis,Dormir,Programar\n",
      "¿Tiene mascotas?: >Si\n"
     ]
    }
   ],
   "source": [
    "print('Ingrese los siguientes datos solicitados:')\n",
    "nombre = input('Su Nombre: >')\n",
    "edad = input('Su Edad: > ')\n",
    "actividades = input('Una lista con sus 3 actividades favoritas, separadas por coma: >')\n",
    "mascota = input('¿Tiene mascotas?: >')"
   ]
  },
  {
   "cell_type": "markdown",
   "id": "a544656a",
   "metadata": {},
   "source": [
    "### Ejercicio 3:\n",
    "\n",
    "- Imprima cada variable creada: acceda al segundo elemento de su lista.\n",
    "- Pida los tipos de datos asociados.\n",
    "- Interpole los datos en un método print para generar una presentación sobre usted"
   ]
  },
  {
   "cell_type": "code",
   "execution_count": 16,
   "id": "2f4706ec",
   "metadata": {},
   "outputs": [
    {
     "name": "stdout",
     "output_type": "stream",
     "text": [
      "Hola, mi nombre es Rodrigo, tengo 29 años, mis pasatiempos son Tenis,\n",
      "Dormir y Programar. Ademas, Si tengo mascotas.\n"
     ]
    }
   ],
   "source": [
    "lista_actividades = actividades.split(',')\n",
    "lista_actividades\n",
    "\n",
    "print(f'''Hola, mi nombre es {nombre}, tengo {edad} años, mis pasatiempos son {lista_actividades[0]},\n",
    "{lista_actividades[1]} y {lista_actividades[2]}. Ademas, {mascota} tengo mascotas.''')"
   ]
  },
  {
   "cell_type": "markdown",
   "id": "858d8c05",
   "metadata": {},
   "source": [
    "### Ejercicio 4:\n",
    "\n",
    "a continuación se presenta una serie de códigos que generan errores. Corríjalos y comente cuáles fueron las fallas."
   ]
  },
  {
   "cell_type": "code",
   "execution_count": null,
   "id": "ea84da93",
   "metadata": {},
   "outputs": [],
   "source": [
    "print('Estaba la pájara pinta sentada en el verde limón)"
   ]
  },
  {
   "cell_type": "markdown",
   "id": "b40835ec",
   "metadata": {},
   "source": [
    "El problema acá es que falta una comilla al final de la oracion, antes del parentesis."
   ]
  },
  {
   "cell_type": "code",
   "execution_count": null,
   "id": "8f7abab3",
   "metadata": {},
   "outputs": [],
   "source": [
    "print('Mi nombre es' name 'y tengo' edad, 'años')"
   ]
  },
  {
   "cell_type": "markdown",
   "id": "a95747d5",
   "metadata": {},
   "source": [
    "El problema acá es que falta darle el formato F-string para poder visualizar el valor de variables llamadas"
   ]
  },
  {
   "cell_type": "code",
   "execution_count": null,
   "id": "80bdbf79",
   "metadata": {},
   "outputs": [],
   "source": [
    "import pandas as pd\n",
    "import numpy as np"
   ]
  },
  {
   "cell_type": "markdown",
   "id": "f7aaeb54",
   "metadata": {},
   "source": [
    "Acá no hay ningun problema, ya que las librerias se importan de manera correcta, ademas de darles la abreviatura correcta"
   ]
  },
  {
   "cell_type": "code",
   "execution_count": null,
   "id": "af450378",
   "metadata": {},
   "outputs": [],
   "source": [
    "\"Ornitorrinco\" + 45"
   ]
  },
  {
   "cell_type": "markdown",
   "id": "e804c8fe",
   "metadata": {},
   "source": [
    "El problema acá es que no se pueden sumar tipos de datos diferentes. El primer valor es un string (o objecto) mientras que el segunto es un varieable de tipo entero."
   ]
  },
  {
   "cell_type": "markdown",
   "id": "15391674",
   "metadata": {},
   "source": [
    "### Ejercicio 5:\n",
    "\n",
    "Utilizar pandas y numpy. Para ello, sigue los siguientes pasos."
   ]
  },
  {
   "cell_type": "markdown",
   "id": "7cbad87b",
   "metadata": {},
   "source": [
    "1. Importa pandas y numpy."
   ]
  },
  {
   "cell_type": "code",
   "execution_count": 17,
   "id": "6eb38018",
   "metadata": {},
   "outputs": [],
   "source": [
    "import pandas as pd\n",
    "import numpy as np"
   ]
  },
  {
   "cell_type": "markdown",
   "id": "f54bf0de",
   "metadata": {},
   "source": [
    "2. Posteriormente importa el archivo flights.csv."
   ]
  },
  {
   "cell_type": "code",
   "execution_count": 19,
   "id": "d6a83bd3",
   "metadata": {},
   "outputs": [],
   "source": [
    "df_flights = pd.read_csv('flights.csv')"
   ]
  },
  {
   "cell_type": "markdown",
   "id": "46d7fb2e",
   "metadata": {},
   "source": [
    "3. Solicita las primeras y últimas 5 observaciones de la tabla de datos."
   ]
  },
  {
   "cell_type": "code",
   "execution_count": 25,
   "id": "0a7d37ce",
   "metadata": {},
   "outputs": [
    {
     "name": "stdout",
     "output_type": "stream",
     "text": [
      "Primeras 5 Observaciones:\n"
     ]
    },
    {
     "data": {
      "text/html": [
       "<div>\n",
       "<style scoped>\n",
       "    .dataframe tbody tr th:only-of-type {\n",
       "        vertical-align: middle;\n",
       "    }\n",
       "\n",
       "    .dataframe tbody tr th {\n",
       "        vertical-align: top;\n",
       "    }\n",
       "\n",
       "    .dataframe thead th {\n",
       "        text-align: right;\n",
       "    }\n",
       "</style>\n",
       "<table border=\"1\" class=\"dataframe\">\n",
       "  <thead>\n",
       "    <tr style=\"text-align: right;\">\n",
       "      <th></th>\n",
       "      <th>year</th>\n",
       "      <th>month</th>\n",
       "      <th>passengers</th>\n",
       "    </tr>\n",
       "  </thead>\n",
       "  <tbody>\n",
       "    <tr>\n",
       "      <th>0</th>\n",
       "      <td>1949</td>\n",
       "      <td>January</td>\n",
       "      <td>112</td>\n",
       "    </tr>\n",
       "    <tr>\n",
       "      <th>1</th>\n",
       "      <td>1949</td>\n",
       "      <td>February</td>\n",
       "      <td>118</td>\n",
       "    </tr>\n",
       "    <tr>\n",
       "      <th>2</th>\n",
       "      <td>1949</td>\n",
       "      <td>March</td>\n",
       "      <td>132</td>\n",
       "    </tr>\n",
       "    <tr>\n",
       "      <th>3</th>\n",
       "      <td>1949</td>\n",
       "      <td>April</td>\n",
       "      <td>129</td>\n",
       "    </tr>\n",
       "    <tr>\n",
       "      <th>4</th>\n",
       "      <td>1949</td>\n",
       "      <td>May</td>\n",
       "      <td>121</td>\n",
       "    </tr>\n",
       "  </tbody>\n",
       "</table>\n",
       "</div>"
      ],
      "text/plain": [
       "   year     month  passengers\n",
       "0  1949   January         112\n",
       "1  1949  February         118\n",
       "2  1949     March         132\n",
       "3  1949     April         129\n",
       "4  1949       May         121"
      ]
     },
     "metadata": {},
     "output_type": "display_data"
    },
    {
     "name": "stdout",
     "output_type": "stream",
     "text": [
      "\n",
      "Ultimas 5 Observaciones:\n"
     ]
    },
    {
     "data": {
      "text/html": [
       "<div>\n",
       "<style scoped>\n",
       "    .dataframe tbody tr th:only-of-type {\n",
       "        vertical-align: middle;\n",
       "    }\n",
       "\n",
       "    .dataframe tbody tr th {\n",
       "        vertical-align: top;\n",
       "    }\n",
       "\n",
       "    .dataframe thead th {\n",
       "        text-align: right;\n",
       "    }\n",
       "</style>\n",
       "<table border=\"1\" class=\"dataframe\">\n",
       "  <thead>\n",
       "    <tr style=\"text-align: right;\">\n",
       "      <th></th>\n",
       "      <th>year</th>\n",
       "      <th>month</th>\n",
       "      <th>passengers</th>\n",
       "    </tr>\n",
       "  </thead>\n",
       "  <tbody>\n",
       "    <tr>\n",
       "      <th>139</th>\n",
       "      <td>1960</td>\n",
       "      <td>August</td>\n",
       "      <td>606</td>\n",
       "    </tr>\n",
       "    <tr>\n",
       "      <th>140</th>\n",
       "      <td>1960</td>\n",
       "      <td>September</td>\n",
       "      <td>508</td>\n",
       "    </tr>\n",
       "    <tr>\n",
       "      <th>141</th>\n",
       "      <td>1960</td>\n",
       "      <td>October</td>\n",
       "      <td>461</td>\n",
       "    </tr>\n",
       "    <tr>\n",
       "      <th>142</th>\n",
       "      <td>1960</td>\n",
       "      <td>November</td>\n",
       "      <td>390</td>\n",
       "    </tr>\n",
       "    <tr>\n",
       "      <th>143</th>\n",
       "      <td>1960</td>\n",
       "      <td>December</td>\n",
       "      <td>432</td>\n",
       "    </tr>\n",
       "  </tbody>\n",
       "</table>\n",
       "</div>"
      ],
      "text/plain": [
       "     year      month  passengers\n",
       "139  1960     August         606\n",
       "140  1960  September         508\n",
       "141  1960    October         461\n",
       "142  1960   November         390\n",
       "143  1960   December         432"
      ]
     },
     "metadata": {},
     "output_type": "display_data"
    }
   ],
   "source": [
    "print('Primeras 5 Observaciones:')\n",
    "display(df_flights.head(5))\n",
    "print('\\nUltimas 5 Observaciones:')\n",
    "display(df_flights.tail(5))"
   ]
  },
  {
   "cell_type": "markdown",
   "id": "9585ca61",
   "metadata": {},
   "source": [
    "4. Utiliza describe para obtener las medidas univariadas de la columna year."
   ]
  },
  {
   "cell_type": "code",
   "execution_count": 23,
   "id": "1da868ad",
   "metadata": {},
   "outputs": [
    {
     "data": {
      "text/plain": [
       "count     144.000000\n",
       "mean     1954.500000\n",
       "std         3.464102\n",
       "min      1949.000000\n",
       "25%      1951.750000\n",
       "50%      1954.500000\n",
       "75%      1957.250000\n",
       "max      1960.000000\n",
       "Name: year, dtype: float64"
      ]
     },
     "execution_count": 23,
     "metadata": {},
     "output_type": "execute_result"
    }
   ],
   "source": [
    "df_flights['year'].describe()"
   ]
  },
  {
   "cell_type": "markdown",
   "id": "b4f14af1",
   "metadata": {},
   "source": [
    "5. Utiliza value_counts para obtener la frecuencia de meses y años de la tabla.\n"
   ]
  },
  {
   "cell_type": "code",
   "execution_count": 30,
   "id": "bd7046ec",
   "metadata": {},
   "outputs": [
    {
     "data": {
      "text/plain": [
       "1960    12\n",
       "1959    12\n",
       "1958    12\n",
       "1957    12\n",
       "1956    12\n",
       "1955    12\n",
       "1954    12\n",
       "1953    12\n",
       "1952    12\n",
       "1951    12\n",
       "1950    12\n",
       "1949    12\n",
       "Name: year, dtype: int64"
      ]
     },
     "metadata": {},
     "output_type": "display_data"
    },
    {
     "data": {
      "text/plain": [
       "February     12\n",
       "May          12\n",
       "July         12\n",
       "April        12\n",
       "September    12\n",
       "December     12\n",
       "June         12\n",
       "October      12\n",
       "November     12\n",
       "August       12\n",
       "January      12\n",
       "March        12\n",
       "Name: month, dtype: int64"
      ]
     },
     "execution_count": 30,
     "metadata": {},
     "output_type": "execute_result"
    }
   ],
   "source": [
    "display(df_flights['year'].value_counts())\n",
    "df_flights['month'].value_counts()"
   ]
  },
  {
   "cell_type": "markdown",
   "id": "24dd29e0",
   "metadata": {},
   "source": [
    "6. Guarda en variables las primeras y últimas 15 observaciones de la tabla."
   ]
  },
  {
   "cell_type": "code",
   "execution_count": 31,
   "id": "20759356",
   "metadata": {},
   "outputs": [],
   "source": [
    "primeras_15 = df_flights.head(15)\n",
    "ultimas_15 = df_flights.tail(15)"
   ]
  },
  {
   "cell_type": "markdown",
   "id": "72c05687",
   "metadata": {},
   "source": [
    "7. Solicita la media, mediana y desviación estándar de la cantidad de pasajeros utilizando los métodos de numpy. Replique el procedimiento para las últimas y primeras 15 observaciones. Comente brevemente los resultados."
   ]
  },
  {
   "cell_type": "code",
   "execution_count": 39,
   "id": "9722e45f",
   "metadata": {},
   "outputs": [
    {
     "name": "stdout",
     "output_type": "stream",
     "text": [
      "Estadísticas para las primeras 15 observaciones: \n",
      "media: 126.8, \n",
      "mediana: 126.0 \n",
      "desviacion estandard: 12.681745410891462\n"
     ]
    }
   ],
   "source": [
    "mean = np.mean(primeras_15['passengers'])\n",
    "median = np.median(primeras_15['passengers'])\n",
    "desv = np.std(primeras_15['passengers'])\n",
    "print(f'Estadísticas para las primeras 15 observaciones: \\nmedia: {mean}, \\nmediana: {median} \\ndesviacion estandard: {desv}')"
   ]
  },
  {
   "cell_type": "code",
   "execution_count": 40,
   "id": "c5f01ddb",
   "metadata": {},
   "outputs": [
    {
     "name": "stdout",
     "output_type": "stream",
     "text": [
      "Estadísticas para las ultimas 15 observaciones: \n",
      "media: 459.2, \n",
      "mediana: 432.0 \n",
      "desviacion estandard: 75.29426715671431\n"
     ]
    }
   ],
   "source": [
    "mean = np.mean(ultimas_15['passengers'])\n",
    "median = np.median(ultimas_15['passengers'])\n",
    "desv = np.std(ultimas_15['passengers'])\n",
    "print(f'Estadísticas para las ultimas 15 observaciones: \\nmedia: {mean}, \\nmediana: {median} \\ndesviacion estandard: {desv}')"
   ]
  }
 ],
 "metadata": {
  "kernelspec": {
   "display_name": "Python 3 (ipykernel)",
   "language": "python",
   "name": "python3"
  },
  "language_info": {
   "codemirror_mode": {
    "name": "ipython",
    "version": 3
   },
   "file_extension": ".py",
   "mimetype": "text/x-python",
   "name": "python",
   "nbconvert_exporter": "python",
   "pygments_lexer": "ipython3",
   "version": "3.6.8"
  }
 },
 "nbformat": 4,
 "nbformat_minor": 5
}
