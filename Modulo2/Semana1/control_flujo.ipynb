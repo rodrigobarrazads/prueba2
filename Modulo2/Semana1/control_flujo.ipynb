{
 "cells": [
  {
   "cell_type": "markdown",
   "id": "57a28393",
   "metadata": {},
   "source": [
    "### REQUERIMIENTOS"
   ]
  },
  {
   "cell_type": "markdown",
   "id": "fbbf72c8",
   "metadata": {},
   "source": [
    "1. Generar un par de arrays ficticios con numpy."
   ]
  },
  {
   "cell_type": "code",
   "execution_count": 33,
   "id": "30c04122",
   "metadata": {},
   "outputs": [
    {
     "data": {
      "text/plain": [
       "array([ 1,  3,  6,  8, 11, 13, 16, 19, 21, 24, 26, 29, 31, 34, 37, 39, 42,\n",
       "       44, 47, 50])"
      ]
     },
     "metadata": {},
     "output_type": "display_data"
    },
    {
     "data": {
      "text/plain": [
       "array([ 50,  55,  60,  65,  71,  76,  81,  86,  92,  97, 102, 107, 113,\n",
       "       118, 123, 128, 134, 139, 144, 150])"
      ]
     },
     "metadata": {},
     "output_type": "display_data"
    }
   ],
   "source": [
    "import numpy as np\n",
    "\n",
    "cantidad = 20\n",
    "array1 = np.linspace(1, 50, cantidad).astype(int)\n",
    "array2 = np.linspace(50, 150, cantidad).astype(int)\n",
    "display(array1,array2)"
   ]
  },
  {
   "cell_type": "markdown",
   "id": "ab9af9b6",
   "metadata": {},
   "source": [
    "2. Ejecuta un loop que devuelva si el número en el primer array es par o impar."
   ]
  },
  {
   "cell_type": "code",
   "execution_count": 34,
   "id": "cf8d25d2",
   "metadata": {},
   "outputs": [
    {
     "name": "stdout",
     "output_type": "stream",
     "text": [
      "> El numero 1 es impar\n",
      "> El numero 3 es impar\n",
      "> El numero 6 es par\n",
      "> El numero 8 es par\n",
      "> El numero 11 es impar\n",
      "> El numero 13 es impar\n",
      "> El numero 16 es par\n",
      "> El numero 19 es impar\n",
      "> El numero 21 es impar\n",
      "> El numero 24 es par\n",
      "> El numero 26 es par\n",
      "> El numero 29 es impar\n",
      "> El numero 31 es impar\n",
      "> El numero 34 es par\n",
      "> El numero 37 es impar\n",
      "> El numero 39 es impar\n",
      "> El numero 42 es par\n",
      "> El numero 44 es par\n",
      "> El numero 47 es impar\n",
      "> El numero 50 es par\n"
     ]
    }
   ],
   "source": [
    "for num in array1:\n",
    "    if num%2 == 0:\n",
    "        print(f'> El numero {num} es par')\n",
    "    else: print(f'> El numero {num} es impar')"
   ]
  },
  {
   "cell_type": "markdown",
   "id": "4c473c8f",
   "metadata": {},
   "source": [
    "3. Genere un loop con el segundo array que cuente las siguientes condiciones:\n",
    "* Si el número es divisible por 2 o 3.\n",
    "* Si el número es divisible por 2 y 3.\n",
    "* Si el número es divisible por 3 pero no por 2.\n",
    "* si el número no es divisible por 2 ni 3.\n"
   ]
  },
  {
   "cell_type": "code",
   "execution_count": 38,
   "id": "b5986244",
   "metadata": {},
   "outputs": [
    {
     "data": {
      "text/plain": [
       "array([ 50,  55,  60,  65,  71,  76,  81,  86,  92,  97, 102, 107, 113,\n",
       "       118, 123, 128, 134, 139, 144, 150])"
      ]
     },
     "metadata": {},
     "output_type": "display_data"
    },
    {
     "name": "stdout",
     "output_type": "stream",
     "text": [
      "Numeros que son divisibles por 2 o 3: 13\n",
      "Numeros que son divisibles por 2 y 3: 4\n",
      "Numeros que son divisibles por 3 pero no por 2: 2\n",
      "Numeros que son divisibles por 2 ni 3: 7\n"
     ]
    }
   ],
   "source": [
    "display(array2)\n",
    "i,j,k,n = 0,0,0,0\n",
    "\n",
    "for num in array2:\n",
    "    if num%2 == 0 or num%3 == 0:\n",
    "        i+=1\n",
    "    if num%2 == 0 and num%3 == 0:\n",
    "        j+=1\n",
    "    if num%3 == 0 and num%2 != 0:\n",
    "        k+=1\n",
    "    if num%2 != 0 and num%3 !=0:\n",
    "        n+=1\n",
    "        \n",
    "print(f'Numeros que son divisibles por 2 o 3: {i}')\n",
    "print(f'Numeros que son divisibles por 2 y 3: {j}')\n",
    "print(f'Numeros que son divisibles por 3 pero no por 2: {k}')\n",
    "print(f'Numeros que son divisibles por 2 ni 3: {n}')"
   ]
  },
  {
   "cell_type": "markdown",
   "id": "820e3fff",
   "metadata": {},
   "source": [
    "4. Corrección de errores: Revisa el siguiente código y encuentra los errores a corregir."
   ]
  },
  {
   "cell_type": "code",
   "execution_count": null,
   "id": "ea76a41c",
   "metadata": {},
   "outputs": [],
   "source": [
    "for i in range(100):\n",
    "    print(I**2)"
   ]
  },
  {
   "cell_type": "markdown",
   "id": "f2eb5be4",
   "metadata": {},
   "source": [
    "El error se produce ya que **I** no esta definido, solo **i** esta definido"
   ]
  },
  {
   "cell_type": "markdown",
   "id": "49adeaab",
   "metadata": {},
   "source": [
    "5. Utilizando la misma base flights.csv debes hacer un loop y clasificar los meses con una cantidad de pasajeros menor a la media. Para ello:\n",
    "* Genera un nuevo objeto que represente la media de passengers.\n",
    "* Genera una columna en la base de datos que se llame underperforming y asígnele 0.\n",
    "* Ejecuta un loop que recorra cada observación de passengers, donde si la observación es menor a la media de passengers se le asigne a underperforming un 1.\n",
    "* Asignar unos en la columna underperforming ya creada, para ello utilice la función at de pandas."
   ]
  },
  {
   "cell_type": "code",
   "execution_count": 59,
   "id": "40dfe702",
   "metadata": {},
   "outputs": [
    {
     "data": {
      "text/html": [
       "<div>\n",
       "<style scoped>\n",
       "    .dataframe tbody tr th:only-of-type {\n",
       "        vertical-align: middle;\n",
       "    }\n",
       "\n",
       "    .dataframe tbody tr th {\n",
       "        vertical-align: top;\n",
       "    }\n",
       "\n",
       "    .dataframe thead th {\n",
       "        text-align: right;\n",
       "    }\n",
       "</style>\n",
       "<table border=\"1\" class=\"dataframe\">\n",
       "  <thead>\n",
       "    <tr style=\"text-align: right;\">\n",
       "      <th></th>\n",
       "      <th>year</th>\n",
       "      <th>month</th>\n",
       "      <th>passengers</th>\n",
       "      <th>underperforming</th>\n",
       "    </tr>\n",
       "  </thead>\n",
       "  <tbody>\n",
       "    <tr>\n",
       "      <th>0</th>\n",
       "      <td>1949</td>\n",
       "      <td>January</td>\n",
       "      <td>112</td>\n",
       "      <td>1</td>\n",
       "    </tr>\n",
       "    <tr>\n",
       "      <th>1</th>\n",
       "      <td>1949</td>\n",
       "      <td>February</td>\n",
       "      <td>118</td>\n",
       "      <td>1</td>\n",
       "    </tr>\n",
       "    <tr>\n",
       "      <th>2</th>\n",
       "      <td>1949</td>\n",
       "      <td>March</td>\n",
       "      <td>132</td>\n",
       "      <td>1</td>\n",
       "    </tr>\n",
       "    <tr>\n",
       "      <th>3</th>\n",
       "      <td>1949</td>\n",
       "      <td>April</td>\n",
       "      <td>129</td>\n",
       "      <td>1</td>\n",
       "    </tr>\n",
       "    <tr>\n",
       "      <th>4</th>\n",
       "      <td>1949</td>\n",
       "      <td>May</td>\n",
       "      <td>121</td>\n",
       "      <td>1</td>\n",
       "    </tr>\n",
       "    <tr>\n",
       "      <th>...</th>\n",
       "      <td>...</td>\n",
       "      <td>...</td>\n",
       "      <td>...</td>\n",
       "      <td>...</td>\n",
       "    </tr>\n",
       "    <tr>\n",
       "      <th>139</th>\n",
       "      <td>1960</td>\n",
       "      <td>August</td>\n",
       "      <td>606</td>\n",
       "      <td>0</td>\n",
       "    </tr>\n",
       "    <tr>\n",
       "      <th>140</th>\n",
       "      <td>1960</td>\n",
       "      <td>September</td>\n",
       "      <td>508</td>\n",
       "      <td>0</td>\n",
       "    </tr>\n",
       "    <tr>\n",
       "      <th>141</th>\n",
       "      <td>1960</td>\n",
       "      <td>October</td>\n",
       "      <td>461</td>\n",
       "      <td>0</td>\n",
       "    </tr>\n",
       "    <tr>\n",
       "      <th>142</th>\n",
       "      <td>1960</td>\n",
       "      <td>November</td>\n",
       "      <td>390</td>\n",
       "      <td>0</td>\n",
       "    </tr>\n",
       "    <tr>\n",
       "      <th>143</th>\n",
       "      <td>1960</td>\n",
       "      <td>December</td>\n",
       "      <td>432</td>\n",
       "      <td>0</td>\n",
       "    </tr>\n",
       "  </tbody>\n",
       "</table>\n",
       "<p>144 rows × 4 columns</p>\n",
       "</div>"
      ],
      "text/plain": [
       "     year      month  passengers  underperforming\n",
       "0    1949    January         112                1\n",
       "1    1949   February         118                1\n",
       "2    1949      March         132                1\n",
       "3    1949      April         129                1\n",
       "4    1949        May         121                1\n",
       "..    ...        ...         ...              ...\n",
       "139  1960     August         606                0\n",
       "140  1960  September         508                0\n",
       "141  1960    October         461                0\n",
       "142  1960   November         390                0\n",
       "143  1960   December         432                0\n",
       "\n",
       "[144 rows x 4 columns]"
      ]
     },
     "execution_count": 59,
     "metadata": {},
     "output_type": "execute_result"
    }
   ],
   "source": [
    "import pandas as pd\n",
    "\n",
    "#Guardamos el archivo flights\n",
    "df = pd.read_csv('flights.csv')\n",
    "\n",
    "#Obtenemos la media de los pasajeros\n",
    "mean = df['passengers'].mean()\n",
    "\n",
    "#Asignamos la nueva columna llamada underperforming y le asignamos 0\n",
    "df['underperforming'] = 0\n",
    "\n",
    "#Recorremos df con un loop para asignar un 1 a la columna underperforming segun criterio\n",
    "for index, value in df['passengers'].items():\n",
    "    if value < mean :\n",
    "        df.at[index,'underperforming'] = 1\n",
    "\n",
    "df\n",
    "#Mejor forma\n",
    "#df['underperforming'] = np.where(df['passengers']<mean, 1, 0)"
   ]
  },
  {
   "cell_type": "markdown",
   "id": "c9f20878",
   "metadata": {},
   "source": [
    "6. Por último, haz un loop que clasifique los meses donde la cantidad de pasajeros se escapa de la tendencia. Para ello:\n",
    "* Genera dos objetos que guarden la media general y la desviación estándar general de passengers.\n",
    "* Genera una nueva columna en la tabla de datos que se llame outlier y asígnale 0.\n",
    "* Ejecuta un loop que recorra cada observación de passengers, donde si la observación se escapa de la tendencia sea 1, de lo contrario 0.\n",
    "* Para clasificar los casos que se escapen la tendencia, la observación debe satisfacer una de las siguientes condiciones:\n",
    "  * La observación debe ser menor a la media menos la desviación estándar, o\n",
    "  - La observación debe ser mayor a la media más la desviación estándar.\n",
    "  * ¿Cuántas observaciones se pueden clasificar como casos extremos?"
   ]
  },
  {
   "cell_type": "code",
   "execution_count": 77,
   "id": "6974f9a6",
   "metadata": {},
   "outputs": [
    {
     "data": {
      "text/html": [
       "<div>\n",
       "<style scoped>\n",
       "    .dataframe tbody tr th:only-of-type {\n",
       "        vertical-align: middle;\n",
       "    }\n",
       "\n",
       "    .dataframe tbody tr th {\n",
       "        vertical-align: top;\n",
       "    }\n",
       "\n",
       "    .dataframe thead th {\n",
       "        text-align: right;\n",
       "    }\n",
       "</style>\n",
       "<table border=\"1\" class=\"dataframe\">\n",
       "  <thead>\n",
       "    <tr style=\"text-align: right;\">\n",
       "      <th></th>\n",
       "      <th>year</th>\n",
       "      <th>month</th>\n",
       "      <th>passengers</th>\n",
       "      <th>underperforming</th>\n",
       "      <th>outlier</th>\n",
       "    </tr>\n",
       "  </thead>\n",
       "  <tbody>\n",
       "    <tr>\n",
       "      <th>0</th>\n",
       "      <td>1949</td>\n",
       "      <td>January</td>\n",
       "      <td>112</td>\n",
       "      <td>1</td>\n",
       "      <td>1</td>\n",
       "    </tr>\n",
       "    <tr>\n",
       "      <th>1</th>\n",
       "      <td>1949</td>\n",
       "      <td>February</td>\n",
       "      <td>118</td>\n",
       "      <td>1</td>\n",
       "      <td>1</td>\n",
       "    </tr>\n",
       "    <tr>\n",
       "      <th>2</th>\n",
       "      <td>1949</td>\n",
       "      <td>March</td>\n",
       "      <td>132</td>\n",
       "      <td>1</td>\n",
       "      <td>1</td>\n",
       "    </tr>\n",
       "    <tr>\n",
       "      <th>3</th>\n",
       "      <td>1949</td>\n",
       "      <td>April</td>\n",
       "      <td>129</td>\n",
       "      <td>1</td>\n",
       "      <td>1</td>\n",
       "    </tr>\n",
       "    <tr>\n",
       "      <th>4</th>\n",
       "      <td>1949</td>\n",
       "      <td>May</td>\n",
       "      <td>121</td>\n",
       "      <td>1</td>\n",
       "      <td>1</td>\n",
       "    </tr>\n",
       "    <tr>\n",
       "      <th>...</th>\n",
       "      <td>...</td>\n",
       "      <td>...</td>\n",
       "      <td>...</td>\n",
       "      <td>...</td>\n",
       "      <td>...</td>\n",
       "    </tr>\n",
       "    <tr>\n",
       "      <th>139</th>\n",
       "      <td>1960</td>\n",
       "      <td>August</td>\n",
       "      <td>606</td>\n",
       "      <td>0</td>\n",
       "      <td>1</td>\n",
       "    </tr>\n",
       "    <tr>\n",
       "      <th>140</th>\n",
       "      <td>1960</td>\n",
       "      <td>September</td>\n",
       "      <td>508</td>\n",
       "      <td>0</td>\n",
       "      <td>1</td>\n",
       "    </tr>\n",
       "    <tr>\n",
       "      <th>141</th>\n",
       "      <td>1960</td>\n",
       "      <td>October</td>\n",
       "      <td>461</td>\n",
       "      <td>0</td>\n",
       "      <td>1</td>\n",
       "    </tr>\n",
       "    <tr>\n",
       "      <th>142</th>\n",
       "      <td>1960</td>\n",
       "      <td>November</td>\n",
       "      <td>390</td>\n",
       "      <td>0</td>\n",
       "      <td>0</td>\n",
       "    </tr>\n",
       "    <tr>\n",
       "      <th>143</th>\n",
       "      <td>1960</td>\n",
       "      <td>December</td>\n",
       "      <td>432</td>\n",
       "      <td>0</td>\n",
       "      <td>1</td>\n",
       "    </tr>\n",
       "  </tbody>\n",
       "</table>\n",
       "<p>144 rows × 5 columns</p>\n",
       "</div>"
      ],
      "text/plain": [
       "     year      month  passengers  underperforming  outlier\n",
       "0    1949    January         112                1        1\n",
       "1    1949   February         118                1        1\n",
       "2    1949      March         132                1        1\n",
       "3    1949      April         129                1        1\n",
       "4    1949        May         121                1        1\n",
       "..    ...        ...         ...              ...      ...\n",
       "139  1960     August         606                0        1\n",
       "140  1960  September         508                0        1\n",
       "141  1960    October         461                0        1\n",
       "142  1960   November         390                0        0\n",
       "143  1960   December         432                0        1\n",
       "\n",
       "[144 rows x 5 columns]"
      ]
     },
     "execution_count": 77,
     "metadata": {},
     "output_type": "execute_result"
    }
   ],
   "source": [
    "#Calculamos la media y desviacion estandar de la columna 'passengers'\n",
    "media = df['passengers'].mean()\n",
    "dev = df['passengers'].std()\n",
    "\n",
    "#Creamos la nueva columna outlier:\n",
    "df['outlier'] = 0\n",
    "\n",
    "#Generamos los limites tolerables de la distribucion\n",
    "limit_up = media + dev\n",
    "limit_down = media - dev\n",
    "\n",
    "#Generamos el loop para crear la clasificacion si se escapa o no de la tendencia\n",
    "for index, value in df['passengers'].items():\n",
    "    if value > limit_up or value < limit_down :\n",
    "    #if limit_down <= value <= limit_up :\n",
    "        df.at[index,'outlier'] = 1\n",
    "\n",
    "df"
   ]
  }
 ],
 "metadata": {
  "kernelspec": {
   "display_name": "Python 3 (ipykernel)",
   "language": "python",
   "name": "python3"
  },
  "language_info": {
   "codemirror_mode": {
    "name": "ipython",
    "version": 3
   },
   "file_extension": ".py",
   "mimetype": "text/x-python",
   "name": "python",
   "nbconvert_exporter": "python",
   "pygments_lexer": "ipython3",
   "version": "3.6.8"
  }
 },
 "nbformat": 4,
 "nbformat_minor": 5
}
