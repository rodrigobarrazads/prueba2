{
 "cells": [
  {
   "cell_type": "markdown",
   "id": "4ead8957",
   "metadata": {},
   "source": [
    "## <font color = 'green'>DESAFIO - CALCULANDO PROBABILIDADES</font>"
   ]
  },
  {
   "cell_type": "markdown",
   "id": "3c7cbb9d",
   "metadata": {},
   "source": [
    "<font color='green'>**Descripción**</font>\n",
    "\n",
    "Un amigo, al cual le gusta mucho el fútbol, tiene en mente poder crear una app de apuestas\n",
    "para el próximo mundial. Para ello, solicita tu ayuda como analista de datos de manera de\n",
    "poder trabajar con las probabilidades de victoria o derrota de los equipos, y que así él diseñe\n",
    "el resto de la app. Tú aceptas y ordenas el trabajo que debes realizar a partir de los\n",
    "siguientes requerimientos.\n",
    "\n",
    "<font color = 'green'> **Requerimientos** </font>\n",
    "\n",
    "1. **Lectura de archivos**\n",
    " * Importa `pandas` y `numpy` siguiendo las convenciones.\n",
    " * Lee la base de datos `worldcup2014.csv` y asígnela a un objeto df.\n",
    " * Solicita las primeras 5 observaciones con `head`."
   ]
  },
  {
   "cell_type": "code",
   "execution_count": 1,
   "id": "e7f52f3b",
   "metadata": {},
   "outputs": [
    {
     "data": {
      "text/html": [
       "<div>\n",
       "<style scoped>\n",
       "    .dataframe tbody tr th:only-of-type {\n",
       "        vertical-align: middle;\n",
       "    }\n",
       "\n",
       "    .dataframe tbody tr th {\n",
       "        vertical-align: top;\n",
       "    }\n",
       "\n",
       "    .dataframe thead th {\n",
       "        text-align: right;\n",
       "    }\n",
       "</style>\n",
       "<table border=\"1\" class=\"dataframe\">\n",
       "  <thead>\n",
       "    <tr style=\"text-align: right;\">\n",
       "      <th></th>\n",
       "      <th>team</th>\n",
       "      <th>continent</th>\n",
       "      <th>group</th>\n",
       "      <th>group_pos</th>\n",
       "      <th>cantidad_juegos</th>\n",
       "      <th>juegos_ganados</th>\n",
       "      <th>juegos_empatados</th>\n",
       "      <th>juegos_perdidos</th>\n",
       "      <th>goles_favor</th>\n",
       "      <th>goles_contra</th>\n",
       "      <th>goles_diferencia</th>\n",
       "      <th>puntos</th>\n",
       "      <th>clasificado</th>\n",
       "    </tr>\n",
       "  </thead>\n",
       "  <tbody>\n",
       "    <tr>\n",
       "      <th>0</th>\n",
       "      <td>Brazil</td>\n",
       "      <td>southamerica</td>\n",
       "      <td>A</td>\n",
       "      <td>1</td>\n",
       "      <td>3</td>\n",
       "      <td>2</td>\n",
       "      <td>1</td>\n",
       "      <td>0</td>\n",
       "      <td>7</td>\n",
       "      <td>2</td>\n",
       "      <td>5</td>\n",
       "      <td>7</td>\n",
       "      <td>1</td>\n",
       "    </tr>\n",
       "    <tr>\n",
       "      <th>1</th>\n",
       "      <td>Mexico</td>\n",
       "      <td>northamerica</td>\n",
       "      <td>A</td>\n",
       "      <td>2</td>\n",
       "      <td>3</td>\n",
       "      <td>2</td>\n",
       "      <td>1</td>\n",
       "      <td>0</td>\n",
       "      <td>4</td>\n",
       "      <td>1</td>\n",
       "      <td>3</td>\n",
       "      <td>7</td>\n",
       "      <td>1</td>\n",
       "    </tr>\n",
       "    <tr>\n",
       "      <th>2</th>\n",
       "      <td>Croatia</td>\n",
       "      <td>europe</td>\n",
       "      <td>A</td>\n",
       "      <td>3</td>\n",
       "      <td>3</td>\n",
       "      <td>1</td>\n",
       "      <td>0</td>\n",
       "      <td>2</td>\n",
       "      <td>6</td>\n",
       "      <td>6</td>\n",
       "      <td>0</td>\n",
       "      <td>3</td>\n",
       "      <td>0</td>\n",
       "    </tr>\n",
       "    <tr>\n",
       "      <th>3</th>\n",
       "      <td>Cameroon</td>\n",
       "      <td>africa</td>\n",
       "      <td>A</td>\n",
       "      <td>4</td>\n",
       "      <td>3</td>\n",
       "      <td>0</td>\n",
       "      <td>0</td>\n",
       "      <td>3</td>\n",
       "      <td>1</td>\n",
       "      <td>9</td>\n",
       "      <td>−8</td>\n",
       "      <td>0</td>\n",
       "      <td>0</td>\n",
       "    </tr>\n",
       "    <tr>\n",
       "      <th>4</th>\n",
       "      <td>Netherlands</td>\n",
       "      <td>europe</td>\n",
       "      <td>B</td>\n",
       "      <td>1</td>\n",
       "      <td>3</td>\n",
       "      <td>3</td>\n",
       "      <td>0</td>\n",
       "      <td>0</td>\n",
       "      <td>10</td>\n",
       "      <td>3</td>\n",
       "      <td>7</td>\n",
       "      <td>9</td>\n",
       "      <td>1</td>\n",
       "    </tr>\n",
       "  </tbody>\n",
       "</table>\n",
       "</div>"
      ],
      "text/plain": [
       "          team     continent group  group_pos  cantidad_juegos  \\\n",
       "0       Brazil  southamerica     A          1                3   \n",
       "1       Mexico  northamerica     A          2                3   \n",
       "2      Croatia        europe     A          3                3   \n",
       "3     Cameroon        africa     A          4                3   \n",
       "4  Netherlands        europe     B          1                3   \n",
       "\n",
       "   juegos_ganados  juegos_empatados  juegos_perdidos  goles_favor  \\\n",
       "0               2                 1                0            7   \n",
       "1               2                 1                0            4   \n",
       "2               1                 0                2            6   \n",
       "3               0                 0                3            1   \n",
       "4               3                 0                0           10   \n",
       "\n",
       "   goles_contra goles_diferencia  puntos  clasificado  \n",
       "0             2                5       7            1  \n",
       "1             1                3       7            1  \n",
       "2             6                0       3            0  \n",
       "3             9               −8       0            0  \n",
       "4             3                7       9            1  "
      ]
     },
     "execution_count": 1,
     "metadata": {},
     "output_type": "execute_result"
    }
   ],
   "source": [
    "#importamos pandas y numpy, y ademas cargamos los datos\n",
    "import pandas as pd\n",
    "import numpy as np\n",
    "\n",
    "df = pd.read_csv('worldcup2014.csv')\n",
    "\n",
    "df.head()"
   ]
  },
  {
   "cell_type": "code",
   "execution_count": 3,
   "id": "9c767bf3",
   "metadata": {},
   "outputs": [
    {
     "data": {
      "text/plain": [
       "team                0\n",
       "continent           0\n",
       "group               0\n",
       "group_pos           0\n",
       "cantidad_juegos     0\n",
       "juegos_ganados      0\n",
       "juegos_empatados    0\n",
       "juegos_perdidos     0\n",
       "goles_favor         0\n",
       "goles_contra        0\n",
       "goles_diferencia    0\n",
       "puntos              0\n",
       "clasificado         0\n",
       "dtype: int64"
      ]
     },
     "execution_count": 3,
     "metadata": {},
     "output_type": "execute_result"
    }
   ],
   "source": [
    "#Adicionalmente, revisamos si hay nan para trabajar sin nan\n",
    "df.isnull().sum()\n",
    "\n",
    "#No hay nulos en el dataframe"
   ]
  },
  {
   "cell_type": "markdown",
   "id": "4ed786ab",
   "metadata": {},
   "source": [
    "2. **Frecuencia de continent**: utilizando `value_counts` responde lo siguiente:\n",
    " * ¿Cuál es el continente con una mayor presencia en la muestra?\n",
    " * ¿Cuál es la probabilidad de elegir un equipo asiático al azar?\n",
    " * ¿Cuál es la probabilidad de elegir un equipo africano al azar?\n"
   ]
  },
  {
   "cell_type": "code",
   "execution_count": 24,
   "id": "6af5c5b8",
   "metadata": {},
   "outputs": [
    {
     "name": "stdout",
     "output_type": "stream",
     "text": [
      "El continente con mayor presencia en la muestra es europe, con una frecuencia de 13\n",
      "La probabilidad de escoger un equipo asiatico al azar es de 12.50%\n",
      "La probabilidad de escoger un equipo africano al azar es de 15.62%\n"
     ]
    }
   ],
   "source": [
    "#Guardamos tanto el nombre del continente con mayor frecuencia, como fu frecuencia\n",
    "continent = df['continent'].value_counts().index[0]\n",
    "frec = df['continent'].value_counts()[0]\n",
    "\n",
    "print(f'El continente con mayor presencia en la muestra es {continent}, con una frecuencia de {frec}')\n",
    "\n",
    "#Obtenemos las probabilidades\n",
    "prob_continent = df['continent'].value_counts(normalize = True)\n",
    "\n",
    "prob_asia = prob_continent.get('asia')\n",
    "prob_africa = prob_continent.get('africa')\n",
    "\n",
    "#Imprimimos resultados\n",
    "print(f'La probabilidad de escoger un equipo asiatico al azar es de {prob_asia*100:.2f}%')\n",
    "print(f'La probabilidad de escoger un equipo africano al azar es de {prob_africa*100:.2f}%')"
   ]
  },
  {
   "cell_type": "markdown",
   "id": "4b8d543e",
   "metadata": {},
   "source": [
    "3. **Generación de un subconjunto de datos**: por cada continente, genere un nuevo objeto que almacene sólo las observaciones del continente.\n"
   ]
  },
  {
   "cell_type": "code",
   "execution_count": 9,
   "id": "a99a8218",
   "metadata": {},
   "outputs": [
    {
     "data": {
      "text/plain": [
       "[         team     continent group  group_pos  cantidad_juegos  juegos_ganados  \\\n",
       " 0      Brazil  southamerica     A          1                3               2   \n",
       " 5       Chile  southamerica     B          2                3               2   \n",
       " 8    Colombia  southamerica     C          1                3               3   \n",
       " 13    Uruguay  southamerica     D          2                3               2   \n",
       " 18    Ecuador  southamerica     E          3                3               1   \n",
       " 20  Argentina  southamerica     F          1                3               3   \n",
       " \n",
       "     juegos_empatados  juegos_perdidos  goles_favor  goles_contra  \\\n",
       " 0                  1                0            7             2   \n",
       " 5                  0                1            5             3   \n",
       " 8                  0                0            9             2   \n",
       " 13                 0                1            4             4   \n",
       " 18                 1                1            3             3   \n",
       " 20                 0                0            6             3   \n",
       " \n",
       "    goles_diferencia  puntos  clasificado  \n",
       " 0                 5       7            1  \n",
       " 5                 2       6            1  \n",
       " 8                 7       9            1  \n",
       " 13                0       6            1  \n",
       " 18                0       4            0  \n",
       " 20                3       9            1  ,\n",
       "              team     continent group  group_pos  cantidad_juegos  \\\n",
       " 1          Mexico  northamerica     A          2                3   \n",
       " 12     Costa Rica  northamerica     D          1                3   \n",
       " 19       Honduras  northamerica     E          4                3   \n",
       " 25  United States  northamerica     G          2                3   \n",
       " \n",
       "     juegos_ganados  juegos_empatados  juegos_perdidos  goles_favor  \\\n",
       " 1                2                 1                0            4   \n",
       " 12               2                 1                0            4   \n",
       " 19               0                 0                3            1   \n",
       " 25               1                 1                1            4   \n",
       " \n",
       "     goles_contra goles_diferencia  puntos  clasificado  \n",
       " 1              1                3       7            1  \n",
       " 12             1                3       7            1  \n",
       " 19             8               −7       0            0  \n",
       " 25             4                0       4            1  ,\n",
       "                       team continent group  group_pos  cantidad_juegos  \\\n",
       " 2                  Croatia    europe     A          3                3   \n",
       " 4              Netherlands    europe     B          1                3   \n",
       " 6                    Spain    europe     B          3                3   \n",
       " 9                   Greece    europe     C          2                3   \n",
       " 14                   Italy    europe     D          3                3   \n",
       " 15                 England    europe     D          4                3   \n",
       " 16                  France    europe     E          1                3   \n",
       " 17             Switzerland    europe     E          2                3   \n",
       " 22  Bosnia and Herzegovina    europe     F          3                3   \n",
       " 24                 Germany    europe     G          1                3   \n",
       " 26                Portugal    europe     G          3                3   \n",
       " 28                 Belgium    europe     H          1                3   \n",
       " 30                  Russia    europe     H          3                3   \n",
       " \n",
       "     juegos_ganados  juegos_empatados  juegos_perdidos  goles_favor  \\\n",
       " 2                1                 0                2            6   \n",
       " 4                3                 0                0           10   \n",
       " 6                1                 0                2            4   \n",
       " 9                1                 1                1            2   \n",
       " 14               1                 0                2            2   \n",
       " 15               0                 1                2            2   \n",
       " 16               2                 1                0            8   \n",
       " 17               2                 0                1            7   \n",
       " 22               1                 0                2            4   \n",
       " 24               2                 1                0            7   \n",
       " 26               1                 1                1            4   \n",
       " 28               3                 0                0            4   \n",
       " 30               0                 2                1            2   \n",
       " \n",
       "     goles_contra goles_diferencia  puntos  clasificado  \n",
       " 2              6                0       3            0  \n",
       " 4              3                7       9            1  \n",
       " 6              7               −3       3            0  \n",
       " 9              4               −2       4            1  \n",
       " 14             3               −1       3            0  \n",
       " 15             4               −2       1            0  \n",
       " 16             2                6       7            1  \n",
       " 17             6                1       6            1  \n",
       " 22             4                0       3            0  \n",
       " 24             2                5       7            1  \n",
       " 26             7               −3       4            0  \n",
       " 28             1                3       9            1  \n",
       " 30             3               −1       2            0  ,\n",
       "            team continent group  group_pos  cantidad_juegos  juegos_ganados  \\\n",
       " 3      Cameroon    africa     A          4                3               0   \n",
       " 10  Ivory Coast    africa     C          3                3               1   \n",
       " 21      Nigeria    africa     F          2                3               1   \n",
       " 27        Ghana    africa     G          4                3               0   \n",
       " 29      Algeria    africa     H          2                3               1   \n",
       " \n",
       "     juegos_empatados  juegos_perdidos  goles_favor  goles_contra  \\\n",
       " 3                  0                3            1             9   \n",
       " 10                 0                2            4             5   \n",
       " 21                 1                1            3             3   \n",
       " 27                 1                2            4             6   \n",
       " 29                 1                1            6             5   \n",
       " \n",
       "    goles_diferencia  puntos  clasificado  \n",
       " 3                −8       0            0  \n",
       " 10               −1       3            0  \n",
       " 21                0       4            1  \n",
       " 27               −2       1            0  \n",
       " 29                1       4            1  ,\n",
       "            team continent group  group_pos  cantidad_juegos  juegos_ganados  \\\n",
       " 7     Australia      asia     B          4                3               0   \n",
       " 11        Japan      asia     C          4                3               0   \n",
       " 23         Iran      asia     F          4                3               0   \n",
       " 31  South Korea      asia     H          4                3               0   \n",
       " \n",
       "     juegos_empatados  juegos_perdidos  goles_favor  goles_contra  \\\n",
       " 7                  0                3            3             9   \n",
       " 11                 1                2            2             6   \n",
       " 23                 1                2            1             4   \n",
       " 31                 1                2            3             6   \n",
       " \n",
       "    goles_diferencia  puntos  clasificado  \n",
       " 7                −6       0            0  \n",
       " 11               −4       1            0  \n",
       " 23               −3       1            0  \n",
       " 31               −3       1            0  ]"
      ]
     },
     "execution_count": 9,
     "metadata": {},
     "output_type": "execute_result"
    }
   ],
   "source": [
    "#obtenemos los distintios continentes\n",
    "continent = df['continent'].unique()\n",
    "\n",
    "#Iteramos y guardamos cada dataframe como un elemento de la lista\n",
    "lista_df = [df[df['continent'] == i] for i in continent]\n",
    "lista_df"
   ]
  },
  {
   "cell_type": "markdown",
   "id": "4e14519b",
   "metadata": {},
   "source": [
    "4. **Probabilidad de clasificación a la siguiente ronda**: calcula la probabilidad de que un país pase a la siguiente ronda (clasifique) por continente.\n",
    " * ¿Cuál es la probabilidad de que un país asiático pase a la siguiente ronda?\n",
    " * ¿Cuáles son los dos continentes con la mayor probabilidad de clasificar?\n",
    " * ¿Cuál es la probabilidad de que un país europeo no clasifique?"
   ]
  },
  {
   "cell_type": "code",
   "execution_count": 61,
   "id": "269f10bd",
   "metadata": {},
   "outputs": [
    {
     "data": {
      "text/plain": [
       "continent     clasificado\n",
       "asia          0              1.000000\n",
       "southamerica  1              0.833333\n",
       "northamerica  1              0.750000\n",
       "africa        0              0.600000\n",
       "europe        0              0.538462\n",
       "              1              0.461538\n",
       "africa        1              0.400000\n",
       "northamerica  0              0.250000\n",
       "southamerica  0              0.166667\n",
       "Name: clasificado, dtype: float64"
      ]
     },
     "metadata": {},
     "output_type": "display_data"
    },
    {
     "data": {
      "text/plain": [
       "0.8333333333333334"
      ]
     },
     "execution_count": 61,
     "metadata": {},
     "output_type": "execute_result"
    }
   ],
   "source": [
    "#Agrupamos por continente y obtenemos los % de clasificacion por cliente\n",
    "df_group = df.groupby(['continent'])['clasificado'].value_counts(normalize = True).sort_values(ascending=False)\n",
    "display(df_group)\n",
    "\n",
    "preg1 = df_group.get('asia').get(0)-1\n",
    "preg2 = df_group.get(1)\n",
    "preg3 = df_group.get('europe').get(0)\n",
    "preg2"
   ]
  },
  {
   "cell_type": "code",
   "execution_count": 57,
   "id": "d20b28d2",
   "metadata": {},
   "outputs": [
    {
     "name": "stdout",
     "output_type": "stream",
     "text": [
      "\n",
      "La probabilidad que un pais asiatico pase a la siguiente ronda es del 0.0%.\n",
      "Los dos continentes con mayor probabilidad de clasificar son southamerica y northamerica con un 83,3% y 75% respectivamente.\n",
      "La probabilidad que un país europeo no clasifique es del 53.85%\n",
      "\n"
     ]
    }
   ],
   "source": [
    "print(f'''\n",
    "La probabilidad que un pais asiatico pase a la siguiente ronda es del {preg1}%.\n",
    "Los dos continentes con mayor probabilidad de clasificar son southamerica y northamerica con un 83,3% y 75% respectivamente.\n",
    "La probabilidad que un país europeo no clasifique es del {preg3*100:.2f}%\n",
    "''')"
   ]
  },
  {
   "cell_type": "markdown",
   "id": "3bb3f6e3",
   "metadata": {},
   "source": [
    "5. **Probabilidad de victoria y derrota**: se pide utilizar `value_counts` para calcular la probabilidad de que un continente contenga países con o sin victorias. Para ello crea una columna adicional llamada `'ha_ganado'` que contenga un 0 si es que un país no tiene juegos ganados y un 1 si es que ha ganado al menos un juego."
   ]
  },
  {
   "cell_type": "code",
   "execution_count": 64,
   "id": "35c47810",
   "metadata": {},
   "outputs": [
    {
     "data": {
      "text/html": [
       "<div>\n",
       "<style scoped>\n",
       "    .dataframe tbody tr th:only-of-type {\n",
       "        vertical-align: middle;\n",
       "    }\n",
       "\n",
       "    .dataframe tbody tr th {\n",
       "        vertical-align: top;\n",
       "    }\n",
       "\n",
       "    .dataframe thead th {\n",
       "        text-align: right;\n",
       "    }\n",
       "</style>\n",
       "<table border=\"1\" class=\"dataframe\">\n",
       "  <thead>\n",
       "    <tr style=\"text-align: right;\">\n",
       "      <th></th>\n",
       "      <th>team</th>\n",
       "      <th>continent</th>\n",
       "      <th>group</th>\n",
       "      <th>group_pos</th>\n",
       "      <th>cantidad_juegos</th>\n",
       "      <th>juegos_ganados</th>\n",
       "      <th>juegos_empatados</th>\n",
       "      <th>juegos_perdidos</th>\n",
       "      <th>goles_favor</th>\n",
       "      <th>goles_contra</th>\n",
       "      <th>goles_diferencia</th>\n",
       "      <th>puntos</th>\n",
       "      <th>clasificado</th>\n",
       "      <th>ha_ganado</th>\n",
       "    </tr>\n",
       "  </thead>\n",
       "  <tbody>\n",
       "    <tr>\n",
       "      <th>0</th>\n",
       "      <td>Brazil</td>\n",
       "      <td>southamerica</td>\n",
       "      <td>A</td>\n",
       "      <td>1</td>\n",
       "      <td>3</td>\n",
       "      <td>2</td>\n",
       "      <td>1</td>\n",
       "      <td>0</td>\n",
       "      <td>7</td>\n",
       "      <td>2</td>\n",
       "      <td>5</td>\n",
       "      <td>7</td>\n",
       "      <td>1</td>\n",
       "      <td>1</td>\n",
       "    </tr>\n",
       "    <tr>\n",
       "      <th>1</th>\n",
       "      <td>Mexico</td>\n",
       "      <td>northamerica</td>\n",
       "      <td>A</td>\n",
       "      <td>2</td>\n",
       "      <td>3</td>\n",
       "      <td>2</td>\n",
       "      <td>1</td>\n",
       "      <td>0</td>\n",
       "      <td>4</td>\n",
       "      <td>1</td>\n",
       "      <td>3</td>\n",
       "      <td>7</td>\n",
       "      <td>1</td>\n",
       "      <td>1</td>\n",
       "    </tr>\n",
       "    <tr>\n",
       "      <th>2</th>\n",
       "      <td>Croatia</td>\n",
       "      <td>europe</td>\n",
       "      <td>A</td>\n",
       "      <td>3</td>\n",
       "      <td>3</td>\n",
       "      <td>1</td>\n",
       "      <td>0</td>\n",
       "      <td>2</td>\n",
       "      <td>6</td>\n",
       "      <td>6</td>\n",
       "      <td>0</td>\n",
       "      <td>3</td>\n",
       "      <td>0</td>\n",
       "      <td>1</td>\n",
       "    </tr>\n",
       "    <tr>\n",
       "      <th>3</th>\n",
       "      <td>Cameroon</td>\n",
       "      <td>africa</td>\n",
       "      <td>A</td>\n",
       "      <td>4</td>\n",
       "      <td>3</td>\n",
       "      <td>0</td>\n",
       "      <td>0</td>\n",
       "      <td>3</td>\n",
       "      <td>1</td>\n",
       "      <td>9</td>\n",
       "      <td>−8</td>\n",
       "      <td>0</td>\n",
       "      <td>0</td>\n",
       "      <td>0</td>\n",
       "    </tr>\n",
       "    <tr>\n",
       "      <th>4</th>\n",
       "      <td>Netherlands</td>\n",
       "      <td>europe</td>\n",
       "      <td>B</td>\n",
       "      <td>1</td>\n",
       "      <td>3</td>\n",
       "      <td>3</td>\n",
       "      <td>0</td>\n",
       "      <td>0</td>\n",
       "      <td>10</td>\n",
       "      <td>3</td>\n",
       "      <td>7</td>\n",
       "      <td>9</td>\n",
       "      <td>1</td>\n",
       "      <td>1</td>\n",
       "    </tr>\n",
       "  </tbody>\n",
       "</table>\n",
       "</div>"
      ],
      "text/plain": [
       "          team     continent group  group_pos  cantidad_juegos  \\\n",
       "0       Brazil  southamerica     A          1                3   \n",
       "1       Mexico  northamerica     A          2                3   \n",
       "2      Croatia        europe     A          3                3   \n",
       "3     Cameroon        africa     A          4                3   \n",
       "4  Netherlands        europe     B          1                3   \n",
       "\n",
       "   juegos_ganados  juegos_empatados  juegos_perdidos  goles_favor  \\\n",
       "0               2                 1                0            7   \n",
       "1               2                 1                0            4   \n",
       "2               1                 0                2            6   \n",
       "3               0                 0                3            1   \n",
       "4               3                 0                0           10   \n",
       "\n",
       "   goles_contra goles_diferencia  puntos  clasificado  ha_ganado  \n",
       "0             2                5       7            1          1  \n",
       "1             1                3       7            1          1  \n",
       "2             6                0       3            0          1  \n",
       "3             9               −8       0            0          0  \n",
       "4             3                7       9            1          1  "
      ]
     },
     "execution_count": 64,
     "metadata": {},
     "output_type": "execute_result"
    }
   ],
   "source": [
    "df['ha_ganado'] = np.where(df['juegos_ganados'] > 0, 1, 0)\n",
    "df.head()"
   ]
  },
  {
   "cell_type": "markdown",
   "id": "3a8badcc",
   "metadata": {},
   "source": [
    "* Con base en el resultado del procedimiento recién descrito, responda lo siguiente:\n",
    " * A) ¿Qué continente tiene la mayor probabilidad de tener países con al menos 1 victoria?\n",
    " * B) ¿Qué continente tiene un nivel similar entre países que tienen o no tienen victorias?\n",
    "* Reformule el código para juegos perdidos y analice los continentes con mayor probabilidad de tener países sin juegos perdidos."
   ]
  },
  {
   "cell_type": "code",
   "execution_count": 66,
   "id": "f7f44c68",
   "metadata": {},
   "outputs": [
    {
     "data": {
      "text/plain": [
       "continent     ha_ganado\n",
       "africa        1            0.600000\n",
       "              0            0.400000\n",
       "asia          0            1.000000\n",
       "europe        1            0.846154\n",
       "              0            0.153846\n",
       "northamerica  1            0.750000\n",
       "              0            0.250000\n",
       "southamerica  1            1.000000\n",
       "Name: ha_ganado, dtype: float64"
      ]
     },
     "execution_count": 66,
     "metadata": {},
     "output_type": "execute_result"
    }
   ],
   "source": [
    "df.groupby(['continent'])['ha_ganado'].value_counts(normalize = True)"
   ]
  },
  {
   "cell_type": "markdown",
   "id": "f4394328",
   "metadata": {},
   "source": [
    "**¿Qué continente tiene la mayor probabilidad de tener países con al menos 1 victoria?**\n",
    "\n",
    "**R:** <font color='green'>southamerica con un 100%</font>"
   ]
  },
  {
   "cell_type": "markdown",
   "id": "6401e00f",
   "metadata": {},
   "source": [
    "**¿Qué continente tiene un nivel similar entre países que tienen o no tienen victorias?**\n",
    "\n",
    "**R:** <font color='green'>africa con un 60% y 40% </font>"
   ]
  },
  {
   "cell_type": "code",
   "execution_count": 76,
   "id": "ce69483c",
   "metadata": {},
   "outputs": [
    {
     "data": {
      "text/plain": [
       "continent     ha_perdido\n",
       "africa        1             1.000000\n",
       "asia          1             1.000000\n",
       "europe        1             0.692308\n",
       "              0             0.307692\n",
       "northamerica  0             0.500000\n",
       "              1             0.500000\n",
       "southamerica  0             0.500000\n",
       "              1             0.500000\n",
       "Name: ha_perdido, dtype: float64"
      ]
     },
     "execution_count": 76,
     "metadata": {},
     "output_type": "execute_result"
    }
   ],
   "source": [
    "df['ha_perdido'] = np.where(df['juegos_perdidos'] != 0, 1, 0)\n",
    "df.groupby(['continent'])['ha_perdido'].value_counts(normalize = True)"
   ]
  },
  {
   "cell_type": "markdown",
   "id": "cf1ab26e",
   "metadata": {},
   "source": [
    "**Reformule el código para juegos perdidos y analice los continentes con mayor probabilidad de tener países sin juegos perdidos**\n",
    "\n",
    "**R:** <font color='green'>southamerica y northamerica con un 50% de paises sin juegos perdidos </font>"
   ]
  }
 ],
 "metadata": {
  "kernelspec": {
   "display_name": "Python 3 (ipykernel)",
   "language": "python",
   "name": "python3"
  },
  "language_info": {
   "codemirror_mode": {
    "name": "ipython",
    "version": 3
   },
   "file_extension": ".py",
   "mimetype": "text/x-python",
   "name": "python",
   "nbconvert_exporter": "python",
   "pygments_lexer": "ipython3",
   "version": "3.9.12"
  },
  "vscode": {
   "interpreter": {
    "hash": "3bdfc9259a895d0928a4ae2f6847af189aa6726de5ec3e388785c2fb28cb2e34"
   }
  }
 },
 "nbformat": 4,
 "nbformat_minor": 5
}
