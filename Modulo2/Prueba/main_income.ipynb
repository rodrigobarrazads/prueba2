{
 "cells": [
  {
   "cell_type": "markdown",
   "metadata": {},
   "source": [
    "<h1 style=\"text-align: center;\"><font color='green'>Desafío 1 - Determinantes del ingreso</font></h1>\n",
    "\n",
    "## <font color='green'>Descripción</font>\n",
    "\n",
    "Usted trabaja para un organismo no gubernamental que está interesado en las dinámicas\n",
    "socioeconómicas que determinan la desigualdad de ingreso y la erradicación de la pobreza\n",
    "extrema, enmarcado dentro de los objetivos del desarrollo del nuevo milenio del Programa\n",
    "de las Naciones Unidas para el Desarrollo.\n",
    "\n",
    "Le encomiendan el desarrollo de un modelo predictivo sobre la probabilidad que un individuo\n",
    "presente salarios por sobre o bajo los 50.000 dólares anuales, en base a una serie de\n",
    "atributos sociodemográficos.\n"
   ]
  },
  {
   "cell_type": "markdown",
   "metadata": {},
   "source": [
    "## <font color='green'>Descripción de la base de datos</font>\n",
    "\n",
    "Para desarrollar este desafío se debe utilizar la base de datos `income-db.csv`.\n",
    "Las variables que componen esta base se detallan a continuación:\n",
    "\n",
    "- `age`: Edad del individuo.\n",
    "- `workclass`: Naturaleza de la organización que emplea al individuo.\n",
    "- `education`: Nivel educacional del individuo:Bachelors (Licenciado), Some-college (Superior incompleta), 11th (3ro medio), HS-grad (Secundaria completa), Prof-school (Escuela profesional), Assoc-acdm (Técnico superior administrativo) , Assoc-voc Técnico superior vocacional), 9th (1ro medio), 7th-8th (7mo-8vo), 12th (4to medio), Masters (Maestría de postgrado), 1st-4th (1ro-4to básico), 10th(2do medio), Doctorate (Doctorado), 5th-6th (5to-6to), Preschool (Preescolar).\n",
    "- `capital-gains`: Ingresos generados por inversiones fuera del trabajo asalariado = Ingresos generados por inversiones fuera del trabajo asalariado.\n",
    "- `capital-losses`: Pérdidas generadas por inversiones fuera del trabajo asalariado.\n",
    "- `fnlwgt`: Ponderador muestral.\n",
    "- `marital-status`: Estado civil del individuo: Married-civ-spouse (Casado/a régimen civil), Divorced (Divorciado/a), Never married (Soltero/a), Separated (Separado/a), Widowed (Viudo/a), Married-spouse-absent (Casado con esposo/a ausente), Married AF-spouse (Casado/a régimen castrense).\n",
    "- `occupation`: Ocupación del individuo: Tech-support (Soporte técnico), Craft-repair (Reparaciones), Other-service (Otros servicios), Sales (Ventas), Exec-managerial (Ejecutivo administrativos), Prof-specialty (Profesores), Handlers-cleaners (Aseo y ornato), Machine-op-inspct (Inspectores de maquinarias), Adm-clerical (Administrativos servicio al cliente), Farming-fishing (Pesca-ganadería), Transport-moving (Transporte), Priv-house-serv (Asesor del hogar), Protective-serv (servicios de seguridad), Armed-Forces (Fuerzas armadas).\n",
    "- `relationship`: Relación respecto a su familia Wife(Esposa), Own-child (hijo único), Husband (Esposo), Not-in-family (No pertenece a la familia), Other-relative (Familiar de otro tipo), Unmarried (Soltero).\n",
    "- `race`: Raza del encuestado White(Blanco caucásico), Asian-Pac-Islander (Isleño del Asia Pacífico), Amer-Indian-Eskimo (Pertenenciente a pueblos originarios), Other (Otro grupo), Black (Afroamericano).\n",
    "- `sex`: Sexo del encuestado.\n",
    "- `hours-per-week`: Cantidad de horas trabajadas por semana.\n",
    "- `native-country`: País de origen. United-States, Cambodia, England, Puerto-Rico, anada, Germany, Outlying-US(Guam-USVI-etc), India, Japan, Greece, South, China, Cuba, Iran, Honduras, Philippines, Italy, Poland, Jamaica, Vietnam, Mexico, Portugal, Ireland, France, Dominican-Republic, Laos, Ecuador, Taiwan, Haiti, Columbia, Hungary, Guatemala, Nicaragua, Scotland, Thailand, Yugoslavia, El-Salvador, Trinadad&Tobago, Peru, Hong, Holand-Netherlands.\n",
    "- `income`: <=50K Si el individuo percibe ingresos inferiores a 50.000 dólares anuales, >50K si el individuo percibe ingresos superiores a 50.000 dólares anuales. **Este es su vector objetivo**"
   ]
  },
  {
   "cell_type": "markdown",
   "metadata": {},
   "source": [
    "## <font color='green'>Aspectos adicionales a considerar</font>\n",
    "- La base de datos contiene los valores perdidos como `?`. Deberá transformarlos para poder trabajar de forma adecuada.\n",
    "- Desde la organización le sugieren que debe recodificar las siguientes variables acorde a las siguientes nomenclaturas:\n",
    "    - `occupation` debe recodificarse como collars siguiendo una nomenclatura similar a:\n",
    "        - `white-collar` ← Prof-specialty, Exec-managerial, Adm-clerical, Sales, Tech-support.\n",
    "        - `blue-collar` ← Craft-repair, Machine-op-inspct, Transport-moving, Handlers-cleaners, Farming-fishing, Protective-serv, Priv-house-serv.\n",
    "        - `others` ← Other-service, Armed-Forces.\n",
    "    - `workclass` debe recodificarse como workclass_recod siguiendo una nomenclatura similar a :\n",
    "        - `federal-gov` ← Federal-gov.\n",
    "        - `state-level-gov` ← State-gov, Local-gov.\n",
    "        - `self-employed` ← Self-emp-inc, Self-emp-not-inc\n",
    "        - `unemployed` ← Never-worked, Without-pay.\n",
    "    - `education` debe recodificarse como educ_recod siguiendo una nomenclatura similar a :\n",
    "        - `preschool` ← Preschool\n",
    "        - `elementary-school` ← 1st-4th, 5th-6th\n",
    "        - `high-school` ← 7th-8th, 9th, 10th,11th, 12th, HS-grad\n",
    "        - `college` ← Assoc-voc, Assoc-acdm, Some-college\n",
    "        - `university` ← Bachelors, Masters, Prof-school, Doctorate.\n",
    "    - `marital-status` debe recodificarse como `civstatus` siguiendo una nomenclatura similar a :\n",
    "        - `married` ← Married-civ-spouse, Married-spouse-absent, Married-AF-spouse.\n",
    "        - `divorced` ← Divorced.\n",
    "        - `separated` ← Separated.\n",
    "        - `widowed` ← Widowed.\n",
    "    - `native-country` debe recodificarse como region donde cada país debe asignarse a uno de los 5 continentes.\n",
    "    - `income` debe recodificarse de forma binaria."
   ]
  },
  {
   "cell_type": "markdown",
   "metadata": {},
   "source": [
    "## <font color='green'>**Hito 1: Preliminares**</font>"
   ]
  },
  {
   "cell_type": "markdown",
   "metadata": {},
   "source": [
    "#### **<font color='green'>Entendimiento del problema</font>**\n",
    "\n",
    "Nuestra misión es poder contribuir en los objetivos desarrollo del nuevo milenio del programa de las Naciones Unidas con el fin de poder erradicar la pobreza extrema. Por este motivo, es trasendental contar con las variables indicadas que nos permitan modelar el fenómeno encomendado. \n",
    "\n",
    "Dado que debemos predecir si un individuo gana o no por sobre cierto umbral anual, es necesario tener a disposiciones variables que tengan que ver con la descripcion ensí de la persona. Afortunadamente, contamos con dichas variables, como son la edad del indiviuo, su nivel educacional, su estado civil, ocupacion, etnia, pais y sexo. \n",
    "\n",
    "Por otro lado, tambien debemos contar con variables que tengan relacion con lo economico de la persona, ya que si vamos a modelar si un persona gana o no sobre cierta cantidad de dinero, es indispensable contar con este tipo de variables. Nuevamente, contamos con dichas variables para poder describir a los individuos en lo economico, como lo son las variables `workclass`, `capital-gains`, `capital-losses`, `hours-per-week` y por ultimo la variable más importante, que es el ingreso anual en dolares del individuo, que nos permitirá  poder realizar el analisis supervisado.\n",
    "\n",
    "Dicho lo anterior, a priori contamos con muy buenas variables para poder desarrollar nuestro objetivo, lo cual siempre queda sujeto a la calidad del dato propiamente tal.\n",
    "\n",
    "Por ultimo, mencionar que dentro de nuestras variables existe una el cual no poseemos mucha informacion de su real significado que es `fnlwgt`, ya que su descripcion no dice mucho y no entrega información de qué se trata ese ponderador muestral."
   ]
  },
  {
   "cell_type": "markdown",
   "metadata": {},
   "source": [
    "#### **<font color='green'>Distinción del problema</font>**\n",
    "\n",
    "Dado que nos encomiendan poder predecir la probabilidad que un individuo presente salarios por sobre o bajo USD \\$50.000, claramente nos encontramos bajo un problema de clasificación, ya que la naturaleza del problema es poder predecir si es que cierto individuo gana más o menos que cierto umbral definido (por lo que es una prediccion binaria). Para esto, ocuparemos una regresion logistica, donde el método de estimación será el de máxima verosimilitud . Según la descripción de la base de datos, nuestra variable objetivo (target) es la variable llamada `income` y debemos recodificarla con valores `1` y `0` dependiendo si el individuo tiene ingresos anuales mayores o menores a USD \\$50.000.\n",
    "\n",
    "Además, para implementar dicho modelo de regresión logistica, se ocupará la funcion `LogisticRegression` de la libreria `sklearn`."
   ]
  },
  {
   "cell_type": "markdown",
   "metadata": {},
   "source": [
    "#### **<font color='green'>Justificación de métricas de evaluación</font>**\n",
    "\n",
    "Como nos encontramos frente a un problema de clasificaión, debemos ocupar métricas que esten asociadas a problemas de clasificación. Ahora, dependiendo que tan balanceado esten las categorias de nuestro target, es que ocuparemos diferentes metricas para evaluar nuestro modelo y predicciones.\n",
    "\n",
    "- Si nuestra variable objetivo no presenta problemas de desbalanceo, ocuparemos las siguientes métricas:\n",
    "    - `accuracy` \n",
    "    - `precision`\n",
    "    - `curva ROC y AUC`\n",
    "- Si nuestra variable objetivo presenta problemas de desbalanceo, ocuparemos las siguientes métricas\n",
    "    - `precision`\n",
    "    - `recall`\n",
    "    - `f1-score`\n",
    "\n",
    "Todas estas metricas se obtendran de la librería `sklearn`."
   ]
  },
  {
   "cell_type": "markdown",
   "metadata": {},
   "source": [
    "#### **<font color='green'>Librerías a utilizar</font>**\n",
    "\n",
    "Se utilizarán las principales librerías para el analisis de datos vistas durante el modulo, las cualers son:\n",
    "\n",
    "- `pandas` y `numpy`: Para la manipulacion de datos, junto con la recodificación y el filtrado de estos.\n",
    "- `statsmodels`: Esta Libreria nos permite trabajar (en terminos econométricos) con modelos lineales, en nuestro caso la regresión logística.\n",
    "- `matplotlib` y `seaborn`: Es una libreria que nos permite implemetar algunos gráficos para la inspección visual de los datos\n",
    "- `scikit-learn`: Esta libreria es la que contiene los métodos para implementar los modelos requeridos, ademas de tener las funciones para obtener las metricas de desempeño de los distintos modelos a ocupar.\n",
    "- `warnings`: Se incluye este modulo para sanitizar el notebook y evitar avisos de depreciación."
   ]
  },
  {
   "cell_type": "markdown",
   "metadata": {},
   "source": [
    "#### **<font color='green'>Detalle del proceso de recodificación e ingeniería de atributos</font>**\n",
    "\n",
    "Se detallará punto por punto, la forma en que se abordará cada una de las recodificaciones sugeridas:\n",
    "\n",
    "- `valores perdidos ?`: se ocupara la función `replace` sobre todo el dataset para que convierta todos los valores `?` en un `np.nan`.\n",
    "- Para cada una de las variables `ocupation`, `workclass`, `education` y `marital-status` se ocupara la misma logica descrita a continuación: **Para cada variable se creará una lista por cada categoria nueva, donde en cada lista estarán los valores que deben reemplazarse, y luego se ocupara la funcion `replace` para buscar los valores en cada lista y reemplazarla por la nueva categoria que corresponda.** \n",
    "- `native-country`: se buscará algún diccionario de paises con sus continentes respectivos para recodificar cada pais con su region correspondiente.\n",
    "- `income`: se ocupará la funcion `replace` para reemplazar los valores `>50K` y `<=50K` por `1` y `0` respectivamente.\n",
    "\n",
    "Por otro lado, existen otras variables que tambien son categorias pero que no presnetan un plan de accion sugerido, por lo que a priori estas variables se trataran de la siguiente manera:\n",
    "\n",
    "- Para las variables `relationship`, `race` y `sex` estas se recodificarán como variables dummy.\n",
    "- Por ultimo para las variables numericas, se estandarizaran con el método `StandardScaler`de la libreria `sklearn`."
   ]
  }
 ],
 "metadata": {
  "kernelspec": {
   "display_name": "Python 3 (ipykernel)",
   "language": "python",
   "name": "python3"
  },
  "language_info": {
   "codemirror_mode": {
    "name": "ipython",
    "version": 3
   },
   "file_extension": ".py",
   "mimetype": "text/x-python",
   "name": "python",
   "nbconvert_exporter": "python",
   "pygments_lexer": "ipython3",
   "version": "3.6.8"
  },
  "vscode": {
   "interpreter": {
    "hash": "3bdfc9259a895d0928a4ae2f6847af189aa6726de5ec3e388785c2fb28cb2e34"
   }
  }
 },
 "nbformat": 4,
 "nbformat_minor": 2
}
