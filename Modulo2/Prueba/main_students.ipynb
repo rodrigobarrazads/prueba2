{
 "cells": [
  {
   "cell_type": "markdown",
   "metadata": {},
   "source": [
    "<h1 style=\"text-align: center;\"><font color='green'>Desafío 2 - Rendimiento escolar</font></h1>\n",
    "\n",
    "## <font color='green'>Descripción</font>\n",
    "\n",
    "Lo contactan de una escuela Portuguesa para generar un modelo que identifique aquellos\n",
    "alumnos que presentan un bajo desempeño académico, medido en el promedio final del año\n",
    "escolar. Para ello le envían un archivo con registros sociodemográficos y conductuales de\n",
    "los alumnos de dos escuelas para perfilar a los estudiantes.\n",
    "De manera adicional la psicopedagoga sugiere inspeccionar una batería de preguntas\n",
    "asociadas a aspectos ambientales del alumno (de `famrel` a `health`) y ver si éstas se\n",
    "pueden abstraer en categorías latentes."
   ]
  },
  {
   "cell_type": "markdown",
   "metadata": {},
   "source": [
    "## <font color='green'>Descripción de la base de datos</font>\n",
    "Para responder esta pregunta deben utilizar el archivo `students.csv`.\n",
    "Las variables que componen la base se detallan a continuación.\n",
    "- `school`: Escuela del estudiante. (binaria: 'GP' - Gabriel Pereira o 'MS' - Mousinho da Silveira).\n",
    "- `sex`: Sexo del estudiante. (binaria: 'F' - Mujer o 'M' - Hombre).\n",
    "- `age`: Edad del estudiante. (numérica: de 15 a 22).\n",
    "- `address`: Ubicación de la casa del estudiante. (binaria: 'U' - urbana o 'R' - rural).\n",
    "- `famsize`: Tamaño de la familia. (binaria: 'LE3' - less or equal to 3 or 'GT3' - greater than 3).\n",
    "- `Pstatus`: Estado cohabitacional de los padres. (binaria: 'T' - cohabitando juntos o 'A' - viviendo separados).\n",
    "- `Medu`: Nivel educacional de la madre. (numérica: 0 - ninguno, 1 - educación básica (4to), 2 - de 5to a 9, 3 - educación media, o 4 - educación superior).\n",
    "- `Fedu`: Nivel educacional del padre. (numérica: 0 - ninguno, 1 - educación básica (4to), 2 - de 5to a 9, 3 - educación media, o 4 - educación superior).\n",
    "- `Mjob`: Ocupación de la madre. (nominal: 'teacher' profesora, 'health' relacionada a salud, 'services' (e.g. administración pública o policía), 'at_home' en casa u 'other' otra).\n",
    "- `job`: Ocupación del padre (nominal: 'teacher' profesor, 'health' relacionado a salud, 'services' (e.g. administración pública o policía), 'at_home' en casa u 'other' otra).\n",
    "- `reason`: Razón para escoger la escuela (nominal: 'home' cercano a casa, 'reputation' reputación de la escuela, 'course' preferencia de cursos u 'other' otra).\n",
    "- `guardian`: Apoderado del estudiante (nominal: 'mother' madre, 'father' padre u 'other' otro).\n",
    "- traveltime: Tiempo de viaje entre hogar y colegio. Se debe codificar como:\n",
    "    - 1 si es menos de 15 min,\n",
    "    - 2 si es de 15 a 30 min,\n",
    "    - 3 si es de 30 min. a 1 hora,\n",
    "    - 4 si es más de 1 hora.\n",
    "- studytime: Horas semanales dedicadas al estudio. Se debe codificar como:\n",
    "    - 1 si es menos de 2 horas,\n",
    "    - 2 si es de 2 a 5 horas,\n",
    "    - 3 si es de 5 a 10 horas,\n",
    "    - 4 si es más de 10 horas.\n",
    "- `failures`: Número de clases reprobadas. (numérica: n si 1<=n<3, de lo contrario 4).\n",
    "- `schoolsup`: Apoyo educacional del colegio. (binaria: si o no).\n",
    "- `famsup`: Apoyo educacional familiar. (binaria: si o no).\n",
    "- `paid`: Clases particulares pagadas (matemáticas o portugués) (binaria: sí o no).\n",
    "- `activities`: Actividades extracurriculares. (binaria: si o no).\n",
    "- `nursery`: Asistió a guardería infantil. (binaria: si o no).\n",
    "- `higher`: Desea proseguir estudios superiores (binaria: si o no).\n",
    "- `internet`: Acceso a internet desde el hogar (binaria: si o no).\n",
    "- `romantic`: Relación romántica (binaria: si o no).\n",
    "- `famrel`: Calidad de las relaciones familiares. (numérica: de 1 - muy malas a 5 - excelentes).\n",
    "- `freetime`: Tiempo libre fuera del colegio (numérica: de 1 - muy poco a 5 - mucho).\n",
    "- `goout`: Salidas con amigos (numérica: de 1 - muy pocas a 5 - muchas).\n",
    "- `Dalc`: Consumo de alcohol en día de semana (numérica: de 1 - muy bajo a 5 - muy alto).\n",
    "- `Walc`: Consumo de alcohol en fines de semana (numérica: de 1 - muy bajo a 5 - muy alto).\n",
    "- `health`: Estado de salud actual (numérica: from 1 - muy malo to 5 - muy bueno).\n",
    "- `absences`: Cantidad de ausencias escolares (numérica: de 0 a 93).\n",
    "- `G1`: Notas durante el primer semestre (numérica: de 0 a 20). **Este es uno de sus vectores objetivos para el modelo descriptivo**.\n",
    "- `G2`: Notas durante el segundo semestre (numérica: de 0 a 20). **Este es uno de sus vectores objetivos para el modelo descriptivo**.\n",
    "- `G3`: Promedio final (numérica: de 0 a 20). **Este es uno de sus vectores objetivos para el modelo descriptivo y el vector a predecir en el modelo predictivo**."
   ]
  },
  {
   "cell_type": "markdown",
   "metadata": {},
   "source": [
    "## <font color='green'>Aspectos adicionales a considerar</font>\n",
    "- La base de datos presenta una serie de anomalías. En la escuela no tienen buenas prácticas sobre cómo ingresar datos, por lo que existen datos perdidos que están registrados bajo tres categorías: nulidade, sem validade, zero. De manera adicional, hay 3 variables numéricas que se registraron como strings, cuya interpretación en `pandas` devuelve una estructura de datos genérica. Finalmente, la base está con un encoding distinto al normal y los delimitadores son distintos.\n",
    "- Para simplificar el análisis y su posterior inclusión en un modelo predictivo, se sugiere recodificar las variables binarias como 0 y 1. Se recomienda seguir el criterio de asignarle 1 a aquellas categorías minoritarias.\n",
    "- El procedimiento también debe aplicarse para aquellas variables nominales con más de 2 categorías siguiendo la misma lógica.\n",
    "- En la parte de modelación descriptiva, se deben generar modelos utilizando todos los predictores por cada una de las notas registradas en `G1`, `G2` y `G3`.\n",
    "- Para la parte de modelación predictiva, se debe generar un modelo para predecir las notas en G3."
   ]
  },
  {
   "cell_type": "markdown",
   "metadata": {},
   "source": [
    "## <font color='green'>**Hito 1: Preliminares**</font>"
   ]
  },
  {
   "cell_type": "markdown",
   "metadata": {},
   "source": [
    "#### **<font color='green'>Entendimiento del problema</font>**\n",
    "\n",
    "Nuestra misión es poder aportar en el desempeño del estrudiantado de una escuela portuguesa. Para esto, se nos pidió poder desarrollar un modelo que nos permita estimar el desempeño del estudiante durante el año (en terminos de notas) con el fin de poder hacer gestion sobre aquellos estudiante que se prediga que van a tener un mal desempeño durante el año. Como nuestro problema tiene que ver con estudiantes y escuela, debemos contar con variables que describan a cada estudiante, variables que esten relacionadas con la escuela y el alumno, y variables relacionadas con el ambiente del estudiante en el que se desempeña.\n",
    "\n",
    "En cuanto a variables que permitan describir al estudiante, notamos que si contamos con estas, ya que tenemos registros como el sexo del estudiante, su edad, su ubicacion, relacion romantica y sus notas propiamente tal.\n",
    "\n",
    "Por otro lado, en cuanto a variables que tengan que ver con el ambiente del estudiante, si contamos, como lo son el tamaño de la familia, relacion actual de los padres, tiempos de biaje del estudiante, horas de estudio, entre otras.\n",
    "\n",
    "Por ultimo, variables que tengan que ver con la escuela y el estudiante tenemos como tiempo libre fuera de la escuela, apoyo educacional del colegio, nuemro de clases reprobadas, entre otras.\n",
    "\n",
    "Todas estas variables antes mencionadas, son de relevancia para poder comprender la naturaleza y fenómeno estudiado. "
   ]
  },
  {
   "cell_type": "markdown",
   "metadata": {},
   "source": [
    "#### **<font color='green'>Distinción del problema</font>**\n",
    "\n",
    "Dado que debemos generar un modelo para poder predecir el desempeño académico de los alumnos, en términos de notas, es que nos encontramos con un problema de regresión multiple. En particular, nos encontramos a priori con 3 variables potenciales a predecir, ya que corresponden a las notas finales de cada alumno, para el primer semestre, segundo semestre y final del curso. No obstante, las dos primeras variables (promedio de notas finales del primer y segundo semestre) solo se ocuparán para realizar un modelo descriptivo, no la implementacion de un modelo propiamente tal; por ende, la variable que ocuparemos para predecir e indicar si un alumno tendra o no un mal desempeño furante el año es la variable `G3` que tiene que ver con el promedio final del curso."
   ]
  },
  {
   "cell_type": "markdown",
   "metadata": {},
   "source": [
    "#### **<font color='green'>Justificación de métricas de evaluación</font>**\n",
    "\n",
    "Como nos encontramos frente a un problema de regresión, debemos ocupar métricas que esten asociadas a problemas de regresion. Las métricas que ocuparemos para evaluar nuestro modelo son las siguientes:\n",
    "\n",
    "- `R2 ajustado` \n",
    "- `MSE`\n",
    "- `RMSE`"
   ]
  },
  {
   "cell_type": "markdown",
   "metadata": {},
   "source": [
    "#### **<font color='green'>Librerías a utilizar</font>**\n",
    "\n",
    "Se utilizarán las principales librerías para el analisis de datos vistas durante el modulo, las cualers son:\n",
    "\n",
    "- `pandas` y `numpy`: Para la manipulacion de datos, junto con la recodificación y el filtrado de estos.\n",
    "- `statsmodels`: Esta Libreria nos permite trabajar (en terminos econométricos) con modelos lineales, en nuestro caso la regresión multiple.\n",
    "- `matplotlib` y `seaborn`: Es una libreria que nos permite implemetar algunos gráficos para la inspección visual de los datos\n",
    "- `scikit-learn`: Esta libreria es la que contiene los métodos para implementar los modelos requeridos, ademas de tener las funciones para obtener las metricas de desempeño de los distintos modelos a ocupar.\n",
    "- `warnings`: Se incluye este modulo para sanitizar el notebook y evitar avisos de depreciación."
   ]
  },
  {
   "cell_type": "markdown",
   "metadata": {},
   "source": [
    "#### **<font color='green'>Detalle del proceso de recodificación e ingeniería de atributos</font>**\n",
    "\n",
    "Para la ingeniería de atributos y recodificacion, a priori se trabajará de la siguiente manera:\n",
    "\n",
    "- `valores perdidos`: como se menciona en los enunciados, existen 3 posibles formas de encontrar datos nulos los cuales se registran a mano, las cuales son `nulidade`, `sem validade`, `zero`. Para resolver este conflicto, usaremos la funcion `replace` en todo el dataset para reemplazar dichos string por `np.nan`.\n",
    "- `variable numericas registradas como string`: dado que existen 3 variables numericas que se registraron como string lo que procede es identificar primero cuales son esas 3 variables, y para cada una, quitar todos los caracteres que no son numeros y finalmente convertir la variable como `int` o `float` segun corresponda.\n",
    "- `variables binarias`: como tenemos muchas variables indicadoras (binarias), se creará una función cuyo objetivo sera binarizar con `0` y `1` una lista de variables entregadas por el usuario. Ademas, se dejara como indicador 1 aquellas categorias que sean mayoritarias. Por otro lado, Tambien se creará una funcion para aquellas variables que posean más de una categoria para binarizarlas de la misma forma, dejando omitida la categora minoritaria.\n",
    "\n",
    "Por otro lado, para aquellas variables que representan algun grado de satisfaccion o molestia con alguna situacion preguntada (como las variables `Walc`, `Dalc`, entre otras) se intentará obtener los factores latentes y asi poder reducir la cantidad de variables con las cuales se ingresarán en el modelo."
   ]
  }
 ],
 "metadata": {
  "kernelspec": {
   "display_name": "Python 3 (ipykernel)",
   "language": "python",
   "name": "python3"
  },
  "language_info": {
   "codemirror_mode": {
    "name": "ipython",
    "version": 3
   },
   "file_extension": ".py",
   "mimetype": "text/x-python",
   "name": "python",
   "nbconvert_exporter": "python",
   "pygments_lexer": "ipython3",
   "version": "3.6.8"
  },
  "vscode": {
   "interpreter": {
    "hash": "3bdfc9259a895d0928a4ae2f6847af189aa6726de5ec3e388785c2fb28cb2e34"
   }
  }
 },
 "nbformat": 4,
 "nbformat_minor": 2
}
