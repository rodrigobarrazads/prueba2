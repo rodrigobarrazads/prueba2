{
 "cells": [
  {
   "cell_type": "markdown",
   "id": "cfca4da3",
   "metadata": {},
   "source": [
    "<h1 style=\"text-align: center;\">Desafío - Estimando curvas de densidad de probabilidad</h1>\n",
    "\n",
    "- Para realizar este desafío debes haber estudiado previamente todo el material disponible correspondiente a la unidad.\n",
    "- Una vez terminado el desafío, comprime la carpeta que contiene el desarrollo de los requerimientos solicitados y sube el .zip en el LMS.\n",
    "- Desarrollo desafío: Individual.\n",
    "Para la realización del desafío necesitarás apoyarte del archivo <a href=\"https://empieza.desafiolatam.com/cohorts/2091/sections/78278/activities/119107/items/610854\">Apoyo Desafío - Pruebas de hipótesis</a>."
   ]
  },
  {
   "cell_type": "markdown",
   "id": "be76e709",
   "metadata": {},
   "source": [
    "## Habilidades a evaluar\n",
    "- Identificar la estandarización de variables mediante el cálculo de puntajes $z$.\n",
    "- Conocer la distribución $t$ de Student y su aplicación.\n",
    "- Aplicar pruebas de hipótesis simples en el contexto de la inferencia."
   ]
  },
  {
   "cell_type": "markdown",
   "id": "1a9104ea",
   "metadata": {},
   "source": [
    "## Descripción\n",
    "A partir del trabajo realizado en el Desafío anterior, la empresa para la cual trabajas, te ha solicitado continuar el análisis de datos pero, está vez, evaluando juicios de hipótesis e implementando funciones que faciliten el análisis de datos. Para ello, te entregan un material de apoyo el cual deberá servir como base para desarrollar los siguientes requerimientos."
   ]
  },
  {
   "cell_type": "markdown",
   "id": "a16f7ef0",
   "metadata": {},
   "source": [
    "## Requerimientos\n",
    "A continuación revisaremos los requerimientos y acciones que la empresa a la cual postulas te pide realizar.\n",
    "\n",
    "### 1. Evaluar juicios de hipótesis (2 puntos): \n",
    "Para evaluar la pertinencia de diversas hipótesis, se te solicita discernir si es posible rechazar la hipótesis nula.\n",
    "\n",
    "- 75 individuos elegidos al azar fueron alcanzados por activistas pro-LGTB que se identificaron como homosexuales, y 75 alcanzados por activistas pro-LGTB que se identificaron como heterosexuales. El objetivo era medir actitudes frente a la adopción homoparental. La organización encargada de procesar los datos obtuvo los siguientes resultados:\n",
    ">El 67% de los encuestados por heterosexuales se mostró a favor de la adopción homoparental ($p_{\\text{heterosexuales}}$), mientras que un 72% de los encuestados por activistas que se identificaron como homosexuales se mostraron a favor de la adopción homoparental ($p_{\\text{homosexuales}}$).\n",
    "    \n",
    "- Asumiendo que la hipótesis nula es que ambos porcentajes no son diferentes, y la hipótesis alternativa es que existe una diferencia substancial entre ambos.\n",
    "$$\n",
    "H_0: p_{\\text{heterosexuales}} = p_{\\text{homosexuales}} \\\\\n",
    "H_1: p_{\\text{heterosexuales}} \\neq p_{\\text{homosexuales}}\n",
    "$$"
   ]
  },
  {
   "cell_type": "markdown",
   "id": "25661d5c",
   "metadata": {},
   "source": [
    "- Con _p-valor_ de 0.1183 ¿es posible rechazar la hipótesis nula en favor de la alternativa con una confianza de 95%?\n",
    "\n",
    "**Respuesta: <font color='blue'>No, no es posible rechazar la hipotesis nula con ese _p-valor_ para una confienza de 95% ya que para rechazar se necesita tener un _p-valor_ menos a 0.05, es decir, no existe evidencia suficiente para rechazar que ambos porcentajes son diferentes.</font>**"
   ]
  },
  {
   "cell_type": "markdown",
   "id": "7351c545",
   "metadata": {},
   "source": [
    "- ¿Cuanta es la confianza máxima con la que sería posible rechazar la hipótesis nula en favor de la alternativa con estos resultados?\n",
    "\n",
    "**Respuesta: <font color='blue'>La confianza maxima para rechazar sería de un 88,17%</font>**"
   ]
  },
  {
   "cell_type": "markdown",
   "id": "1a076940",
   "metadata": {},
   "source": [
    "### 2. Importar la base de datos utilizada la sesión presencial anterior (2 puntos):\n",
    "- Agregue una serie de variables binarias por cada continente de la variable region. _**Tip**_: Utilice np.where para ello.\n",
    "- De manera similar a la sesión anterior, enfóquese en las siguientes variables:\n",
    "    - **Apellidos desde la A hasta la N**: Enfocarse en las variables `chldmort`, `adfert` y `life`.\n",
    "    - **Apellidos desde la N hasta la Z**: Enfocarse en las variables `femlab`, `literacy` y `school`."
   ]
  },
  {
   "cell_type": "code",
   "execution_count": 62,
   "id": "402cdd01",
   "metadata": {},
   "outputs": [],
   "source": [
    "# Utiliza esta celda par importar los módulos necesarios y el set de datos. Recuerda el encoding!\n",
    "import pandas as pd\n",
    "import numpy as np\n",
    "\n",
    "df = pd.read_csv('nations.csv', encoding='iso-8859-1', index_col='Unnamed: 0')"
   ]
  },
  {
   "cell_type": "code",
   "execution_count": 63,
   "id": "25d731bc",
   "metadata": {},
   "outputs": [
    {
     "data": {
      "text/html": [
       "<div>\n",
       "<style scoped>\n",
       "    .dataframe tbody tr th:only-of-type {\n",
       "        vertical-align: middle;\n",
       "    }\n",
       "\n",
       "    .dataframe tbody tr th {\n",
       "        vertical-align: top;\n",
       "    }\n",
       "\n",
       "    .dataframe thead th {\n",
       "        text-align: right;\n",
       "    }\n",
       "</style>\n",
       "<table border=\"1\" class=\"dataframe\">\n",
       "  <thead>\n",
       "    <tr style=\"text-align: right;\">\n",
       "      <th></th>\n",
       "      <th>chldmort</th>\n",
       "      <th>adfert</th>\n",
       "      <th>life</th>\n",
       "      <th>Africa</th>\n",
       "      <th>Asia</th>\n",
       "      <th>Europe</th>\n",
       "      <th>Americas</th>\n",
       "      <th>Oceania</th>\n",
       "    </tr>\n",
       "  </thead>\n",
       "  <tbody>\n",
       "    <tr>\n",
       "      <th>1</th>\n",
       "      <td>34.75</td>\n",
       "      <td>7.300000</td>\n",
       "      <td>72.316666</td>\n",
       "      <td>1</td>\n",
       "      <td>0</td>\n",
       "      <td>0</td>\n",
       "      <td>0</td>\n",
       "      <td>0</td>\n",
       "    </tr>\n",
       "    <tr>\n",
       "      <th>2</th>\n",
       "      <td>122.75</td>\n",
       "      <td>111.699997</td>\n",
       "      <td>54.733334</td>\n",
       "      <td>1</td>\n",
       "      <td>0</td>\n",
       "      <td>0</td>\n",
       "      <td>0</td>\n",
       "      <td>0</td>\n",
       "    </tr>\n",
       "    <tr>\n",
       "      <th>3</th>\n",
       "      <td>60.25</td>\n",
       "      <td>52.099998</td>\n",
       "      <td>52.250000</td>\n",
       "      <td>1</td>\n",
       "      <td>0</td>\n",
       "      <td>0</td>\n",
       "      <td>0</td>\n",
       "      <td>0</td>\n",
       "    </tr>\n",
       "    <tr>\n",
       "      <th>4</th>\n",
       "      <td>170.50</td>\n",
       "      <td>124.800003</td>\n",
       "      <td>53.783333</td>\n",
       "      <td>1</td>\n",
       "      <td>0</td>\n",
       "      <td>0</td>\n",
       "      <td>0</td>\n",
       "      <td>0</td>\n",
       "    </tr>\n",
       "    <tr>\n",
       "      <th>5</th>\n",
       "      <td>168.50</td>\n",
       "      <td>18.600000</td>\n",
       "      <td>48.866665</td>\n",
       "      <td>1</td>\n",
       "      <td>0</td>\n",
       "      <td>0</td>\n",
       "      <td>0</td>\n",
       "      <td>0</td>\n",
       "    </tr>\n",
       "    <tr>\n",
       "      <th>...</th>\n",
       "      <td>...</td>\n",
       "      <td>...</td>\n",
       "      <td>...</td>\n",
       "      <td>...</td>\n",
       "      <td>...</td>\n",
       "      <td>...</td>\n",
       "      <td>...</td>\n",
       "      <td>...</td>\n",
       "    </tr>\n",
       "    <tr>\n",
       "      <th>190</th>\n",
       "      <td>26.75</td>\n",
       "      <td>28.299999</td>\n",
       "      <td>71.533333</td>\n",
       "      <td>0</td>\n",
       "      <td>0</td>\n",
       "      <td>0</td>\n",
       "      <td>0</td>\n",
       "      <td>1</td>\n",
       "    </tr>\n",
       "    <tr>\n",
       "      <th>191</th>\n",
       "      <td>36.00</td>\n",
       "      <td>70.300003</td>\n",
       "      <td>66.500000</td>\n",
       "      <td>0</td>\n",
       "      <td>0</td>\n",
       "      <td>0</td>\n",
       "      <td>0</td>\n",
       "      <td>1</td>\n",
       "    </tr>\n",
       "    <tr>\n",
       "      <th>192</th>\n",
       "      <td>19.25</td>\n",
       "      <td>22.299999</td>\n",
       "      <td>71.833336</td>\n",
       "      <td>0</td>\n",
       "      <td>0</td>\n",
       "      <td>0</td>\n",
       "      <td>0</td>\n",
       "      <td>1</td>\n",
       "    </tr>\n",
       "    <tr>\n",
       "      <th>193</th>\n",
       "      <td>36.50</td>\n",
       "      <td>23.299999</td>\n",
       "      <td>66.033333</td>\n",
       "      <td>0</td>\n",
       "      <td>0</td>\n",
       "      <td>0</td>\n",
       "      <td>0</td>\n",
       "      <td>1</td>\n",
       "    </tr>\n",
       "    <tr>\n",
       "      <th>194</th>\n",
       "      <td>17.75</td>\n",
       "      <td>54.000000</td>\n",
       "      <td>69.966667</td>\n",
       "      <td>0</td>\n",
       "      <td>0</td>\n",
       "      <td>0</td>\n",
       "      <td>0</td>\n",
       "      <td>1</td>\n",
       "    </tr>\n",
       "  </tbody>\n",
       "</table>\n",
       "<p>194 rows × 8 columns</p>\n",
       "</div>"
      ],
      "text/plain": [
       "     chldmort      adfert       life  Africa  Asia  Europe  Americas  Oceania\n",
       "1       34.75    7.300000  72.316666       1     0       0         0        0\n",
       "2      122.75  111.699997  54.733334       1     0       0         0        0\n",
       "3       60.25   52.099998  52.250000       1     0       0         0        0\n",
       "4      170.50  124.800003  53.783333       1     0       0         0        0\n",
       "5      168.50   18.600000  48.866665       1     0       0         0        0\n",
       "..        ...         ...        ...     ...   ...     ...       ...      ...\n",
       "190     26.75   28.299999  71.533333       0     0       0         0        1\n",
       "191     36.00   70.300003  66.500000       0     0       0         0        1\n",
       "192     19.25   22.299999  71.833336       0     0       0         0        1\n",
       "193     36.50   23.299999  66.033333       0     0       0         0        1\n",
       "194     17.75   54.000000  69.966667       0     0       0         0        1\n",
       "\n",
       "[194 rows x 8 columns]"
      ]
     },
     "execution_count": 63,
     "metadata": {},
     "output_type": "execute_result"
    }
   ],
   "source": [
    "# Utiliza esta celda para crear una variable binaria para cada continente (1: Pertenece al contiente, 0: No pertenece al continente)\n",
    "# Esto añadirá 5 columnas a tu dataframe\n",
    "\n",
    "regiones = ['Africa', 'Asia','Europe','Americas','Oceania']\n",
    "\n",
    "for name in regiones:\n",
    "    df[name] = np.where(df['region'] == name,1,0)\n",
    "\n",
    "columns_apellido = ['chldmort', 'adfert','life']\n",
    "\n",
    "df_subset = df[columns_apellido + regiones]\n",
    "df_subset"
   ]
  },
  {
   "cell_type": "markdown",
   "id": "46e7678f",
   "metadata": {},
   "source": [
    "### 3. Implementar una función de prueba de hipótesis a mano (3 puntos):\n",
    "- La función debe ingresar los siguientes argumentos:\n",
    "    - `data`: La tabla de datos.\n",
    "    - `variable`: La variable a analizar.\n",
    "    - `binarize`: El indicador binario a utilizar.\n",
    "    \n",
    "_**Tip**_:\n",
    "- Separe la variable en dos, utilizando el indicador binario. Recuerde eliminar los perdidos con `dropna()`.\n",
    "- Implemente `ttest_ind` de `scipy.stats` y guarde el valor $t$ y _p-value_.\n",
    "- Reporte las medias para cada grupo (0 y 1).\n",
    "- Reporte la diferencia de entre las medias.\n",
    "- Reporte los valores $t$ y _p-value_."
   ]
  },
  {
   "cell_type": "code",
   "execution_count": 164,
   "id": "d0dac334",
   "metadata": {},
   "outputs": [],
   "source": [
    "# Utiliza esta celda para definir la función\n",
    "from scipy.stats import ttest_ind\n",
    "\n",
    "def test_hipotesis(data, variable, binarize):\n",
    "    \"\"\"\n",
    "        Objetivo:\n",
    "            - Realizar el test de hipotesis para una variable cuantitativa, entregando el valor del estadistico y el p-value correspondiente\n",
    "        Parámetros:\n",
    "            - data (dataframe): Dataframe donde se encuentra las variables a utilizar\n",
    "            - variable (serie): nombre de la variable cuantitativa a la cual se le hará el test\n",
    "            - binarize (serie): nombre de la variable que es un indicador de como separar los datos (debe ser 1 o 0) \n",
    "\n",
    "        Retorno:\n",
    "           - print con los resultados del test\n",
    "    \"\"\"\n",
    "\n",
    "    group_1 = data[data[binarize] == 1][variable].dropna()\n",
    "    group_2 = data[data[binarize] == 0][variable].dropna()\n",
    "\n",
    "    mean_group1 = group_1.mean()\n",
    "    mean_group2 = group_2.mean()\n",
    "    diff = mean_group1 - mean_group2\n",
    "\n",
    "    t_obs, p_value = ttest_ind(group_1, group_2) #Dado que no podemos asumir que la varianza poblacional es la misma para cada grupo, dejamos como equal_var como Falso\n",
    "\n",
    "    print(f'Media del grupo 1: {mean_group1:.2f} \\nMedia del grupo 2: {mean_group2:.2f} \\nDiferencia entre medias: {diff:.2f} \\nValor del estadistico t: {t_obs:.2f} \\np-value: {p_value:.5f}')\n"
   ]
  },
  {
   "cell_type": "code",
   "execution_count": 165,
   "id": "7447ce4d",
   "metadata": {},
   "outputs": [
    {
     "name": "stdout",
     "output_type": "stream",
     "text": [
      "Media del grupo 1: 109.75 \n",
      "Media del grupo 2: 24.75 \n",
      "Diferencia entre medias: 85.00 \n",
      "Valor del estadistico t: 14.17 \n",
      "p-value: 0.00000\n"
     ]
    }
   ],
   "source": [
    "# Utiliza esta celda para hacer 1 llamado de prueba de la función implementada\n",
    "\n",
    "test_hipotesis(df_subset, 'chldmort', 'Africa')"
   ]
  },
  {
   "cell_type": "markdown",
   "id": "27206729",
   "metadata": {},
   "source": [
    "### 4. Implementar una función que grafique los histogramas para ambas muestras (3 puntos)\n",
    "- Genere una función que devuelva un gráfico donde visualice los dos histogramas cuando la variable es 1 y 0, respectivamente. _**Tip**_: Refactorize la función incluyendo el método `hist` de `matplotlib.pyplot`. Incluya los argumentos `alpha` y `label`.\n",
    "- Para las tres variables de interés acorde a su grupo, analice las diferencias de medias por cada continente, y posteriormente grafique.\n",
    "- Concluya con los principales resultados al respecto."
   ]
  },
  {
   "cell_type": "code",
   "execution_count": 168,
   "id": "81fc267f",
   "metadata": {},
   "outputs": [],
   "source": [
    "# Utiliza esta celda para refactorizar la función implementada en el punto 3\n",
    "import matplotlib.pyplot as plt\n",
    "\n",
    "def test_hipotesis_hist(data, variable, binarize):\n",
    "    \"\"\"\n",
    "        Objetivo:\n",
    "            - Realizar el test de hipotesis para una variable cuantitativa, entregando el valor del estadistico y el p-value correspondiente, ademas del histograma correspondiente para visualizar mejor los resultados\n",
    "        Parámetros:\n",
    "            - data (dataframe): Dataframe donde se encuentra las variables a utilizar\n",
    "            - variable (serie): nombre de la variable cuantitativa a la cual se le hará el test\n",
    "            - binarize (serie): nombre de la variable que es un indicador de como separar los datos (debe ser 1 o 0) \n",
    "\n",
    "        Retorno:\n",
    "           - print con los resultados del test y el histograma de cada grupo\n",
    "    \"\"\"\n",
    "\n",
    "    group_1 = data[data[binarize] == 1][variable].dropna()\n",
    "    group_2 = data[data[binarize] == 0][variable].dropna()\n",
    "\n",
    "    mean_group1 = group_1.mean()\n",
    "    mean_group2 = group_2.mean()\n",
    "    diff = mean_group1 - mean_group2\n",
    "\n",
    "    t_obs, p_value = ttest_ind(group_1, group_2, equal_var=False) #Dado que no podemos asumir que la varianza poblacional es la misma para cada grupo, dejamos como equal_var como Falso\n",
    "\n",
    "    diccionary = {1: group_1,      #Definimos un diccionario para poder recorrer despues en el iterador\n",
    "                  2: group_2}\n",
    "    \n",
    "    plt.figure(figsize=(10,5))\n",
    "    for i in range(1,3):    #iteramos para realizar cada gráfico\n",
    "        plt.subplot(1, 2, i)\n",
    "        plt.hist(diccionary[i], alpha=.6, color='lightgrey')\n",
    "        plt.axvline(np.mean(diccionary[i]))\n",
    "        plt.title(f'{variable} {\"<=\" if i==1 else \">\"} {data[variable].mean():.2f}')\n",
    "    plt.show()\n",
    "\n",
    "    print(f'Media del grupo 1: {mean_group1:.2f} \\nMedia del grupo 2: {mean_group2:.2f} \\nDiferencia entre medias: {diff:.2f} \\nValor del estadistico t: {t_obs:.2f} \\np-value: {p_value:.5f}')"
   ]
  },
  {
   "cell_type": "markdown",
   "id": "f542f2fe",
   "metadata": {},
   "source": [
    "<hr>\n",
    "AFRICA\n",
    "<hr>"
   ]
  },
  {
   "cell_type": "code",
   "execution_count": 169,
   "id": "e559def1",
   "metadata": {},
   "outputs": [
    {
     "data": {
      "image/png": "[encoded data removed]",
      "text/plain": [
       "<Figure size 720x360 with 2 Axes>"
      ]
     },
     "metadata": {
      "needs_background": "light"
     },
     "output_type": "display_data"
    },
    {
     "name": "stdout",
     "output_type": "stream",
     "text": [
      "Media del grupo 1: 109.75 \n",
      "Media del grupo 2: 24.75 \n",
      "Diferencia entre medias: 85.00 \n",
      "Valor del estadistico t: 10.83 \n",
      "p-value: 0.00000\n"
     ]
    }
   ],
   "source": [
    "# Utiliza esta celda para realizar el llamado a la función para África y la primera variable\n",
    "\n",
    "test_hipotesis_hist(df_subset, 'chldmort', 'Africa')"
   ]
  },
  {
   "cell_type": "code",
   "execution_count": 170,
   "id": "b8f32335",
   "metadata": {},
   "outputs": [
    {
     "data": {
      "image/png": "[encoded data removed]",
      "text/plain": [
       "<Figure size 720x360 with 2 Axes>"
      ]
     },
     "metadata": {
      "needs_background": "light"
     },
     "output_type": "display_data"
    },
    {
     "name": "stdout",
     "output_type": "stream",
     "text": [
      "Media del grupo 1: 92.72 \n",
      "Media del grupo 2: 36.83 \n",
      "Diferencia entre medias: 55.89 \n",
      "Valor del estadistico t: 7.55 \n",
      "p-value: 0.00000\n"
     ]
    }
   ],
   "source": [
    "# Utiliza esta celda para realizar el llamado a la función para África y la segunda variable\n",
    "\n",
    "test_hipotesis_hist(df_subset, 'adfert', 'Africa')"
   ]
  },
  {
   "cell_type": "code",
   "execution_count": 171,
   "id": "195f14e7",
   "metadata": {},
   "outputs": [
    {
     "data": {
      "image/png": "[encoded data removed]",
      "text/plain": [
       "<Figure size 720x360 with 2 Axes>"
      ]
     },
     "metadata": {
      "needs_background": "light"
     },
     "output_type": "display_data"
    },
    {
     "name": "stdout",
     "output_type": "stream",
     "text": [
      "Media del grupo 1: 56.49 \n",
      "Media del grupo 2: 73.21 \n",
      "Diferencia entre medias: -16.72 \n",
      "Valor del estadistico t: -12.96 \n",
      "p-value: 0.00000\n"
     ]
    }
   ],
   "source": [
    "# Utiliza esta celda para realizar el llamado a la función para África y la tercera variable\n",
    "\n",
    "test_hipotesis_hist(df_subset, 'life', 'Africa')"
   ]
  },
  {
   "cell_type": "markdown",
   "id": "477646d0",
   "metadata": {},
   "source": [
    "**Comentarios**\n",
    "\n",
    "**<font color='blue'>Claramente, se ve una diferencia entre el promedio de cada grupo reflejado en los histogramas; ademas, el test de hipotesis nos arrojo en todos los casos un p-valor de practicamente 0, por lo que hay evidencia suficiente para rechazar la hipotesis nula, es decir, `existe evidencia suficiente para decir que las medias de cada una de las variables para Africa es diferente para las demas regiones.`</font>**"
   ]
  },
  {
   "cell_type": "markdown",
   "id": "92fae31f",
   "metadata": {},
   "source": [
    "<hr>\n",
    "ASIA\n",
    "<hr>"
   ]
  },
  {
   "cell_type": "code",
   "execution_count": 152,
   "id": "5100cba9",
   "metadata": {},
   "outputs": [
    {
     "data": {
      "image/png": "[encoded data removed]",
      "text/plain": [
       "<Figure size 720x360 with 2 Axes>"
      ]
     },
     "metadata": {
      "needs_background": "light"
     },
     "output_type": "display_data"
    },
    {
     "name": "stdout",
     "output_type": "stream",
     "text": [
      "Media del grupo 1: 37.10 \n",
      "Media del grupo 2: 51.14 \n",
      "Diferencia entre medias: -14.04 \n",
      "Valor del estadistico t: -2.03 \n",
      "p-value: 0.04408\n"
     ]
    }
   ],
   "source": [
    "# Utiliza esta celda para realizar el llamado a la función para Asia y la primera variable\n",
    "\n",
    "test_hipotesis_hist(df_subset, 'chldmort', 'Asia')"
   ]
  },
  {
   "cell_type": "code",
   "execution_count": 153,
   "id": "0d6da30e",
   "metadata": {},
   "outputs": [
    {
     "data": {
      "image/png": "[encoded data removed]",
      "text/plain": [
       "<Figure size 720x360 with 2 Axes>"
      ]
     },
     "metadata": {
      "needs_background": "light"
     },
     "output_type": "display_data"
    },
    {
     "name": "stdout",
     "output_type": "stream",
     "text": [
      "Media del grupo 1: 33.87 \n",
      "Media del grupo 2: 57.88 \n",
      "Diferencia entre medias: -24.01 \n",
      "Valor del estadistico t: -4.32 \n",
      "p-value: 0.00003\n"
     ]
    }
   ],
   "source": [
    "# Utiliza esta celda para realizar el llamado a la función para Asia y la segunda variable\n",
    "\n",
    "test_hipotesis_hist(df_subset, 'adfert', 'Asia')"
   ]
  },
  {
   "cell_type": "code",
   "execution_count": 154,
   "id": "e8ab8af1",
   "metadata": {},
   "outputs": [
    {
     "data": {
      "image/png": "[encoded data removed]",
      "text/plain": [
       "<Figure size 720x360 with 2 Axes>"
      ]
     },
     "metadata": {
      "needs_background": "light"
     },
     "output_type": "display_data"
    },
    {
     "name": "stdout",
     "output_type": "stream",
     "text": [
      "Media del grupo 1: 70.87 \n",
      "Media del grupo 2: 68.01 \n",
      "Diferencia entre medias: 2.87 \n",
      "Valor del estadistico t: 2.21 \n",
      "p-value: 0.02848\n"
     ]
    }
   ],
   "source": [
    "# Utiliza esta celda para realizar el llamado a la función para Asia y la tercera variable\n",
    "\n",
    "test_hipotesis_hist(df_subset, 'life', 'Asia')"
   ]
  },
  {
   "cell_type": "markdown",
   "id": "c22e2580",
   "metadata": {},
   "source": [
    "**Comentarios**\n",
    "\n",
    "**<font color='blue'>`Para las siguientes respuestas, nos basaremos en un nivel de confienza del 95%.`**\n",
    "\n",
    "**<font color='blue'>Segun los resultados del test, cada uno de los p-valores arrojados son menores a 0.05, por lo que hay evidencia suficiente para rechazar la hipotesis nula, es decir, `existe evidencia suficiente para decir que las medias de cada una de las variables para Asia es diferente para las demas regiones.`</font>**\n",
    "\n",
    "**Como nota, vemos que para la variable `life` en el histograma, el valor de las medias para cada grupo es practicamente la misma, siendo un poco contradictorio con el resultado del test, pero esto puede ser ocacionado por la variabilidad de los datos que hizo que el test rezharaza la hipotesis nula con una confianza del 95%**"
   ]
  },
  {
   "cell_type": "markdown",
   "id": "1c847879",
   "metadata": {},
   "source": [
    "<hr>\n",
    "AMERICAS\n",
    "<hr>"
   ]
  },
  {
   "cell_type": "code",
   "execution_count": 184,
   "id": "540acb98",
   "metadata": {},
   "outputs": [
    {
     "data": {
      "image/png": "[encoded data removed]",
      "text/plain": [
       "<Figure size 720x360 with 2 Axes>"
      ]
     },
     "metadata": {
      "needs_background": "light"
     },
     "output_type": "display_data"
    },
    {
     "name": "stdout",
     "output_type": "stream",
     "text": [
      "Media del grupo 1: 23.26 \n",
      "Media del grupo 2: 53.05 \n",
      "Diferencia entre medias: -29.79 \n",
      "Valor del estadistico t: -5.67 \n",
      "p-value: 0.00000\n"
     ]
    }
   ],
   "source": [
    "# Utiliza esta celda para realizar el llamado a la función para Américas y la primera variable\n",
    "\n",
    "test_hipotesis_hist(df_subset, 'chldmort', 'Americas')"
   ]
  },
  {
   "cell_type": "code",
   "execution_count": 185,
   "id": "47f3a734",
   "metadata": {},
   "outputs": [
    {
     "data": {
      "image/png": "[encoded data removed]",
      "text/plain": [
       "<Figure size 720x360 with 2 Axes>"
      ]
     },
     "metadata": {
      "needs_background": "light"
     },
     "output_type": "display_data"
    },
    {
     "name": "stdout",
     "output_type": "stream",
     "text": [
      "Media del grupo 1: 63.66 \n",
      "Media del grupo 2: 49.21 \n",
      "Diferencia entre medias: 14.45 \n",
      "Valor del estadistico t: 2.62 \n",
      "p-value: 0.01003\n"
     ]
    }
   ],
   "source": [
    "# Utiliza esta celda para realizar el llamado a la función para Américas y la segunda variable\n",
    "\n",
    "test_hipotesis_hist(df_subset, 'adfert', 'Americas')"
   ]
  },
  {
   "cell_type": "code",
   "execution_count": 186,
   "id": "6c2e37a9",
   "metadata": {},
   "outputs": [
    {
     "data": {
      "image/png": "[encoded data removed]",
      "text/plain": [
       "<Figure size 720x360 with 2 Axes>"
      ]
     },
     "metadata": {
      "needs_background": "light"
     },
     "output_type": "display_data"
    },
    {
     "name": "stdout",
     "output_type": "stream",
     "text": [
      "Media del grupo 1: 73.45 \n",
      "Media del grupo 2: 67.69 \n",
      "Diferencia entre medias: 5.76 \n",
      "Valor del estadistico t: 5.37 \n",
      "p-value: 0.00000\n"
     ]
    }
   ],
   "source": [
    "# Utiliza esta celda para realizar el llamado a la función para Américas y la tercera variable\n",
    "\n",
    "test_hipotesis_hist(df_subset, 'life', 'Americas')"
   ]
  },
  {
   "cell_type": "markdown",
   "id": "a8680eed",
   "metadata": {},
   "source": [
    "**Comentarios**\n",
    "\n",
    "**<font color='blue'>`Para las siguientes respuestas, nos basaremos en un nivel de confienza del 95%.`**\n",
    "\n",
    "**<font color='blue'>Claramente, se ve una diferencia entre el promedio de cada grupo reflejado en los histogramas salvo para la variable `life` donde se ven promedios mas o menos cernanos; pero, el test de hipotesis nos arrojo en todos los casos un p-valor de practicamente 0, por lo que hay evidencia suficiente para rechazar la hipotesis nula, es decir, `existe evidencia suficiente para decir que las medias de cada una de las variables para Americas es diferente para las demas regiones.`</font>**"
   ]
  },
  {
   "cell_type": "markdown",
   "id": "095b853a",
   "metadata": {},
   "source": [
    "<hr>\n",
    "EUROPA\n",
    "<hr>"
   ]
  },
  {
   "cell_type": "code",
   "execution_count": 181,
   "id": "4c8cbcea",
   "metadata": {},
   "outputs": [
    {
     "data": {
      "image/png": "[encoded data removed]",
      "text/plain": [
       "<Figure size 720x360 with 2 Axes>"
      ]
     },
     "metadata": {
      "needs_background": "light"
     },
     "output_type": "display_data"
    },
    {
     "name": "stdout",
     "output_type": "stream",
     "text": [
      "Media del grupo 1: 7.05 \n",
      "Media del grupo 2: 59.29 \n",
      "Diferencia entre medias: -52.24 \n",
      "Valor del estadistico t: -11.60 \n",
      "p-value: 0.00000\n"
     ]
    }
   ],
   "source": [
    "# Utiliza esta celda para realizar el llamado a la función para Europa y la primera variable\n",
    "\n",
    "test_hipotesis_hist(df_subset, 'chldmort', 'Europe')"
   ]
  },
  {
   "cell_type": "code",
   "execution_count": 182,
   "id": "83dd69fd",
   "metadata": {},
   "outputs": [
    {
     "data": {
      "image/png": "[encoded data removed]",
      "text/plain": [
       "<Figure size 720x360 with 2 Axes>"
      ]
     },
     "metadata": {
      "needs_background": "light"
     },
     "output_type": "display_data"
    },
    {
     "name": "stdout",
     "output_type": "stream",
     "text": [
      "Media del grupo 1: 15.54 \n",
      "Media del grupo 2: 62.15 \n",
      "Diferencia entre medias: -46.61 \n",
      "Valor del estadistico t: -11.96 \n",
      "p-value: 0.00000\n"
     ]
    }
   ],
   "source": [
    "# Utiliza esta celda para realizar el llamado a la función para Europa y la segunda variable\n",
    "\n",
    "test_hipotesis_hist(df_subset, 'adfert', 'Europe')"
   ]
  },
  {
   "cell_type": "code",
   "execution_count": 183,
   "id": "bd0504b8",
   "metadata": {},
   "outputs": [
    {
     "data": {
      "image/png": "[encoded data removed]",
      "text/plain": [
       "<Figure size 720x360 with 2 Axes>"
      ]
     },
     "metadata": {
      "needs_background": "light"
     },
     "output_type": "display_data"
    },
    {
     "name": "stdout",
     "output_type": "stream",
     "text": [
      "Media del grupo 1: 76.95 \n",
      "Media del grupo 2: 66.39 \n",
      "Diferencia entre medias: 10.56 \n",
      "Valor del estadistico t: 10.29 \n",
      "p-value: 0.00000\n"
     ]
    }
   ],
   "source": [
    "# Utiliza esta celda para realizar el llamado a la función para Europa y la tercera variable\n",
    "\n",
    "test_hipotesis_hist(df_subset, 'life', 'Europe')"
   ]
  },
  {
   "cell_type": "markdown",
   "id": "baf1c33a",
   "metadata": {},
   "source": [
    "**Comentarios**\n",
    "\n",
    "**<font color='blue'>Claramente, se ve una diferencia entre el promedio de cada grupo reflejado en los histogramas salvo para la variable `life` donde se ven promedios mas o menos cernanos; pero, el test de hipotesis nos arrojo en todos los casos un p-valor de practicamente 0, por lo que hay evidencia suficiente para rechazar la hipotesis nula, es decir, `existe evidencia suficiente para decir que las medias de cada una de las variables para Europa es diferente para las demas regiones.`</font>**"
   ]
  },
  {
   "cell_type": "markdown",
   "id": "efda3b10",
   "metadata": {},
   "source": [
    "<hr>\n",
    "OCEANIA\n",
    "<hr>"
   ]
  },
  {
   "cell_type": "code",
   "execution_count": 172,
   "id": "f28b8814",
   "metadata": {},
   "outputs": [
    {
     "data": {
      "image/png": "[encoded data removed]",
      "text/plain": [
       "<Figure size 720x360 with 2 Axes>"
      ]
     },
     "metadata": {
      "needs_background": "light"
     },
     "output_type": "display_data"
    },
    {
     "name": "stdout",
     "output_type": "stream",
     "text": [
      "Media del grupo 1: 39.42 \n",
      "Media del grupo 2: 48.34 \n",
      "Diferencia entre medias: -8.93 \n",
      "Valor del estadistico t: -0.80 \n",
      "p-value: 0.43174\n"
     ]
    }
   ],
   "source": [
    "# Utiliza esta celda para realizar el llamado a la función para Oceanía y la primera variable\n",
    "\n",
    "test_hipotesis_hist(df_subset, 'chldmort', 'Oceania')"
   ]
  },
  {
   "cell_type": "code",
   "execution_count": 173,
   "id": "53e4c158",
   "metadata": {},
   "outputs": [
    {
     "data": {
      "image/png": "[encoded data removed]",
      "text/plain": [
       "<Figure size 720x360 with 2 Axes>"
      ]
     },
     "metadata": {
      "needs_background": "light"
     },
     "output_type": "display_data"
    },
    {
     "name": "stdout",
     "output_type": "stream",
     "text": [
      "Media del grupo 1: 44.99 \n",
      "Media del grupo 2: 52.39 \n",
      "Diferencia entre medias: -7.39 \n",
      "Valor del estadistico t: -0.69 \n",
      "p-value: 0.49708\n"
     ]
    }
   ],
   "source": [
    "# Utiliza esta celda para realizar el llamado a la función para Oceanía y la segunda variable\n",
    "\n",
    "test_hipotesis_hist(df_subset, 'adfert', 'Oceania')"
   ]
  },
  {
   "cell_type": "code",
   "execution_count": 174,
   "id": "164a10dd",
   "metadata": {},
   "outputs": [
    {
     "data": {
      "image/png": "[encoded data removed]",
      "text/plain": [
       "<Figure size 720x360 with 2 Axes>"
      ]
     },
     "metadata": {
      "needs_background": "light"
     },
     "output_type": "display_data"
    },
    {
     "name": "stdout",
     "output_type": "stream",
     "text": [
      "Media del grupo 1: 69.58 \n",
      "Media del grupo 2: 68.66 \n",
      "Diferencia entre medias: 0.93 \n",
      "Valor del estadistico t: 0.43 \n",
      "p-value: 0.67211\n"
     ]
    }
   ],
   "source": [
    "# Utiliza esta celda para realizar el llamado a la función para Oceanía y la tercera variable\n",
    "\n",
    "test_hipotesis_hist(df_subset, 'life', 'Oceania')"
   ]
  },
  {
   "cell_type": "markdown",
   "id": "eb1b8483",
   "metadata": {},
   "source": [
    "**Comentarios**\n",
    "\n",
    "**<font color='blue'>Claramente, no se ve una diferencia entre el promedio de cada grupo reflejado en los histogramas; ademas, el test de hipotesis nos arrojo en todos los casos un p-valor muy elevado, por lo que no hay evidencia suficiente para rechazar la hipotesis nula, es decir, `no existe evidencia suficiente que nos indique que las medias de cada una de las variables para Oceania sea diferente de las demas regiones.`</font>**"
   ]
  },
  {
   "cell_type": "code",
   "execution_count": null,
   "id": "c1304b07",
   "metadata": {},
   "outputs": [],
   "source": []
  }
 ],
 "metadata": {
  "kernelspec": {
   "display_name": "Python 3.6.8 64-bit",
   "language": "python",
   "name": "python3"
  },
  "language_info": {
   "codemirror_mode": {
    "name": "ipython",
    "version": 3
   },
   "file_extension": ".py",
   "mimetype": "text/x-python",
   "name": "python",
   "nbconvert_exporter": "python",
   "pygments_lexer": "ipython3",
   "version": "3.6.8"
  },
  "vscode": {
   "interpreter": {
    "hash": "3bdfc9259a895d0928a4ae2f6847af189aa6726de5ec3e388785c2fb28cb2e34"
   }
  }
 },
 "nbformat": 4,
 "nbformat_minor": 5
}
