{
 "cells": [
  {
   "cell_type": "markdown",
   "id": "8429edf4",
   "metadata": {},
   "source": [
    "<h1 style=\"text-align: center;\">Desafío - Variables</h1>\n",
    "\n",
    "- Para realizar este desafío debes haber estudiado previamente todo el material disponible correspondiente a la unidad.\n",
    "- Una vez terminado el desafío, comprime la carpeta que contiene el desarrollo de los requerimientos solicitados y sube el .zip en el LMS.\n",
    "- Desarrollo del desafío: individual\n",
    "- Para la realización del desafío necesitarás apoyarte del archivo `Apoyo Desafío - Variables.zip`, disponible en la <a href=\"https://empieza.desafiolatam.com/cohorts/2108/sections/79631/activities/120916/items/617715\">plataforma</a>."
   ]
  },
  {
   "cell_type": "markdown",
   "id": "6beeff45",
   "metadata": {},
   "source": [
    "## Habilidades a evaluar\n",
    "- Hacer uso de métodos de `pandas` para segmentar columnas y filas.\n",
    "- Hacer uso de los métodos `iterrows` e `iteritems` para implementar loops en `pandas`.\n",
    "- Implementar `enumerate` en loops.\n",
    "- Conocer las principales convenciones en la visualización de resultados en histogramas, gráficos de punto y barras.\n",
    "- Generar simulaciones de la distribución normal.\n",
    "- Conocer las principales aplicaciones de las distribuciones.\n",
    "- Calcular e interpretar puntajes z."
   ]
  },
  {
   "cell_type": "markdown",
   "id": "9c782f9b",
   "metadata": {},
   "source": [
    "## Descripción\n",
    "- La empresa en la cual usted trabaja tiene como solicitud el análisis del Índice de Desarrollo Humano (IDH) de diversos países para elaborar un informe para el Ministerio de Relaciones Exteriores, a fin de poder contar con la data necesaria para poder comenzar a trabajar en relaciones diplomáticas más estrechas con diversos países. Para ello, usted queda a cargo de poder revisar la base de datos \"Quality of Government\", de la Universidad de Gotemburgo.\n",
    "\n",
    "- Las unidades de medición en esta base corresponden a **194 países**, recolectando los últimos datos de enero del 2018. Además, se le recuerda que la base de datos es un compendio de alrededor de 1900 variables, que miden las causas y consecuencias de un buen gobierno en materias económicas, salud pública, medio ambiente, salud institucional, corrupción, entre otras."
   ]
  },
  {
   "cell_type": "markdown",
   "id": "af930026",
   "metadata": {},
   "source": [
    "## Requerimientos\n",
    "A continuación, revisaremos los requerimientos y acciones que el Ministerio de RREE te pide realizar.\n",
    "\n",
    "### 1. Genere una muestra de casos (1 punto). Para ello debes considerar:\n",
    "\n",
    "- Utilice los últimos 4 dígitos de su rut como semilla pseudoaleatoria.\n",
    "- Seleccione el 50% de los casos.\n",
    "- Cada base generada debe contener los siguientes elementos:\n",
    "    - El índice de desarrollo humano (`undp_hdi`).\n",
    "    - El nombre del país (`ccodealp`).\n",
    "    - La región a la que pertenece (`ht_region`).\n",
    "    - El PIB per cápita. (`gle_cgdpc`).\n",
    "    - El total de la población (`imf_pop`).\n",
    "    \n",
    "- Si su **apellido está entre la A y la M**, escoja las siguientes variables del módulo **Educación**:\n",
    "    - `ffp_hf`: Human Flight and Brain Drain.\n",
    "    - `wef_qes`: Quality of the educational system.\n",
    "    - `wdi_expedu`: Government expenditure on education, total (% of GDP).\n",
    "    - `wdi_ners`: School enrollment, secondary (% net).\n",
    "\n",
    "- Si su **apellido está entre la N y la Z**, escoja las siguientes variables del módulo **Salud**:\n",
    "    - `wef_imort`: Infant mortality, deaths/1000 live births.\n",
    "    - `who_alc2000`: Alcohol consumption per capita (2000-).\n",
    "    - `who_tobt`: Current smoking of any tobacco product (Total).\n",
    "    - `wdi_exph`: Government expenditure on health, total (% of GDP).\n",
    "\n",
    "- Guarde esta tabla procesada en un nuevo objeto.\n",
    "- Renombre las categorías de la variable `ht_region` de números a nombres de regiones, según la siguiente recodificación:\n",
    "\n",
    "<table>\n",
    "  <tr>\n",
    "    <th>Código Región</th>\n",
    "    <th>Nombre Región</th>\n",
    "  </tr>\n",
    "  <tr>\n",
    "    <td>1</td>\n",
    "    <td>EastEurope</td>\n",
    "  </tr>\n",
    "  <tr>\n",
    "    <td>2</td>\n",
    "    <td>LatAm</td>\n",
    "  </tr>\n",
    "  <tr>\n",
    "    <td>3</td>\n",
    "    <td>NorthAfrica</td>\n",
    "  </tr>\n",
    "  <tr>\n",
    "    <td>4</td>\n",
    "    <td>SubSaharian</td>\n",
    "  </tr>\n",
    "  <tr>\n",
    "    <td>5</td>\n",
    "    <td>WesternDem</td>\n",
    "  </tr>\n",
    "  <tr>\n",
    "    <td>6</td>\n",
    "    <td>EastAsia</td>\n",
    "  </tr>\n",
    "  <tr>\n",
    "    <td>7</td>\n",
    "    <td>SouthEastAsia</td>\n",
    "  </tr>\n",
    "  <tr>\n",
    "    <td>8</td>\n",
    "    <td>SouthAsia</td>\n",
    "  </tr>\n",
    "  <tr>\n",
    "    <td>9</td>\n",
    "    <td>Pacific</td>\n",
    "  </tr>\n",
    "  <tr>\n",
    "    <td>10</td>\n",
    "    <td>Caribbean</td>\n",
    "  </tr>\n",
    "</table>"
   ]
  },
  {
   "cell_type": "code",
   "execution_count": 57,
   "id": "ac9efa66",
   "metadata": {},
   "outputs": [
    {
     "data": {
      "text/plain": [
       "(194, 1882)"
      ]
     },
     "metadata": {},
     "output_type": "display_data"
    }
   ],
   "source": [
    "# Utilice esta celda para importar los módulos necesarios e instanciar el DataFrame con los datos requeridos\n",
    "import pandas as pd\n",
    "import numpy as np\n",
    "import matplotlib.pyplot as plt\n",
    "\n",
    "#Importamos el csv\n",
    "df = pd.read_csv('qog_std_cs_jan18.csv')\n",
    "display(df.shape)"
   ]
  },
  {
   "cell_type": "code",
   "execution_count": 58,
   "id": "77d2405d",
   "metadata": {},
   "outputs": [],
   "source": [
    "# Utilice esta celda para hacer la selección de datos solicitada y almacenar en nueva variable\n",
    "\n",
    "#Obtenemos el 50% de los datos segun semilla\n",
    "df_sample = df.sample(frac = 0.5, random_state=3909)\n",
    "\n",
    "#Definimos las columnas a ocupar\n",
    "columns_obligatorias = ['undp_hdi','ccodealp','ht_region','gle_cgdpc','imf_pop']\n",
    "columns_apellido = ['ffp_hf','wef_qes','wdi_expedu','wdi_ners']\n",
    "\n",
    "#Guardamos tabla filtrada\n",
    "df_subset = df_sample[columns_obligatorias + columns_apellido]"
   ]
  },
  {
   "cell_type": "code",
   "execution_count": 59,
   "id": "c1c8db09",
   "metadata": {},
   "outputs": [],
   "source": [
    "# Utilice esta celda para realizar la recodificación de las regiones\n",
    "import warnings\n",
    "warnings.simplefilter('ignore') # ignora los warnings que aparecen, muy utiles para modelos\n",
    "\n",
    "#Recodificamos la columna con la region\n",
    "values = [1,2,3,4,5,6,7,8,9,10]\n",
    "values_replace = ['EastEurope','LatAm','NorthAfrica','SubSaharian','WesternDem','EastAsia','SouthEastAsia','SouthAsia','Pacific','Caribbean']\n",
    "\n",
    "df_subset['ht_region'] = df_subset['ht_region'].replace(values,values_replace)"
   ]
  },
  {
   "cell_type": "markdown",
   "id": "18f47eb1",
   "metadata": {},
   "source": [
    "### 2. Genere una función que ingrese su objeto y devuelva lo siguiente (2 puntos):\n",
    "- Por cada variable existente en su objeto, calcule las medidas descriptivas para los casos continuos.\n",
    "- Para cada variable discreta, que calcule la frecuencia.\n",
    "- Reporte las estadísticas descriptivas para `gle_cgdpc`, `undp_hdi`, `imf_pop`.\n"
   ]
  },
  {
   "cell_type": "code",
   "execution_count": 60,
   "id": "8eeabdd3",
   "metadata": {},
   "outputs": [],
   "source": [
    "# Utilice esta celda para definir la función\n",
    "# Tips: categoricas = data[columns].describe(include=[object]); numericas = data[columns].describe(include=[np.number])\n",
    "\n",
    "def fecth_descriptives(dataframe):\n",
    "    \"\"\"\n",
    "        Objetivo:\n",
    "            - Retornar las estadisticas descriptivas de un dataframe entregado\n",
    "            \n",
    "        Parámetros:\n",
    "            - dataframe (dataframe): Dataframe que contine las variables para el resumen de estadistica descriptiva\n",
    "\n",
    "        Retorno:\n",
    "           - Retorna un frame el resumen de las variables entregadas\n",
    "    \"\"\"\n",
    "    \n",
    "    df_categoricas = dataframe.select_dtypes('object')\n",
    "    df_numericas = dataframe.select_dtypes(np.number)\n",
    "    \n",
    "    display(df_numericas.describe())\n",
    "\n",
    "    for columns, serie in df_categoricas.iteritems():\n",
    "        display(serie.value_counts().to_frame())"
   ]
  },
  {
   "cell_type": "code",
   "execution_count": 61,
   "id": "0042f0a1",
   "metadata": {},
   "outputs": [
    {
     "data": {
      "text/html": [
       "<div>\n",
       "<style scoped>\n",
       "    .dataframe tbody tr th:only-of-type {\n",
       "        vertical-align: middle;\n",
       "    }\n",
       "\n",
       "    .dataframe tbody tr th {\n",
       "        vertical-align: top;\n",
       "    }\n",
       "\n",
       "    .dataframe thead th {\n",
       "        text-align: right;\n",
       "    }\n",
       "</style>\n",
       "<table border=\"1\" class=\"dataframe\">\n",
       "  <thead>\n",
       "    <tr style=\"text-align: right;\">\n",
       "      <th></th>\n",
       "      <th>gle_cgdpc</th>\n",
       "      <th>undp_hdi</th>\n",
       "      <th>imf_pop</th>\n",
       "    </tr>\n",
       "  </thead>\n",
       "  <tbody>\n",
       "    <tr>\n",
       "      <th>count</th>\n",
       "      <td>95.000000</td>\n",
       "      <td>93.000000</td>\n",
       "      <td>74.000000</td>\n",
       "    </tr>\n",
       "    <tr>\n",
       "      <th>mean</th>\n",
       "      <td>18296.038379</td>\n",
       "      <td>0.716398</td>\n",
       "      <td>32.121270</td>\n",
       "    </tr>\n",
       "    <tr>\n",
       "      <th>std</th>\n",
       "      <td>20758.787608</td>\n",
       "      <td>0.161540</td>\n",
       "      <td>58.134566</td>\n",
       "    </tr>\n",
       "    <tr>\n",
       "      <th>min</th>\n",
       "      <td>324.160000</td>\n",
       "      <td>0.347000</td>\n",
       "      <td>0.034000</td>\n",
       "    </tr>\n",
       "    <tr>\n",
       "      <th>25%</th>\n",
       "      <td>3905.390050</td>\n",
       "      <td>0.604000</td>\n",
       "      <td>3.041250</td>\n",
       "    </tr>\n",
       "    <tr>\n",
       "      <th>50%</th>\n",
       "      <td>10944.540000</td>\n",
       "      <td>0.751000</td>\n",
       "      <td>8.342000</td>\n",
       "    </tr>\n",
       "    <tr>\n",
       "      <th>75%</th>\n",
       "      <td>26320.049500</td>\n",
       "      <td>0.845000</td>\n",
       "      <td>30.468250</td>\n",
       "    </tr>\n",
       "    <tr>\n",
       "      <th>max</th>\n",
       "      <td>108481.130000</td>\n",
       "      <td>0.948000</td>\n",
       "      <td>318.789001</td>\n",
       "    </tr>\n",
       "  </tbody>\n",
       "</table>\n",
       "</div>"
      ],
      "text/plain": [
       "           gle_cgdpc   undp_hdi     imf_pop\n",
       "count      95.000000  93.000000   74.000000\n",
       "mean    18296.038379   0.716398   32.121270\n",
       "std     20758.787608   0.161540   58.134566\n",
       "min       324.160000   0.347000    0.034000\n",
       "25%      3905.390050   0.604000    3.041250\n",
       "50%     10944.540000   0.751000    8.342000\n",
       "75%     26320.049500   0.845000   30.468250\n",
       "max    108481.130000   0.948000  318.789001"
      ]
     },
     "metadata": {},
     "output_type": "display_data"
    }
   ],
   "source": [
    "# Utilice esta celda para realizar el llamado en las 3 variables solicitadas\n",
    "\n",
    "fecth_descriptives(df_subset[['gle_cgdpc', 'undp_hdi', 'imf_pop']])"
   ]
  },
  {
   "cell_type": "markdown",
   "id": "3c44becb",
   "metadata": {},
   "source": [
    "**Compare las estadísticas con algún compañero. ¿Ve alguna diferencia sustancial en alguna de ellas?**\n",
    "\n",
    "**Respuesta:** Se ven levemente diferentes el promedio y la desv. standart de gle_cgdpc y imf_pop."
   ]
  },
  {
   "cell_type": "markdown",
   "id": "1d9c2d4d",
   "metadata": {},
   "source": [
    "### 3. Genere una función que liste las observaciones perdidas de una variable (2 puntos)\n",
    "- La función debe contener los siguientes argumentos:\n",
    "    - `dataframe`: La función debe ingresar un objeto DataFrame.\n",
    "    - `var`: Variable a inspeccionar.\n",
    "    - `print_list`: Opción para imprimir la lista de observaciones perdidas en la variable. Debe ser `False` por defecto.\n",
    "    \n",
    "- La función debe retornar la cantidad de casos perdidos y el porcentaje correspondiente.\n",
    "- Cuando `print_list = True`, debe retornar la lista de casos.\n",
    "- Analice todas las variables y sus casos perdidos.\n",
    "- Para las 3 variables con un mayor porcentaje de casos perdidos, solicite la lista de países con ausencia de datos."
   ]
  },
  {
   "cell_type": "code",
   "execution_count": 62,
   "id": "fe70774e",
   "metadata": {},
   "outputs": [],
   "source": [
    "# Utilice esta celda para definir la función solicitada\n",
    "# Tip: dataframe[var].isna()\n",
    "\n",
    "def listar_nulos(dataframe, var, print_list = False):\n",
    "    \"\"\"\n",
    "        Objetivo:\n",
    "            - Retornar la cantidad de casos perdidos y el porcentaje correspondiente de estos, para una variable\n",
    "            \n",
    "        Parámetros:\n",
    "            - dataframe (dataframe): Dataframe donde esta la variable a calcular\n",
    "            - var (columna): Nombre de la columna para calcular\n",
    "            - print_list (booleano): Se especifica si se quiere saber cuales son las regiones de la variable es nula. Por defecto es False\n",
    "\n",
    "        Retorno:\n",
    "           - Retorna un print con la candidad de nulos de la variable y el porcentaje correspondiente\n",
    "    \"\"\"\n",
    "\n",
    "    perdidos = dataframe[var].isna()\n",
    "    n_perdidos = perdidos.sum()\n",
    "    porc_nulos = n_perdidos/perdidos.shape[0]\n",
    "    lista_regiones = dataframe[perdidos]['ht_region'].unique().tolist()\n",
    "\n",
    "    print(f'Cantidad de nulos de {var}: {n_perdidos}')\n",
    "    print(f'Porcentaje de nulos de {var}: {porc_nulos}')\n",
    "\n",
    "    if print_list == True:\n",
    "        print(f'Las regiones donde {var} es nula son: {lista_regiones}\\n')"
   ]
  },
  {
   "cell_type": "code",
   "execution_count": 63,
   "id": "c551a216",
   "metadata": {},
   "outputs": [
    {
     "name": "stdout",
     "output_type": "stream",
     "text": [
      "Cantidad de nulos de undp_hdi: 4\n",
      "Porcentaje de nulos de undp_hdi: 0.041237113402061855\n",
      "Cantidad de nulos de ccodealp: 0\n",
      "Porcentaje de nulos de ccodealp: 0.0\n",
      "Cantidad de nulos de ht_region: 0\n",
      "Porcentaje de nulos de ht_region: 0.0\n",
      "Cantidad de nulos de gle_cgdpc: 2\n",
      "Porcentaje de nulos de gle_cgdpc: 0.020618556701030927\n",
      "Cantidad de nulos de imf_pop: 23\n",
      "Porcentaje de nulos de imf_pop: 0.23711340206185566\n",
      "Cantidad de nulos de ffp_hf: 10\n",
      "Porcentaje de nulos de ffp_hf: 0.10309278350515463\n",
      "Cantidad de nulos de wef_qes: 22\n",
      "Porcentaje de nulos de wef_qes: 0.2268041237113402\n",
      "Cantidad de nulos de wdi_expedu: 24\n",
      "Porcentaje de nulos de wdi_expedu: 0.24742268041237114\n",
      "Cantidad de nulos de wdi_ners: 24\n",
      "Porcentaje de nulos de wdi_ners: 0.24742268041237114\n"
     ]
    }
   ],
   "source": [
    "# Utilice esta celda para realizar el llamado para todas las variables, con print_list=False. Puede usar un loop.\n",
    "for variable in df_subset.columns:\n",
    "    listar_nulos(df_subset, variable)"
   ]
  },
  {
   "cell_type": "code",
   "execution_count": 64,
   "id": "4ef2c62a",
   "metadata": {},
   "outputs": [
    {
     "name": "stdout",
     "output_type": "stream",
     "text": [
      "Cantidad de nulos de wdi_ners: 24\n",
      "Porcentaje de nulos de wdi_ners: 0.24742268041237114\n",
      "Las regiones donde wdi_ners es nula son: ['SubSaharian', 'SouthEastAsia', 'WesternDem', 'NorthAfrica', 'EastEurope', 'Caribbean', 'EastAsia']\n",
      "\n",
      "Cantidad de nulos de wdi_expedu: 24\n",
      "Porcentaje de nulos de wdi_expedu: 0.24742268041237114\n",
      "Las regiones donde wdi_expedu es nula son: ['SubSaharian', 'Pacific', 'NorthAfrica', 'Caribbean', 'WesternDem', 'EastEurope', 'EastAsia', 'LatAm']\n",
      "\n",
      "Cantidad de nulos de imf_pop: 23\n",
      "Porcentaje de nulos de imf_pop: 0.23711340206185566\n",
      "Las regiones donde imf_pop es nula son: ['SubSaharian', 'WesternDem', 'LatAm', 'NorthAfrica', 'SouthAsia', 'Caribbean', 'EastEurope']\n",
      "\n"
     ]
    }
   ],
   "source": [
    "# Utilice esta celda para realizar el llamado para las 3 variables con más datos perdidos, mostrando la lista de países con ausencia de datos\n",
    "\n",
    "for variable in ['wdi_ners', 'wdi_expedu', 'imf_pop']:\n",
    "    listar_nulos(df_subset, variable, print_list = True)"
   ]
  },
  {
   "cell_type": "markdown",
   "id": "b565747c",
   "metadata": {},
   "source": [
    "### 4. Grafique histogramas indicando medias muestral y total (2 puntos)\n",
    "- Genere una nueva función que grafique un histograma de una variable entregada para un `DataFrame` de muestra. El gráfico debe además señalar las medias de la variable entregada, tanto para el `DataFrame` de muestra entregado, como para el `DataFrame` completo correspondiente.\n",
    "- La función debe incluir los siguientes argumentos:\n",
    "    - `sample_df`: La base de datos donde se encuentran los datos específicos (muestra).\n",
    "    - `full_df`: La base de datos donde se encuentran todos los datos (contiene los datos de la muestra).\n",
    "    - `var`: La variable a graficar.\n",
    "    - `sample_mean`: Booleano. Si es verdadero, debe generar una recta vertical indicando la media de la variable en la selección muestral (sample_df). Por defecto debe ser False.\n",
    "    - `true_mean`: Booleano. Si es verdadero, debe generar una recta vertical indicando la media de variable en la base de datos completa (full_df).\n",
    "- Realice el llamado a la función para las 4 variables seleccionadas según su grupo."
   ]
  },
  {
   "cell_type": "code",
   "execution_count": 65,
   "id": "8ab40bb6",
   "metadata": {},
   "outputs": [],
   "source": [
    "# Utilice esta celda para definir la función\n",
    "\n",
    "def plot_hist(sample_df, full_df, var, true_mean, sample_mean = False):\n",
    "    \"\"\"\n",
    "        Objetivo:\n",
    "            - Generar un histograma de una variable entregada para un Dataframe de muestra\n",
    "            \n",
    "        Parámetros:\n",
    "            - sample_df (dataframe): Dataframe de muestra\n",
    "            - full_df (dataframe): Dataframe completo\n",
    "            - var (columna): Nombre de la columna a graficar en el histograma\n",
    "            - true_mean (booleano): Se especifica si se desea mostrar el valor de la media de la columna entregada segun el dataset completo. Por defecto es True\n",
    "            - sample_mean (booleano): Se especifica si se desea mostrar el valor de la media de la columna entregada segun el dataset de muestra. Por defecto es True\n",
    "\n",
    "        Retorno:\n",
    "           - Retorna un histograma con las medias especificadas\n",
    "    \"\"\"\n",
    "\n",
    "    sample_var = sample_df[var].dropna()\n",
    "    full_var = full_df[var].dropna()\n",
    "\n",
    "    plt.hist(sample_var, color= 'blue', alpha = .4, label = var)\n",
    "\n",
    "    if sample_mean == True:\n",
    "        plt.axvline(sample_var.mean(), color = 'tomato', ls = '--', label = f'Media_Muestral de {var}')\n",
    "\n",
    "    if true_mean == True:\n",
    "        plt.axvline(full_var.mean(), color = 'blue', ls = '--', label = f'Meadia_Real de {var}')    \n",
    "\n",
    "    plt.legend()"
   ]
  },
  {
   "cell_type": "code",
   "execution_count": 66,
   "id": "db728ada",
   "metadata": {},
   "outputs": [
    {
     "data": {
      "image/png": "[encoded data removed]",
      "text/plain": [
       "<Figure size 432x288 with 1 Axes>"
      ]
     },
     "metadata": {
      "needs_background": "light"
     },
     "output_type": "display_data"
    }
   ],
   "source": [
    "# Utilice esta celda para realizar el llamado para la primera variable\n",
    "\n",
    "plot_hist(df_subset, df, 'ffp_hf', true_mean = True, sample_mean= True)"
   ]
  },
  {
   "cell_type": "code",
   "execution_count": 67,
   "id": "4b6b83e5",
   "metadata": {},
   "outputs": [
    {
     "data": {
      "image/png": "[encoded data removed]",
      "text/plain": [
       "<Figure size 432x288 with 1 Axes>"
      ]
     },
     "metadata": {
      "needs_background": "light"
     },
     "output_type": "display_data"
    }
   ],
   "source": [
    "# Utilice esta celda para realizar el llamado para la segunda variable\n",
    "\n",
    "plot_hist(df_subset, df, 'wef_qes', true_mean = True, sample_mean= True)"
   ]
  },
  {
   "cell_type": "code",
   "execution_count": 68,
   "id": "550f7276",
   "metadata": {},
   "outputs": [
    {
     "data": {
      "image/png": "[encoded data removed]",
      "text/plain": [
       "<Figure size 432x288 with 1 Axes>"
      ]
     },
     "metadata": {
      "needs_background": "light"
     },
     "output_type": "display_data"
    }
   ],
   "source": [
    "# Utilice esta celda para realizar el llamado para la tercera variable\n",
    "\n",
    "plot_hist(df_subset, df, 'wdi_expedu', true_mean = True, sample_mean= True)"
   ]
  },
  {
   "cell_type": "code",
   "execution_count": 69,
   "id": "490628fd",
   "metadata": {},
   "outputs": [
    {
     "data": {
      "image/png": "[encoded data removed]",
      "text/plain": [
       "<Figure size 432x288 with 1 Axes>"
      ]
     },
     "metadata": {
      "needs_background": "light"
     },
     "output_type": "display_data"
    }
   ],
   "source": [
    "# Utiliza esta celda para realizar el llamado para la cuarta variable\n",
    "\n",
    "plot_hist(df_subset, df, 'wdi_ners', true_mean = True, sample_mean= True)"
   ]
  },
  {
   "cell_type": "markdown",
   "id": "fb0e23a7",
   "metadata": {},
   "source": [
    "**¿En qué variables la media de la muestra es mayor a la de los datos completos?**\n",
    "\n",
    "**Respuesta:** Solo en dos casos, para la variable **`wef_qes`** y **`wdi_ners`**"
   ]
  },
  {
   "cell_type": "markdown",
   "id": "b807d793",
   "metadata": {},
   "source": [
    "### 5. Genere una función que devuelva un dotplot con las medias por región para una variable entregada (2 puntos)\n",
    "- Cada \"punto\" del `dotplot` debe representar la media, o mediana, de una variable, para una región específica.\n",
    "- La función debe contener los siguientes parámetros:\n",
    "    - `dataframe`: La tabla de datos donde buscar las variables.\n",
    "    - `plot_var`: Corresponde a una columna del dataframe entregado, de la cual se desea obtener la métrica (puede ser media o mediana).\n",
    "    - `plot_by`: Corresponde a otra columna del dataframe entregado. Es la columna por la cual se quiere agrupar el dataframe, para acceder luego a la columna entregada en plot_var. _**Tip**_: Revise el uso del método `groupby` de `pandas`.\n",
    "    - `statistic`: Debe presentar dos opciones; \"mean\" para la media y \"median\" para la mediana. Por defecto debe ser \"mean\".\n",
    "    - `global_stat`: Booleano. Si es True, debe graficar la media (o mediana, según lo indicado en statistic) de la variable plot_var entregada, sin agrupar (para todos los datos entregados en dataframe). Por defecto debe ser `False`.\n",
    "\n",
    "- Utilice la función en las 3 variables con una menor cantidad de datos perdidos."
   ]
  },
  {
   "cell_type": "code",
   "execution_count": 70,
   "id": "fd5ddabd",
   "metadata": {},
   "outputs": [],
   "source": [
    "# Utilice esta celda para definir la función\n",
    "\n",
    "def dotplot(dataframe, plot_var, plot_by, statistic = 'mean', global_stat = False):\n",
    "    \"\"\"\n",
    "        Objetivo:\n",
    "            - Generar un dotplot de una variable entregada para un Dataframe\n",
    "            \n",
    "        Parámetros:\n",
    "            - dataframe (dataframe): Dataframe donde se encuentra la columna a graficar\n",
    "            - plot_var (columna): Nombre de la columna a graficar en el histograma\n",
    "            - plot_by (columna): Nombre de la columna segun un filtro\n",
    "            - statistic (string): Nombre de la estadistica a mostrar. Admite solo 2 valores posible: mean o median\n",
    "            - global_stat (booleano): Se especifica si se desea mostrar el valor de la media de la columna entregada. Por defecto es True\n",
    "\n",
    "        Retorno:\n",
    "           - Retorna un histograma con las medias especificadas\n",
    "    \"\"\"\n",
    "    \n",
    "    medias = dataframe.groupby(plot_by)[plot_var].mean()\n",
    "    medianas = dataframe.groupby(plot_by)[plot_var].median()\n",
    "\n",
    "    if statistic =='mean' and global_stat == False:\n",
    "        plt.plot(medias.values, medias.index, 'o', label= f'media de {plot_var}')\n",
    "\n",
    "    if statistic =='median' and global_stat == False:\n",
    "        plt.plot(medianas.values, medianas.index, 'o', label= f'mediana de {plot_var}')\n",
    "\n",
    "    if statistic =='mean' and global_stat == True:\n",
    "        plt.plot(medias.values, medias.index, 'o', label= f'media de {plot_var}')\n",
    "        plt.axvline(dataframe[plot_var].mean(), color = 'tomato', ls = '--', label = f'media global de {plot_var}')\n",
    "\n",
    "    if statistic =='median' and global_stat == True:\n",
    "        plt.plot(medianas.values, medianas.index, 'o', label= f'mediana de {plot_var}')\n",
    "        plt.axvline(dataframe[plot_var].mean(), color = 'tomato', ls = '--', label = f'mediana global de {plot_var}')\n",
    "    \n",
    "    plt.legend()"
   ]
  },
  {
   "cell_type": "code",
   "execution_count": 71,
   "id": "ddb7ff58",
   "metadata": {},
   "outputs": [
    {
     "data": {
      "image/png": "[encoded data removed]",
      "text/plain": [
       "<Figure size 432x288 with 1 Axes>"
      ]
     },
     "metadata": {
      "needs_background": "light"
     },
     "output_type": "display_data"
    }
   ],
   "source": [
    "# Utilice esta celda para realizar el llamado para la primera variable\n",
    "\n",
    "dotplot(df_subset,'gle_cgdpc', 'ht_region', statistic = 'mean', global_stat=True)"
   ]
  },
  {
   "cell_type": "code",
   "execution_count": 72,
   "id": "a2586f89",
   "metadata": {},
   "outputs": [
    {
     "data": {
      "image/png": "[encoded data removed]",
      "text/plain": [
       "<Figure size 432x288 with 1 Axes>"
      ]
     },
     "metadata": {
      "needs_background": "light"
     },
     "output_type": "display_data"
    }
   ],
   "source": [
    "# Utilice esta celda para realizar el llamado para la segunda variable\n",
    "\n",
    "dotplot(df_subset,'undp_hdi', 'ht_region', statistic = 'mean', global_stat=True)"
   ]
  },
  {
   "cell_type": "code",
   "execution_count": 73,
   "id": "a43e2ee4",
   "metadata": {},
   "outputs": [
    {
     "data": {
      "image/png": "[encoded data removed]",
      "text/plain": [
       "<Figure size 432x288 with 1 Axes>"
      ]
     },
     "metadata": {
      "needs_background": "light"
     },
     "output_type": "display_data"
    }
   ],
   "source": [
    "# Utilice esta celda para realizar el llamado para la tercera variable\n",
    "\n",
    "dotplot(df_subset,'ffp_hf', 'ht_region', statistic = 'mean', global_stat=True)"
   ]
  },
  {
   "cell_type": "markdown",
   "id": "a74ee436",
   "metadata": {},
   "source": [
    "### 6. Guarde la base de datos (1 punto)\n",
    "- La submuestra creada tiene un método llamado `to_csv()`. Acceda a éste y guarde la base de datos con la siguiente nomenclatura:\n",
    "    - `subsample_<iniciales>_demo.csv`\n",
    "\n",
    "- Subir el archivo generado a la plataforma, junto al desafío"
   ]
  },
  {
   "cell_type": "code",
   "execution_count": 56,
   "id": "4eba535b",
   "metadata": {},
   "outputs": [],
   "source": [
    "# Utilice esta celda para realizar el guardado del dataframe\n",
    "\n",
    "iniciales = 'rb'\n",
    "df_subset.to_csv(f'subsample_{iniciales}_demo.csv', index = False)"
   ]
  }
 ],
 "metadata": {
  "kernelspec": {
   "display_name": "Python 3 (ipykernel)",
   "language": "python",
   "name": "python3"
  },
  "language_info": {
   "codemirror_mode": {
    "name": "ipython",
    "version": 3
   },
   "file_extension": ".py",
   "mimetype": "text/x-python",
   "name": "python",
   "nbconvert_exporter": "python",
   "pygments_lexer": "ipython3",
   "version": "3.9.12"
  },
  "vscode": {
   "interpreter": {
    "hash": "3bdfc9259a895d0928a4ae2f6847af189aa6726de5ec3e388785c2fb28cb2e34"
   }
  }
 },
 "nbformat": 4,
 "nbformat_minor": 5
}
