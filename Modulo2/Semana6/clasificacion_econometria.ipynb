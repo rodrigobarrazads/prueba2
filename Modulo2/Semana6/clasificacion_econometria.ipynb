{
 "cells": [
  {
   "cell_type": "markdown",
   "id": "86e0ae5d",
   "metadata": {},
   "source": [
    "<h1 style=\"text-align: center;\">Desafío - Clasificación desde la econometría</h1>\n",
    "\n",
    "- Para realizar este desafío debes haber estudiado previamente todo el material disponible correspondiente a la unidad.\n",
    "- Una vez terminado el desafío, comprime la carpeta que contiene el desarrollo de los requerimientos solicitados y sube el .zip en el LMS.\n",
    "- Desarrollo del desafío: individual\n",
    "- Para la realización del desafío necesitarás apoyarte del archivo `Apoyo Desafío - Clasificación desde la econometría`, disponible en la <a href=\"https://empieza.desafiolatam.com/cohorts/2091/sections/78288/activities/119116/items/610922\">plataforma</a>."
   ]
  },
  {
   "cell_type": "markdown",
   "id": "8d7bf68f",
   "metadata": {},
   "source": [
    "## Descripción\n",
    "En esta sesión trabajaremos el dataset south african heart, el cual contiene las siguientes variables:\n",
    "- `sbp`: Presión Sanguínea Sistólica.\n",
    "- `tobacco`: Promedio tabaco consumido por día.\n",
    "- `ldl`: Lipoproteína de baja densidad.\n",
    "- `adiposity`: Adiposidad.\n",
    "- `famhist`: Antecedentes familiares de enfermedades cardiácas. (Binaria)\n",
    "- `types`: Personalidad tipo A\n",
    "- `obesity`: Obesidad.\n",
    "- `alcohol`: Consumo actual de alcohol.\n",
    "- `age`: edad.\n",
    "- `chd`: Enfermedad coronaria. (dummy). **Vector objetivo**."
   ]
  },
  {
   "cell_type": "markdown",
   "id": "a28ec1e8",
   "metadata": {},
   "source": [
    "### Desafío 1: Preparar el ambiente de trabajo\n",
    "- Cargue las librerías básicas para importación y manipulación de datos (numpy, pandas), gráficos (matplotlib y seaborn) y de modelación econométrica (statsmodels).\n",
    "- Importe el archivo `southafricanheart.csv` que se encuentra dentro del material de apoyo."
   ]
  },
  {
   "cell_type": "code",
   "execution_count": 78,
   "id": "0b44de77",
   "metadata": {},
   "outputs": [
    {
     "data": {
      "text/html": [
       "<div>\n",
       "<style scoped>\n",
       "    .dataframe tbody tr th:only-of-type {\n",
       "        vertical-align: middle;\n",
       "    }\n",
       "\n",
       "    .dataframe tbody tr th {\n",
       "        vertical-align: top;\n",
       "    }\n",
       "\n",
       "    .dataframe thead th {\n",
       "        text-align: right;\n",
       "    }\n",
       "</style>\n",
       "<table border=\"1\" class=\"dataframe\">\n",
       "  <thead>\n",
       "    <tr style=\"text-align: right;\">\n",
       "      <th></th>\n",
       "      <th>sbp</th>\n",
       "      <th>tobacco</th>\n",
       "      <th>ldl</th>\n",
       "      <th>adiposity</th>\n",
       "      <th>famhist</th>\n",
       "      <th>typea</th>\n",
       "      <th>obesity</th>\n",
       "      <th>alcohol</th>\n",
       "      <th>age</th>\n",
       "      <th>chd</th>\n",
       "    </tr>\n",
       "  </thead>\n",
       "  <tbody>\n",
       "    <tr>\n",
       "      <th>0</th>\n",
       "      <td>160</td>\n",
       "      <td>12.00</td>\n",
       "      <td>5.73</td>\n",
       "      <td>23.11</td>\n",
       "      <td>Present</td>\n",
       "      <td>49</td>\n",
       "      <td>25.30</td>\n",
       "      <td>97.20</td>\n",
       "      <td>52</td>\n",
       "      <td>1</td>\n",
       "    </tr>\n",
       "    <tr>\n",
       "      <th>1</th>\n",
       "      <td>144</td>\n",
       "      <td>0.01</td>\n",
       "      <td>4.41</td>\n",
       "      <td>28.61</td>\n",
       "      <td>Absent</td>\n",
       "      <td>55</td>\n",
       "      <td>28.87</td>\n",
       "      <td>2.06</td>\n",
       "      <td>63</td>\n",
       "      <td>1</td>\n",
       "    </tr>\n",
       "    <tr>\n",
       "      <th>2</th>\n",
       "      <td>118</td>\n",
       "      <td>0.08</td>\n",
       "      <td>3.48</td>\n",
       "      <td>32.28</td>\n",
       "      <td>Present</td>\n",
       "      <td>52</td>\n",
       "      <td>29.14</td>\n",
       "      <td>3.81</td>\n",
       "      <td>46</td>\n",
       "      <td>0</td>\n",
       "    </tr>\n",
       "    <tr>\n",
       "      <th>3</th>\n",
       "      <td>170</td>\n",
       "      <td>7.50</td>\n",
       "      <td>6.41</td>\n",
       "      <td>38.03</td>\n",
       "      <td>Present</td>\n",
       "      <td>51</td>\n",
       "      <td>31.99</td>\n",
       "      <td>24.26</td>\n",
       "      <td>58</td>\n",
       "      <td>1</td>\n",
       "    </tr>\n",
       "    <tr>\n",
       "      <th>4</th>\n",
       "      <td>134</td>\n",
       "      <td>13.60</td>\n",
       "      <td>3.50</td>\n",
       "      <td>27.78</td>\n",
       "      <td>Present</td>\n",
       "      <td>60</td>\n",
       "      <td>25.99</td>\n",
       "      <td>57.34</td>\n",
       "      <td>49</td>\n",
       "      <td>1</td>\n",
       "    </tr>\n",
       "  </tbody>\n",
       "</table>\n",
       "</div>"
      ],
      "text/plain": [
       "   sbp  tobacco   ldl  adiposity  famhist  typea  obesity  alcohol  age  chd\n",
       "0  160    12.00  5.73      23.11  Present     49    25.30    97.20   52    1\n",
       "1  144     0.01  4.41      28.61   Absent     55    28.87     2.06   63    1\n",
       "2  118     0.08  3.48      32.28  Present     52    29.14     3.81   46    0\n",
       "3  170     7.50  6.41      38.03  Present     51    31.99    24.26   58    1\n",
       "4  134    13.60  3.50      27.78  Present     60    25.99    57.34   49    1"
      ]
     },
     "execution_count": 78,
     "metadata": {},
     "output_type": "execute_result"
    }
   ],
   "source": [
    "# Utiliza esta celda para importar los módulos solicitados y el set de datos\n",
    "\n",
    "import pandas as pd\n",
    "import numpy as np\n",
    "import matplotlib.pyplot as plt\n",
    "import seaborn as sns\n",
    "import statsmodels.formula.api as smf\n",
    "import warnings \n",
    "\n",
    "warnings.simplefilter('ignore')\n",
    "\n",
    "df = pd.read_csv('southafricanheart.csv').drop(['Unnamed: 0'], axis=1)\n",
    "df.head()"
   ]
  },
  {
   "cell_type": "markdown",
   "id": "54f9bca6",
   "metadata": {},
   "source": [
    "- Realice una descripción del set importado mostrando la lista con los nombres de variables importadas"
   ]
  },
  {
   "cell_type": "code",
   "execution_count": 79,
   "id": "ef56c57c",
   "metadata": {},
   "outputs": [
    {
     "data": {
      "text/plain": [
       "Index(['sbp', 'tobacco', 'ldl', 'adiposity', 'famhist', 'typea', 'obesity',\n",
       "       'alcohol', 'age', 'chd'],\n",
       "      dtype='object')"
      ]
     },
     "execution_count": 79,
     "metadata": {},
     "output_type": "execute_result"
    }
   ],
   "source": [
    "# Utiliza esta celda para mostrar los nombres de las columnas del dataframe\n",
    "\n",
    "df.columns"
   ]
  },
  {
   "cell_type": "markdown",
   "id": "bbbf3682",
   "metadata": {},
   "source": [
    "- Muestre un análisis descriptivo mediante .describe()"
   ]
  },
  {
   "cell_type": "code",
   "execution_count": 80,
   "id": "39a0a43d",
   "metadata": {},
   "outputs": [
    {
     "data": {
      "text/html": [
       "<div>\n",
       "<style scoped>\n",
       "    .dataframe tbody tr th:only-of-type {\n",
       "        vertical-align: middle;\n",
       "    }\n",
       "\n",
       "    .dataframe tbody tr th {\n",
       "        vertical-align: top;\n",
       "    }\n",
       "\n",
       "    .dataframe thead th {\n",
       "        text-align: right;\n",
       "    }\n",
       "</style>\n",
       "<table border=\"1\" class=\"dataframe\">\n",
       "  <thead>\n",
       "    <tr style=\"text-align: right;\">\n",
       "      <th></th>\n",
       "      <th>count</th>\n",
       "      <th>unique</th>\n",
       "      <th>top</th>\n",
       "      <th>freq</th>\n",
       "      <th>mean</th>\n",
       "      <th>std</th>\n",
       "      <th>min</th>\n",
       "      <th>25%</th>\n",
       "      <th>50%</th>\n",
       "      <th>75%</th>\n",
       "      <th>max</th>\n",
       "    </tr>\n",
       "  </thead>\n",
       "  <tbody>\n",
       "    <tr>\n",
       "      <th>sbp</th>\n",
       "      <td>462</td>\n",
       "      <td>NaN</td>\n",
       "      <td>NaN</td>\n",
       "      <td>NaN</td>\n",
       "      <td>138.327</td>\n",
       "      <td>20.4963</td>\n",
       "      <td>101</td>\n",
       "      <td>124</td>\n",
       "      <td>134</td>\n",
       "      <td>148</td>\n",
       "      <td>218</td>\n",
       "    </tr>\n",
       "    <tr>\n",
       "      <th>tobacco</th>\n",
       "      <td>462</td>\n",
       "      <td>NaN</td>\n",
       "      <td>NaN</td>\n",
       "      <td>NaN</td>\n",
       "      <td>3.63565</td>\n",
       "      <td>4.59302</td>\n",
       "      <td>0</td>\n",
       "      <td>0.0525</td>\n",
       "      <td>2</td>\n",
       "      <td>5.5</td>\n",
       "      <td>31.2</td>\n",
       "    </tr>\n",
       "    <tr>\n",
       "      <th>ldl</th>\n",
       "      <td>462</td>\n",
       "      <td>NaN</td>\n",
       "      <td>NaN</td>\n",
       "      <td>NaN</td>\n",
       "      <td>4.74032</td>\n",
       "      <td>2.07091</td>\n",
       "      <td>0.98</td>\n",
       "      <td>3.2825</td>\n",
       "      <td>4.34</td>\n",
       "      <td>5.79</td>\n",
       "      <td>15.33</td>\n",
       "    </tr>\n",
       "    <tr>\n",
       "      <th>adiposity</th>\n",
       "      <td>462</td>\n",
       "      <td>NaN</td>\n",
       "      <td>NaN</td>\n",
       "      <td>NaN</td>\n",
       "      <td>25.4067</td>\n",
       "      <td>7.7807</td>\n",
       "      <td>6.74</td>\n",
       "      <td>19.775</td>\n",
       "      <td>26.115</td>\n",
       "      <td>31.2275</td>\n",
       "      <td>42.49</td>\n",
       "    </tr>\n",
       "    <tr>\n",
       "      <th>famhist</th>\n",
       "      <td>462</td>\n",
       "      <td>2</td>\n",
       "      <td>Absent</td>\n",
       "      <td>270</td>\n",
       "      <td>NaN</td>\n",
       "      <td>NaN</td>\n",
       "      <td>NaN</td>\n",
       "      <td>NaN</td>\n",
       "      <td>NaN</td>\n",
       "      <td>NaN</td>\n",
       "      <td>NaN</td>\n",
       "    </tr>\n",
       "    <tr>\n",
       "      <th>typea</th>\n",
       "      <td>462</td>\n",
       "      <td>NaN</td>\n",
       "      <td>NaN</td>\n",
       "      <td>NaN</td>\n",
       "      <td>53.1039</td>\n",
       "      <td>9.81753</td>\n",
       "      <td>13</td>\n",
       "      <td>47</td>\n",
       "      <td>53</td>\n",
       "      <td>60</td>\n",
       "      <td>78</td>\n",
       "    </tr>\n",
       "    <tr>\n",
       "      <th>obesity</th>\n",
       "      <td>462</td>\n",
       "      <td>NaN</td>\n",
       "      <td>NaN</td>\n",
       "      <td>NaN</td>\n",
       "      <td>26.0441</td>\n",
       "      <td>4.21368</td>\n",
       "      <td>14.7</td>\n",
       "      <td>22.985</td>\n",
       "      <td>25.805</td>\n",
       "      <td>28.4975</td>\n",
       "      <td>46.58</td>\n",
       "    </tr>\n",
       "    <tr>\n",
       "      <th>alcohol</th>\n",
       "      <td>462</td>\n",
       "      <td>NaN</td>\n",
       "      <td>NaN</td>\n",
       "      <td>NaN</td>\n",
       "      <td>17.0444</td>\n",
       "      <td>24.4811</td>\n",
       "      <td>0</td>\n",
       "      <td>0.51</td>\n",
       "      <td>7.51</td>\n",
       "      <td>23.8925</td>\n",
       "      <td>147.19</td>\n",
       "    </tr>\n",
       "    <tr>\n",
       "      <th>age</th>\n",
       "      <td>462</td>\n",
       "      <td>NaN</td>\n",
       "      <td>NaN</td>\n",
       "      <td>NaN</td>\n",
       "      <td>42.816</td>\n",
       "      <td>14.609</td>\n",
       "      <td>15</td>\n",
       "      <td>31</td>\n",
       "      <td>45</td>\n",
       "      <td>55</td>\n",
       "      <td>64</td>\n",
       "    </tr>\n",
       "    <tr>\n",
       "      <th>chd</th>\n",
       "      <td>462</td>\n",
       "      <td>NaN</td>\n",
       "      <td>NaN</td>\n",
       "      <td>NaN</td>\n",
       "      <td>0.34632</td>\n",
       "      <td>0.476313</td>\n",
       "      <td>0</td>\n",
       "      <td>0</td>\n",
       "      <td>0</td>\n",
       "      <td>1</td>\n",
       "      <td>1</td>\n",
       "    </tr>\n",
       "  </tbody>\n",
       "</table>\n",
       "</div>"
      ],
      "text/plain": [
       "          count unique     top freq     mean       std   min     25%     50%  \\\n",
       "sbp         462    NaN     NaN  NaN  138.327   20.4963   101     124     134   \n",
       "tobacco     462    NaN     NaN  NaN  3.63565   4.59302     0  0.0525       2   \n",
       "ldl         462    NaN     NaN  NaN  4.74032   2.07091  0.98  3.2825    4.34   \n",
       "adiposity   462    NaN     NaN  NaN  25.4067    7.7807  6.74  19.775  26.115   \n",
       "famhist     462      2  Absent  270      NaN       NaN   NaN     NaN     NaN   \n",
       "typea       462    NaN     NaN  NaN  53.1039   9.81753    13      47      53   \n",
       "obesity     462    NaN     NaN  NaN  26.0441   4.21368  14.7  22.985  25.805   \n",
       "alcohol     462    NaN     NaN  NaN  17.0444   24.4811     0    0.51    7.51   \n",
       "age         462    NaN     NaN  NaN   42.816    14.609    15      31      45   \n",
       "chd         462    NaN     NaN  NaN  0.34632  0.476313     0       0       0   \n",
       "\n",
       "               75%     max  \n",
       "sbp            148     218  \n",
       "tobacco        5.5    31.2  \n",
       "ldl           5.79   15.33  \n",
       "adiposity  31.2275   42.49  \n",
       "famhist        NaN     NaN  \n",
       "typea           60      78  \n",
       "obesity    28.4975   46.58  \n",
       "alcohol    23.8925  147.19  \n",
       "age             55      64  \n",
       "chd              1       1  "
      ]
     },
     "execution_count": 80,
     "metadata": {},
     "output_type": "execute_result"
    }
   ],
   "source": [
    "# Utiliza esta celda para aplicar describe()\n",
    "\n",
    "df.describe(include=['object', np.number]).T"
   ]
  },
  {
   "cell_type": "markdown",
   "id": "134041bb",
   "metadata": {},
   "source": [
    "**Comentarios de las variables continuas**\n",
    "\n",
    "**<font color='green'>En base a las variables continuas, vemos que sus magnitudes son variadas y dado que no estan estandarizadas, es dificil hacer una comparacion entre ellas. En cuanto a las variable categorica hamhist, esta solo posee dos valores, donde la más frecuente es Absent con una frecuencia de 270 apariciones.</font>**"
   ]
  },
  {
   "cell_type": "markdown",
   "id": "f44ae6f4",
   "metadata": {},
   "source": [
    "- Muestre distribución de categorías para las variables `famhist` y `chd`."
   ]
  },
  {
   "cell_type": "code",
   "execution_count": 81,
   "id": "7ee3a745",
   "metadata": {},
   "outputs": [
    {
     "data": {
      "image/png": "[encoded data removed]",
      "text/plain": [
       "<Figure size 432x288 with 1 Axes>"
      ]
     },
     "metadata": {
      "needs_background": "light"
     },
     "output_type": "display_data"
    }
   ],
   "source": [
    "# Utiliza esta celda para mostrar las frecuencias de famhist con un gráfico de barras\n",
    "\n",
    "sns.countplot(df['famhist']);"
   ]
  },
  {
   "cell_type": "code",
   "execution_count": 82,
   "id": "99f3a625",
   "metadata": {},
   "outputs": [
    {
     "data": {
      "image/png": "[encoded data removed]",
      "text/plain": [
       "<Figure size 432x288 with 1 Axes>"
      ]
     },
     "metadata": {
      "needs_background": "light"
     },
     "output_type": "display_data"
    }
   ],
   "source": [
    "# Utiliza esta celda para mostrar las frecuencias de chd con un gráfico de barras\n",
    "\n",
    "sns.countplot(df['chd']);"
   ]
  },
  {
   "cell_type": "markdown",
   "id": "1a9487f5",
   "metadata": {},
   "source": [
    "**Comentarios de las variables categóricas**\n",
    "\n",
    "**<font color='green'>Para el primer gráfico, se muestra lo ya antes mencionado en el descriptivo, donde hay una mayor cantidad de personas que presentan antecedentes familiares de enfermedades cardiacas. Para nuetra variable objetivo, una mayor cantidad de personas no presenta enfermedades coronarias.</font>**"
   ]
  },
  {
   "cell_type": "markdown",
   "id": "fc9ad18b",
   "metadata": {},
   "source": [
    "## Desafío 2\n",
    "\n",
    "A continuación se presenta el siguiente modelo a estimar:\n",
    "\n",
    "$$\n",
    "\\log\\left(\\frac{p(\\text{chd}=1)}{1-p(\\text{chd}=1)}\\right)_i=\\beta_0 + \\beta_{famhist} \\cdot \\text{famhist}_i\n",
    "$$\n",
    "\n",
    "Para ello ejecute los siguientes pasos:\n",
    "1. Recodifique `famhist` a dummy, asignando 1 a la categoría minoritaria."
   ]
  },
  {
   "cell_type": "code",
   "execution_count": 83,
   "id": "70fedd74",
   "metadata": {},
   "outputs": [
    {
     "data": {
      "text/html": [
       "<div>\n",
       "<style scoped>\n",
       "    .dataframe tbody tr th:only-of-type {\n",
       "        vertical-align: middle;\n",
       "    }\n",
       "\n",
       "    .dataframe tbody tr th {\n",
       "        vertical-align: top;\n",
       "    }\n",
       "\n",
       "    .dataframe thead th {\n",
       "        text-align: right;\n",
       "    }\n",
       "</style>\n",
       "<table border=\"1\" class=\"dataframe\">\n",
       "  <thead>\n",
       "    <tr style=\"text-align: right;\">\n",
       "      <th></th>\n",
       "      <th>sbp</th>\n",
       "      <th>tobacco</th>\n",
       "      <th>ldl</th>\n",
       "      <th>adiposity</th>\n",
       "      <th>famhist</th>\n",
       "      <th>typea</th>\n",
       "      <th>obesity</th>\n",
       "      <th>alcohol</th>\n",
       "      <th>age</th>\n",
       "      <th>chd</th>\n",
       "    </tr>\n",
       "  </thead>\n",
       "  <tbody>\n",
       "    <tr>\n",
       "      <th>0</th>\n",
       "      <td>160</td>\n",
       "      <td>12.00</td>\n",
       "      <td>5.73</td>\n",
       "      <td>23.11</td>\n",
       "      <td>1</td>\n",
       "      <td>49</td>\n",
       "      <td>25.30</td>\n",
       "      <td>97.20</td>\n",
       "      <td>52</td>\n",
       "      <td>1</td>\n",
       "    </tr>\n",
       "    <tr>\n",
       "      <th>1</th>\n",
       "      <td>144</td>\n",
       "      <td>0.01</td>\n",
       "      <td>4.41</td>\n",
       "      <td>28.61</td>\n",
       "      <td>0</td>\n",
       "      <td>55</td>\n",
       "      <td>28.87</td>\n",
       "      <td>2.06</td>\n",
       "      <td>63</td>\n",
       "      <td>1</td>\n",
       "    </tr>\n",
       "    <tr>\n",
       "      <th>2</th>\n",
       "      <td>118</td>\n",
       "      <td>0.08</td>\n",
       "      <td>3.48</td>\n",
       "      <td>32.28</td>\n",
       "      <td>1</td>\n",
       "      <td>52</td>\n",
       "      <td>29.14</td>\n",
       "      <td>3.81</td>\n",
       "      <td>46</td>\n",
       "      <td>0</td>\n",
       "    </tr>\n",
       "    <tr>\n",
       "      <th>3</th>\n",
       "      <td>170</td>\n",
       "      <td>7.50</td>\n",
       "      <td>6.41</td>\n",
       "      <td>38.03</td>\n",
       "      <td>1</td>\n",
       "      <td>51</td>\n",
       "      <td>31.99</td>\n",
       "      <td>24.26</td>\n",
       "      <td>58</td>\n",
       "      <td>1</td>\n",
       "    </tr>\n",
       "    <tr>\n",
       "      <th>4</th>\n",
       "      <td>134</td>\n",
       "      <td>13.60</td>\n",
       "      <td>3.50</td>\n",
       "      <td>27.78</td>\n",
       "      <td>1</td>\n",
       "      <td>60</td>\n",
       "      <td>25.99</td>\n",
       "      <td>57.34</td>\n",
       "      <td>49</td>\n",
       "      <td>1</td>\n",
       "    </tr>\n",
       "  </tbody>\n",
       "</table>\n",
       "</div>"
      ],
      "text/plain": [
       "   sbp  tobacco   ldl  adiposity  famhist  typea  obesity  alcohol  age  chd\n",
       "0  160    12.00  5.73      23.11        1     49    25.30    97.20   52    1\n",
       "1  144     0.01  4.41      28.61        0     55    28.87     2.06   63    1\n",
       "2  118     0.08  3.48      32.28        1     52    29.14     3.81   46    0\n",
       "3  170     7.50  6.41      38.03        1     51    31.99    24.26   58    1\n",
       "4  134    13.60  3.50      27.78        1     60    25.99    57.34   49    1"
      ]
     },
     "execution_count": 83,
     "metadata": {},
     "output_type": "execute_result"
    }
   ],
   "source": [
    "# Utiliza esta celda para realizar la codificación solicitada\n",
    "\n",
    "df['famhist'] = np.where(df['famhist'] == 'Present', 1, 0)\n",
    "df.head()"
   ]
  },
  {
   "cell_type": "markdown",
   "id": "da02917e",
   "metadata": {},
   "source": [
    "2. Utilice `smf.logit` para estimar el modelo."
   ]
  },
  {
   "cell_type": "code",
   "execution_count": 84,
   "id": "479199b2",
   "metadata": {},
   "outputs": [
    {
     "name": "stdout",
     "output_type": "stream",
     "text": [
      "Optimization terminated successfully.\n",
      "         Current function value: 0.608111\n",
      "         Iterations 5\n"
     ]
    },
    {
     "data": {
      "text/html": [
       "<table class=\"simpletable\">\n",
       "<tr>\n",
       "        <td>Model:</td>              <td>Logit</td>      <td>Pseudo R-squared:</td>    <td>0.057</td>  \n",
       "</tr>\n",
       "<tr>\n",
       "  <td>Dependent Variable:</td>        <td>chd</td>             <td>AIC:</td>         <td>565.8944</td> \n",
       "</tr>\n",
       "<tr>\n",
       "         <td>Date:</td>        <td>2022-10-31 18:17</td>       <td>BIC:</td>         <td>574.1655</td> \n",
       "</tr>\n",
       "<tr>\n",
       "   <td>No. Observations:</td>         <td>462</td>        <td>Log-Likelihood:</td>    <td>-280.95</td> \n",
       "</tr>\n",
       "<tr>\n",
       "       <td>Df Model:</td>              <td>1</td>            <td>LL-Null:</td>        <td>-298.05</td> \n",
       "</tr>\n",
       "<tr>\n",
       "     <td>Df Residuals:</td>           <td>460</td>         <td>LLR p-value:</td>    <td>4.9371e-09</td>\n",
       "</tr>\n",
       "<tr>\n",
       "      <td>Converged:</td>           <td>1.0000</td>           <td>Scale:</td>         <td>1.0000</td>  \n",
       "</tr>\n",
       "<tr>\n",
       "    <td>No. Iterations:</td>        <td>5.0000</td>              <td></td>               <td></td>     \n",
       "</tr>\n",
       "</table>\n",
       "<table class=\"simpletable\">\n",
       "<tr>\n",
       "      <td></td>       <th>Coef.</th>  <th>Std.Err.</th>    <th>z</th>     <th>P>|z|</th> <th>[0.025</th>  <th>0.975]</th> \n",
       "</tr>\n",
       "<tr>\n",
       "  <th>Intercept</th> <td>-1.1690</td>  <td>0.1431</td>  <td>-8.1687</td> <td>0.0000</td> <td>-1.4495</td> <td>-0.8885</td>\n",
       "</tr>\n",
       "<tr>\n",
       "  <th>famhist</th>   <td>1.1690</td>   <td>0.2033</td>  <td>5.7514</td>  <td>0.0000</td> <td>0.7706</td>  <td>1.5674</td> \n",
       "</tr>\n",
       "</table>"
      ],
      "text/plain": [
       "<class 'statsmodels.iolib.summary2.Summary'>\n",
       "\"\"\"\n",
       "                         Results: Logit\n",
       "=================================================================\n",
       "Model:              Logit            Pseudo R-squared: 0.057     \n",
       "Dependent Variable: chd              AIC:              565.8944  \n",
       "Date:               2022-10-31 18:17 BIC:              574.1655  \n",
       "No. Observations:   462              Log-Likelihood:   -280.95   \n",
       "Df Model:           1                LL-Null:          -298.05   \n",
       "Df Residuals:       460              LLR p-value:      4.9371e-09\n",
       "Converged:          1.0000           Scale:            1.0000    \n",
       "No. Iterations:     5.0000                                       \n",
       "------------------------------------------------------------------\n",
       "               Coef.   Std.Err.     z     P>|z|    [0.025   0.975]\n",
       "------------------------------------------------------------------\n",
       "Intercept     -1.1690    0.1431  -8.1687  0.0000  -1.4495  -0.8885\n",
       "famhist        1.1690    0.2033   5.7514  0.0000   0.7706   1.5674\n",
       "=================================================================\n",
       "\n",
       "\"\"\""
      ]
     },
     "execution_count": 84,
     "metadata": {},
     "output_type": "execute_result"
    }
   ],
   "source": [
    "# Utiliza esta celda para instanciar y entrenar el modelo solicitado\n",
    "\n",
    "model_logit = smf.logit('chd ~ famhist', data=df).fit()\n",
    "model_logit.summary2()"
   ]
  },
  {
   "cell_type": "markdown",
   "id": "7ab49a27",
   "metadata": {},
   "source": [
    "3. Implemente una función `inverse_logit` que realice el mapeo de log-odds a probabilidad."
   ]
  },
  {
   "cell_type": "code",
   "execution_count": 142,
   "id": "70d38beb",
   "metadata": {},
   "outputs": [],
   "source": [
    "# Utiliza esta celda para implementar la función solicitada\n",
    "\n",
    "def inverse_logit(vector_x):\n",
    "    \"\"\"\n",
    "        Objetivo:\n",
    "            - Obtener la probabilidad para una regresion logistica\n",
    "        Parámetros:\n",
    "            - vector_x (float): calculo del vector x\n",
    "\n",
    "        Retorno:\n",
    "           - probabilidad (float)\n",
    "    \"\"\"\n",
    "\n",
    "    return 1/(1+np.exp(-vector_x))"
   ]
  },
  {
   "cell_type": "markdown",
   "id": "968bfe4b",
   "metadata": {},
   "source": [
    "4.  Con el modelo estimado, responda lo siguiente:\n",
    "- ¿Cuál es la probabilidad de un individuo con antecedentes familiares de tener una enfermedad coronaria?"
   ]
  },
  {
   "cell_type": "code",
   "execution_count": 143,
   "id": "30037f8b",
   "metadata": {},
   "outputs": [
    {
     "name": "stdout",
     "output_type": "stream",
     "text": [
      "La probabilidad de un individuo con antecedentes familiares de tener una enfermedad coronaria es de un 0.5\n"
     ]
    }
   ],
   "source": [
    "# Utiliza esta celda para obtener los log odds en base a los coeficientes, cuando famhist=1.\n",
    "log_odd = -1.1690 + 1.1690*1\n",
    "\n",
    "# Obtener además la probabilidad utilizando inverse_logit\n",
    "probabilidad_1 = inverse_logit(log_odd)\n",
    "print(f'La probabilidad de un individuo con antecedentes familiares de tener una enfermedad coronaria es de un {probabilidad_1}')"
   ]
  },
  {
   "cell_type": "markdown",
   "id": "de3251ec",
   "metadata": {},
   "source": [
    "¿Cuál es la probabilidad de un individuo sin antecedentes familiares de tener\n",
    "una enfermedad coronaria?"
   ]
  },
  {
   "cell_type": "code",
   "execution_count": 144,
   "id": "259e2a95",
   "metadata": {},
   "outputs": [
    {
     "name": "stdout",
     "output_type": "stream",
     "text": [
      "La probabilidad de un individuo sin antecedentes familiares de tener una enfermedad coronaria es de un 0.24\n"
     ]
    }
   ],
   "source": [
    "# Utiliza esta celda para obtener los log odds en base a los coeficientes, cuando famhist=0.\n",
    "log_odd = -1.1690 + 1.1690*0\n",
    "\n",
    "# Obtener además la probabilidad utilizando inverse_logit\n",
    "probabilidad_0 = inverse_logit(log_odd)\n",
    "print(f'La probabilidad de un individuo sin antecedentes familiares de tener una enfermedad coronaria es de un {probabilidad_0:.2f}')"
   ]
  },
  {
   "cell_type": "markdown",
   "id": "6284e2ed",
   "metadata": {},
   "source": [
    "- ¿Cuál es la diferencia en la probabilidad entre un individuo con antecedentes y otro sin antecedentes?"
   ]
  },
  {
   "cell_type": "code",
   "execution_count": 145,
   "id": "1b6a89ef",
   "metadata": {},
   "outputs": [
    {
     "name": "stdout",
     "output_type": "stream",
     "text": [
      "La diferencia en la probabilidad entre un individuo con antecedentes y otro sin antecedentes es de un 0.26\n"
     ]
    }
   ],
   "source": [
    "# Utiliza esta celda para mostrar las diferencias de ambas probabilidades\n",
    "\n",
    "print(f'La diferencia en la probabilidad entre un individuo con antecedentes y otro sin antecedentes es de un {probabilidad_1 - probabilidad_0:.2f}')"
   ]
  },
  {
   "cell_type": "markdown",
   "id": "ee28417b",
   "metadata": {},
   "source": [
    "- Replique el modelo con smf.ols y comente las similitudes entre los coeficientes estimados. _Tip: Utilice $\\beta$/4_"
   ]
  },
  {
   "cell_type": "code",
   "execution_count": 146,
   "id": "0554c3c5",
   "metadata": {},
   "outputs": [
    {
     "name": "stdout",
     "output_type": "stream",
     "text": [
      "Modelo OLS \n",
      "Intercept    0.237037\n",
      "famhist      0.262963\n",
      "Name: Coef., dtype: float64\n",
      "------------------------------\n",
      "Modelo Logit \n",
      "Intercept   -0.292248\n",
      "famhist      0.292248\n",
      "Name: Coef., dtype: float64\n"
     ]
    }
   ],
   "source": [
    "# Utiliza esta celda para entrenar el modelo ols y mostrar los coeficientes\n",
    "\n",
    "model_ols = smf.ols('chd ~ famhist', data=df).fit()\n",
    "print(f\"Modelo OLS \\n{model_ols.summary2().tables[1]['Coef.']}\")\n",
    "print('-'*30)\n",
    "print(f\"Modelo Logit \\n{model_logit.summary2().tables[1]['Coef.']/4}\")\n"
   ]
  },
  {
   "cell_type": "markdown",
   "id": "81adfcf5",
   "metadata": {},
   "source": [
    "**Respuesta**\n",
    "\n",
    "**<font color='green'>El valor obtenido al dividir el coeficiente estimado con logit por 4 es similar al valor del coeficiente obtenido con mínimos cuadrados</font>**"
   ]
  },
  {
   "cell_type": "markdown",
   "id": "a45cc9aa",
   "metadata": {},
   "source": [
    "### Desafío 3: Estimación completa\n",
    "\n",
    "Implemente un modelo con la siguiente forma:\n",
    "\n",
    "$$\n",
    "\\log\\left(\\frac{p(\\text{chd}=1)}{1-p(\\text{chd}=1)}\\right)_i=\\beta_0 + \\sum_{j=1}^{n}\\beta_j \\cdot X_{ji}\n",
    "$$"
   ]
  },
  {
   "cell_type": "code",
   "execution_count": 91,
   "id": "6958b60f",
   "metadata": {},
   "outputs": [
    {
     "name": "stdout",
     "output_type": "stream",
     "text": [
      "Optimization terminated successfully.\n",
      "         Current function value: 0.510974\n",
      "         Iterations 6\n"
     ]
    },
    {
     "data": {
      "text/html": [
       "<table class=\"simpletable\">\n",
       "<tr>\n",
       "        <td>Model:</td>              <td>Logit</td>      <td>Pseudo R-squared:</td>    <td>0.208</td>  \n",
       "</tr>\n",
       "<tr>\n",
       "  <td>Dependent Variable:</td>        <td>chd</td>             <td>AIC:</td>         <td>492.1400</td> \n",
       "</tr>\n",
       "<tr>\n",
       "         <td>Date:</td>        <td>2022-10-31 18:18</td>       <td>BIC:</td>         <td>533.4957</td> \n",
       "</tr>\n",
       "<tr>\n",
       "   <td>No. Observations:</td>         <td>462</td>        <td>Log-Likelihood:</td>    <td>-236.07</td> \n",
       "</tr>\n",
       "<tr>\n",
       "       <td>Df Model:</td>              <td>9</td>            <td>LL-Null:</td>        <td>-298.05</td> \n",
       "</tr>\n",
       "<tr>\n",
       "     <td>Df Residuals:</td>           <td>452</td>         <td>LLR p-value:</td>    <td>2.0548e-22</td>\n",
       "</tr>\n",
       "<tr>\n",
       "      <td>Converged:</td>           <td>1.0000</td>           <td>Scale:</td>         <td>1.0000</td>  \n",
       "</tr>\n",
       "<tr>\n",
       "    <td>No. Iterations:</td>        <td>6.0000</td>              <td></td>               <td></td>     \n",
       "</tr>\n",
       "</table>\n",
       "<table class=\"simpletable\">\n",
       "<tr>\n",
       "      <td></td>       <th>Coef.</th>  <th>Std.Err.</th>    <th>z</th>     <th>P>|z|</th> <th>[0.025</th>  <th>0.975]</th> \n",
       "</tr>\n",
       "<tr>\n",
       "  <th>Intercept</th> <td>-6.1507</td>  <td>1.3083</td>  <td>-4.7015</td> <td>0.0000</td> <td>-8.7149</td> <td>-3.5866</td>\n",
       "</tr>\n",
       "<tr>\n",
       "  <th>sbp</th>       <td>0.0065</td>   <td>0.0057</td>  <td>1.1350</td>  <td>0.2564</td> <td>-0.0047</td> <td>0.0177</td> \n",
       "</tr>\n",
       "<tr>\n",
       "  <th>tobacco</th>   <td>0.0794</td>   <td>0.0266</td>  <td>2.9838</td>  <td>0.0028</td> <td>0.0272</td>  <td>0.1315</td> \n",
       "</tr>\n",
       "<tr>\n",
       "  <th>ldl</th>       <td>0.1739</td>   <td>0.0597</td>  <td>2.9152</td>  <td>0.0036</td> <td>0.0570</td>  <td>0.2909</td> \n",
       "</tr>\n",
       "<tr>\n",
       "  <th>adiposity</th> <td>0.0186</td>   <td>0.0293</td>  <td>0.6346</td>  <td>0.5257</td> <td>-0.0388</td> <td>0.0760</td> \n",
       "</tr>\n",
       "<tr>\n",
       "  <th>famhist</th>   <td>0.9254</td>   <td>0.2279</td>  <td>4.0605</td>  <td>0.0000</td> <td>0.4787</td>  <td>1.3720</td> \n",
       "</tr>\n",
       "<tr>\n",
       "  <th>typea</th>     <td>0.0396</td>   <td>0.0123</td>  <td>3.2138</td>  <td>0.0013</td> <td>0.0154</td>  <td>0.0637</td> \n",
       "</tr>\n",
       "<tr>\n",
       "  <th>obesity</th>   <td>-0.0629</td>  <td>0.0442</td>  <td>-1.4218</td> <td>0.1551</td> <td>-0.1496</td> <td>0.0238</td> \n",
       "</tr>\n",
       "<tr>\n",
       "  <th>alcohol</th>   <td>0.0001</td>   <td>0.0045</td>  <td>0.0271</td>  <td>0.9784</td> <td>-0.0087</td> <td>0.0089</td> \n",
       "</tr>\n",
       "<tr>\n",
       "  <th>age</th>       <td>0.0452</td>   <td>0.0121</td>  <td>3.7285</td>  <td>0.0002</td> <td>0.0215</td>  <td>0.0690</td> \n",
       "</tr>\n",
       "</table>"
      ],
      "text/plain": [
       "<class 'statsmodels.iolib.summary2.Summary'>\n",
       "\"\"\"\n",
       "                         Results: Logit\n",
       "=================================================================\n",
       "Model:              Logit            Pseudo R-squared: 0.208     \n",
       "Dependent Variable: chd              AIC:              492.1400  \n",
       "Date:               2022-10-31 18:18 BIC:              533.4957  \n",
       "No. Observations:   462              Log-Likelihood:   -236.07   \n",
       "Df Model:           9                LL-Null:          -298.05   \n",
       "Df Residuals:       452              LLR p-value:      2.0548e-22\n",
       "Converged:          1.0000           Scale:            1.0000    \n",
       "No. Iterations:     6.0000                                       \n",
       "------------------------------------------------------------------\n",
       "               Coef.   Std.Err.     z     P>|z|    [0.025   0.975]\n",
       "------------------------------------------------------------------\n",
       "Intercept     -6.1507    1.3083  -4.7015  0.0000  -8.7149  -3.5866\n",
       "sbp            0.0065    0.0057   1.1350  0.2564  -0.0047   0.0177\n",
       "tobacco        0.0794    0.0266   2.9838  0.0028   0.0272   0.1315\n",
       "ldl            0.1739    0.0597   2.9152  0.0036   0.0570   0.2909\n",
       "adiposity      0.0186    0.0293   0.6346  0.5257  -0.0388   0.0760\n",
       "famhist        0.9254    0.2279   4.0605  0.0000   0.4787   1.3720\n",
       "typea          0.0396    0.0123   3.2138  0.0013   0.0154   0.0637\n",
       "obesity       -0.0629    0.0442  -1.4218  0.1551  -0.1496   0.0238\n",
       "alcohol        0.0001    0.0045   0.0271  0.9784  -0.0087   0.0089\n",
       "age            0.0452    0.0121   3.7285  0.0002   0.0215   0.0690\n",
       "=================================================================\n",
       "\n",
       "\"\"\""
      ]
     },
     "execution_count": 91,
     "metadata": {},
     "output_type": "execute_result"
    }
   ],
   "source": [
    "# Utiliza esta celda para entrenar el modelo solicitado\n",
    "\n",
    "model_full = smf.logit(f'chd ~ {\" + \".join(df.columns.drop([\"chd\"]))}', data=df).fit()\n",
    "model_full.summary2()"
   ]
  },
  {
   "cell_type": "markdown",
   "id": "b6fdb86d",
   "metadata": {},
   "source": [
    "- Depure el modelo manteniendo las variables con significancia estadística al 5%."
   ]
  },
  {
   "cell_type": "code",
   "execution_count": 92,
   "id": "1439745e",
   "metadata": {},
   "outputs": [
    {
     "data": {
      "text/html": [
       "<div>\n",
       "<style scoped>\n",
       "    .dataframe tbody tr th:only-of-type {\n",
       "        vertical-align: middle;\n",
       "    }\n",
       "\n",
       "    .dataframe tbody tr th {\n",
       "        vertical-align: top;\n",
       "    }\n",
       "\n",
       "    .dataframe thead th {\n",
       "        text-align: right;\n",
       "    }\n",
       "</style>\n",
       "<table border=\"1\" class=\"dataframe\">\n",
       "  <thead>\n",
       "    <tr style=\"text-align: right;\">\n",
       "      <th></th>\n",
       "      <th>Coef.</th>\n",
       "      <th>Std.Err.</th>\n",
       "      <th>z</th>\n",
       "      <th>P&gt;|z|</th>\n",
       "      <th>[0.025</th>\n",
       "      <th>0.975]</th>\n",
       "    </tr>\n",
       "  </thead>\n",
       "  <tbody>\n",
       "    <tr>\n",
       "      <th>Intercept</th>\n",
       "      <td>-6.150721</td>\n",
       "      <td>1.308260</td>\n",
       "      <td>-4.701451</td>\n",
       "      <td>0.000003</td>\n",
       "      <td>-8.714863</td>\n",
       "      <td>-3.586578</td>\n",
       "    </tr>\n",
       "    <tr>\n",
       "      <th>tobacco</th>\n",
       "      <td>0.079376</td>\n",
       "      <td>0.026603</td>\n",
       "      <td>2.983758</td>\n",
       "      <td>0.002847</td>\n",
       "      <td>0.027236</td>\n",
       "      <td>0.131517</td>\n",
       "    </tr>\n",
       "    <tr>\n",
       "      <th>ldl</th>\n",
       "      <td>0.173924</td>\n",
       "      <td>0.059662</td>\n",
       "      <td>2.915166</td>\n",
       "      <td>0.003555</td>\n",
       "      <td>0.056989</td>\n",
       "      <td>0.290859</td>\n",
       "    </tr>\n",
       "    <tr>\n",
       "      <th>famhist</th>\n",
       "      <td>0.925370</td>\n",
       "      <td>0.227894</td>\n",
       "      <td>4.060530</td>\n",
       "      <td>0.000049</td>\n",
       "      <td>0.478706</td>\n",
       "      <td>1.372034</td>\n",
       "    </tr>\n",
       "    <tr>\n",
       "      <th>typea</th>\n",
       "      <td>0.039595</td>\n",
       "      <td>0.012320</td>\n",
       "      <td>3.213823</td>\n",
       "      <td>0.001310</td>\n",
       "      <td>0.015448</td>\n",
       "      <td>0.063742</td>\n",
       "    </tr>\n",
       "    <tr>\n",
       "      <th>age</th>\n",
       "      <td>0.045225</td>\n",
       "      <td>0.012130</td>\n",
       "      <td>3.728464</td>\n",
       "      <td>0.000193</td>\n",
       "      <td>0.021451</td>\n",
       "      <td>0.068999</td>\n",
       "    </tr>\n",
       "  </tbody>\n",
       "</table>\n",
       "</div>"
      ],
      "text/plain": [
       "              Coef.  Std.Err.         z     P>|z|    [0.025    0.975]\n",
       "Intercept -6.150721  1.308260 -4.701451  0.000003 -8.714863 -3.586578\n",
       "tobacco    0.079376  0.026603  2.983758  0.002847  0.027236  0.131517\n",
       "ldl        0.173924  0.059662  2.915166  0.003555  0.056989  0.290859\n",
       "famhist    0.925370  0.227894  4.060530  0.000049  0.478706  1.372034\n",
       "typea      0.039595  0.012320  3.213823  0.001310  0.015448  0.063742\n",
       "age        0.045225  0.012130  3.728464  0.000193  0.021451  0.068999"
      ]
     },
     "execution_count": 92,
     "metadata": {},
     "output_type": "execute_result"
    }
   ],
   "source": [
    "# Utiliza esta celda para mostrar los coeficientes con significancia estadística al 5%\n",
    "\n",
    "table = model_full.summary2().tables[1]\n",
    "table_05 = table[table['P>|z|'] <= 0.05]\n",
    "table_05"
   ]
  },
  {
   "cell_type": "code",
   "execution_count": 93,
   "id": "5b24d061",
   "metadata": {},
   "outputs": [
    {
     "name": "stdout",
     "output_type": "stream",
     "text": [
      "Optimization terminated successfully.\n",
      "         Current function value: 0.514811\n",
      "         Iterations 6\n"
     ]
    },
    {
     "data": {
      "text/html": [
       "<table class=\"simpletable\">\n",
       "<tr>\n",
       "        <td>Model:</td>              <td>Logit</td>      <td>Pseudo R-squared:</td>    <td>0.202</td>  \n",
       "</tr>\n",
       "<tr>\n",
       "  <td>Dependent Variable:</td>        <td>chd</td>             <td>AIC:</td>         <td>487.6856</td> \n",
       "</tr>\n",
       "<tr>\n",
       "         <td>Date:</td>        <td>2022-10-31 18:18</td>       <td>BIC:</td>         <td>512.4990</td> \n",
       "</tr>\n",
       "<tr>\n",
       "   <td>No. Observations:</td>         <td>462</td>        <td>Log-Likelihood:</td>    <td>-237.84</td> \n",
       "</tr>\n",
       "<tr>\n",
       "       <td>Df Model:</td>              <td>5</td>            <td>LL-Null:</td>        <td>-298.05</td> \n",
       "</tr>\n",
       "<tr>\n",
       "     <td>Df Residuals:</td>           <td>456</td>         <td>LLR p-value:</td>    <td>2.5537e-24</td>\n",
       "</tr>\n",
       "<tr>\n",
       "      <td>Converged:</td>           <td>1.0000</td>           <td>Scale:</td>         <td>1.0000</td>  \n",
       "</tr>\n",
       "<tr>\n",
       "    <td>No. Iterations:</td>        <td>6.0000</td>              <td></td>               <td></td>     \n",
       "</tr>\n",
       "</table>\n",
       "<table class=\"simpletable\">\n",
       "<tr>\n",
       "      <td></td>       <th>Coef.</th>  <th>Std.Err.</th>    <th>z</th>     <th>P>|z|</th> <th>[0.025</th>  <th>0.975]</th> \n",
       "</tr>\n",
       "<tr>\n",
       "  <th>Intercept</th> <td>-6.4464</td>  <td>0.9209</td>  <td>-7.0004</td> <td>0.0000</td> <td>-8.2513</td> <td>-4.6416</td>\n",
       "</tr>\n",
       "<tr>\n",
       "  <th>tobacco</th>   <td>0.0804</td>   <td>0.0259</td>  <td>3.1057</td>  <td>0.0019</td> <td>0.0297</td>  <td>0.1311</td> \n",
       "</tr>\n",
       "<tr>\n",
       "  <th>ldl</th>       <td>0.1620</td>   <td>0.0550</td>  <td>2.9470</td>  <td>0.0032</td> <td>0.0543</td>  <td>0.2697</td> \n",
       "</tr>\n",
       "<tr>\n",
       "  <th>famhist</th>   <td>0.9082</td>   <td>0.2258</td>  <td>4.0228</td>  <td>0.0001</td> <td>0.4657</td>  <td>1.3507</td> \n",
       "</tr>\n",
       "<tr>\n",
       "  <th>typea</th>     <td>0.0371</td>   <td>0.0122</td>  <td>3.0505</td>  <td>0.0023</td> <td>0.0133</td>  <td>0.0610</td> \n",
       "</tr>\n",
       "<tr>\n",
       "  <th>age</th>       <td>0.0505</td>   <td>0.0102</td>  <td>4.9442</td>  <td>0.0000</td> <td>0.0305</td>  <td>0.0705</td> \n",
       "</tr>\n",
       "</table>"
      ],
      "text/plain": [
       "<class 'statsmodels.iolib.summary2.Summary'>\n",
       "\"\"\"\n",
       "                         Results: Logit\n",
       "=================================================================\n",
       "Model:              Logit            Pseudo R-squared: 0.202     \n",
       "Dependent Variable: chd              AIC:              487.6856  \n",
       "Date:               2022-10-31 18:18 BIC:              512.4990  \n",
       "No. Observations:   462              Log-Likelihood:   -237.84   \n",
       "Df Model:           5                LL-Null:          -298.05   \n",
       "Df Residuals:       456              LLR p-value:      2.5537e-24\n",
       "Converged:          1.0000           Scale:            1.0000    \n",
       "No. Iterations:     6.0000                                       \n",
       "------------------------------------------------------------------\n",
       "               Coef.   Std.Err.     z     P>|z|    [0.025   0.975]\n",
       "------------------------------------------------------------------\n",
       "Intercept     -6.4464    0.9209  -7.0004  0.0000  -8.2513  -4.6416\n",
       "tobacco        0.0804    0.0259   3.1057  0.0019   0.0297   0.1311\n",
       "ldl            0.1620    0.0550   2.9470  0.0032   0.0543   0.2697\n",
       "famhist        0.9082    0.2258   4.0228  0.0001   0.4657   1.3507\n",
       "typea          0.0371    0.0122   3.0505  0.0023   0.0133   0.0610\n",
       "age            0.0505    0.0102   4.9442  0.0000   0.0305   0.0705\n",
       "=================================================================\n",
       "\n",
       "\"\"\""
      ]
     },
     "execution_count": 93,
     "metadata": {},
     "output_type": "execute_result"
    }
   ],
   "source": [
    "# Utiliza esta celda para entrenar el modelo depurado\n",
    "\n",
    "model_depurado = smf.logit(f'chd ~ {\" + \".join(table_05.index.drop(\"Intercept\"))}', data=df).fit()\n",
    "model_depurado.summary2()"
   ]
  },
  {
   "cell_type": "markdown",
   "id": "8fee2b14",
   "metadata": {},
   "source": [
    "- Compare los estadísticos de bondad de ajuste entre ambos."
   ]
  },
  {
   "cell_type": "code",
   "execution_count": 94,
   "id": "44078e09",
   "metadata": {},
   "outputs": [
    {
     "data": {
      "text/html": [
       "<div>\n",
       "<style scoped>\n",
       "    .dataframe tbody tr th:only-of-type {\n",
       "        vertical-align: middle;\n",
       "    }\n",
       "\n",
       "    .dataframe tbody tr th {\n",
       "        vertical-align: top;\n",
       "    }\n",
       "\n",
       "    .dataframe thead th {\n",
       "        text-align: right;\n",
       "    }\n",
       "</style>\n",
       "<table border=\"1\" class=\"dataframe\">\n",
       "  <thead>\n",
       "    <tr style=\"text-align: right;\">\n",
       "      <th></th>\n",
       "      <th>0</th>\n",
       "      <th>1</th>\n",
       "      <th>2</th>\n",
       "      <th>3</th>\n",
       "    </tr>\n",
       "  </thead>\n",
       "  <tbody>\n",
       "    <tr>\n",
       "      <th>0</th>\n",
       "      <td>Model:</td>\n",
       "      <td>Logit</td>\n",
       "      <td>Pseudo R-squared:</td>\n",
       "      <td>0.208</td>\n",
       "    </tr>\n",
       "    <tr>\n",
       "      <th>1</th>\n",
       "      <td>Dependent Variable:</td>\n",
       "      <td>chd</td>\n",
       "      <td>AIC:</td>\n",
       "      <td>492.1400</td>\n",
       "    </tr>\n",
       "    <tr>\n",
       "      <th>2</th>\n",
       "      <td>Date:</td>\n",
       "      <td>2022-10-31 18:18</td>\n",
       "      <td>BIC:</td>\n",
       "      <td>533.4957</td>\n",
       "    </tr>\n",
       "    <tr>\n",
       "      <th>3</th>\n",
       "      <td>No. Observations:</td>\n",
       "      <td>462</td>\n",
       "      <td>Log-Likelihood:</td>\n",
       "      <td>-236.07</td>\n",
       "    </tr>\n",
       "    <tr>\n",
       "      <th>4</th>\n",
       "      <td>Df Model:</td>\n",
       "      <td>9</td>\n",
       "      <td>LL-Null:</td>\n",
       "      <td>-298.05</td>\n",
       "    </tr>\n",
       "    <tr>\n",
       "      <th>5</th>\n",
       "      <td>Df Residuals:</td>\n",
       "      <td>452</td>\n",
       "      <td>LLR p-value:</td>\n",
       "      <td>2.0548e-22</td>\n",
       "    </tr>\n",
       "    <tr>\n",
       "      <th>6</th>\n",
       "      <td>Converged:</td>\n",
       "      <td>1.0000</td>\n",
       "      <td>Scale:</td>\n",
       "      <td>1.0000</td>\n",
       "    </tr>\n",
       "    <tr>\n",
       "      <th>7</th>\n",
       "      <td>No. Iterations:</td>\n",
       "      <td>6.0000</td>\n",
       "      <td></td>\n",
       "      <td></td>\n",
       "    </tr>\n",
       "  </tbody>\n",
       "</table>\n",
       "</div>"
      ],
      "text/plain": [
       "                     0                 1                  2           3\n",
       "0               Model:             Logit  Pseudo R-squared:       0.208\n",
       "1  Dependent Variable:               chd               AIC:    492.1400\n",
       "2                Date:  2022-10-31 18:18               BIC:    533.4957\n",
       "3    No. Observations:               462    Log-Likelihood:     -236.07\n",
       "4            Df Model:                 9           LL-Null:     -298.05\n",
       "5        Df Residuals:               452       LLR p-value:  2.0548e-22\n",
       "6           Converged:            1.0000             Scale:      1.0000\n",
       "7      No. Iterations:            6.0000                               "
      ]
     },
     "execution_count": 94,
     "metadata": {},
     "output_type": "execute_result"
    }
   ],
   "source": [
    "# Utiliza esta celda para mostrar los estadísticos de bondad de ajuste del primer modelo\n",
    "\n",
    "model_full.summary2().tables[0]"
   ]
  },
  {
   "cell_type": "code",
   "execution_count": 95,
   "id": "3a067fd0",
   "metadata": {},
   "outputs": [
    {
     "data": {
      "text/html": [
       "<div>\n",
       "<style scoped>\n",
       "    .dataframe tbody tr th:only-of-type {\n",
       "        vertical-align: middle;\n",
       "    }\n",
       "\n",
       "    .dataframe tbody tr th {\n",
       "        vertical-align: top;\n",
       "    }\n",
       "\n",
       "    .dataframe thead th {\n",
       "        text-align: right;\n",
       "    }\n",
       "</style>\n",
       "<table border=\"1\" class=\"dataframe\">\n",
       "  <thead>\n",
       "    <tr style=\"text-align: right;\">\n",
       "      <th></th>\n",
       "      <th>0</th>\n",
       "      <th>1</th>\n",
       "      <th>2</th>\n",
       "      <th>3</th>\n",
       "    </tr>\n",
       "  </thead>\n",
       "  <tbody>\n",
       "    <tr>\n",
       "      <th>0</th>\n",
       "      <td>Model:</td>\n",
       "      <td>Logit</td>\n",
       "      <td>Pseudo R-squared:</td>\n",
       "      <td>0.202</td>\n",
       "    </tr>\n",
       "    <tr>\n",
       "      <th>1</th>\n",
       "      <td>Dependent Variable:</td>\n",
       "      <td>chd</td>\n",
       "      <td>AIC:</td>\n",
       "      <td>487.6856</td>\n",
       "    </tr>\n",
       "    <tr>\n",
       "      <th>2</th>\n",
       "      <td>Date:</td>\n",
       "      <td>2022-10-31 18:18</td>\n",
       "      <td>BIC:</td>\n",
       "      <td>512.4990</td>\n",
       "    </tr>\n",
       "    <tr>\n",
       "      <th>3</th>\n",
       "      <td>No. Observations:</td>\n",
       "      <td>462</td>\n",
       "      <td>Log-Likelihood:</td>\n",
       "      <td>-237.84</td>\n",
       "    </tr>\n",
       "    <tr>\n",
       "      <th>4</th>\n",
       "      <td>Df Model:</td>\n",
       "      <td>5</td>\n",
       "      <td>LL-Null:</td>\n",
       "      <td>-298.05</td>\n",
       "    </tr>\n",
       "    <tr>\n",
       "      <th>5</th>\n",
       "      <td>Df Residuals:</td>\n",
       "      <td>456</td>\n",
       "      <td>LLR p-value:</td>\n",
       "      <td>2.5537e-24</td>\n",
       "    </tr>\n",
       "    <tr>\n",
       "      <th>6</th>\n",
       "      <td>Converged:</td>\n",
       "      <td>1.0000</td>\n",
       "      <td>Scale:</td>\n",
       "      <td>1.0000</td>\n",
       "    </tr>\n",
       "    <tr>\n",
       "      <th>7</th>\n",
       "      <td>No. Iterations:</td>\n",
       "      <td>6.0000</td>\n",
       "      <td></td>\n",
       "      <td></td>\n",
       "    </tr>\n",
       "  </tbody>\n",
       "</table>\n",
       "</div>"
      ],
      "text/plain": [
       "                     0                 1                  2           3\n",
       "0               Model:             Logit  Pseudo R-squared:       0.202\n",
       "1  Dependent Variable:               chd               AIC:    487.6856\n",
       "2                Date:  2022-10-31 18:18               BIC:    512.4990\n",
       "3    No. Observations:               462    Log-Likelihood:     -237.84\n",
       "4            Df Model:                 5           LL-Null:     -298.05\n",
       "5        Df Residuals:               456       LLR p-value:  2.5537e-24\n",
       "6           Converged:            1.0000             Scale:      1.0000\n",
       "7      No. Iterations:            6.0000                               "
      ]
     },
     "execution_count": 95,
     "metadata": {},
     "output_type": "execute_result"
    }
   ],
   "source": [
    "# Utiliza esta celda para mostrar los estadísticos de bondad de ajuste del segundo modelo\n",
    "\n",
    "model_depurado.summary2().tables[0]"
   ]
  },
  {
   "cell_type": "markdown",
   "id": "42c1708a",
   "metadata": {},
   "source": [
    "**Respuesta**\n",
    "\n",
    "**<font color='green'>La log verosimilitud es levemente menor en el modelo full, por lo que podriamos decir que el modelo full es mejor que el modelo depurado.</font>**\n"
   ]
  },
  {
   "cell_type": "markdown",
   "id": "aabbce49",
   "metadata": {},
   "source": [
    "- Reporte de forma sucinta el efecto de las variables en el log-odds de tener una enfermedad coronaria"
   ]
  },
  {
   "cell_type": "code",
   "execution_count": 96,
   "id": "812a6fc5",
   "metadata": {},
   "outputs": [
    {
     "data": {
      "text/html": [
       "<div>\n",
       "<style scoped>\n",
       "    .dataframe tbody tr th:only-of-type {\n",
       "        vertical-align: middle;\n",
       "    }\n",
       "\n",
       "    .dataframe tbody tr th {\n",
       "        vertical-align: top;\n",
       "    }\n",
       "\n",
       "    .dataframe thead th {\n",
       "        text-align: right;\n",
       "    }\n",
       "</style>\n",
       "<table border=\"1\" class=\"dataframe\">\n",
       "  <thead>\n",
       "    <tr style=\"text-align: right;\">\n",
       "      <th></th>\n",
       "      <th>Coef.</th>\n",
       "      <th>Std.Err.</th>\n",
       "      <th>z</th>\n",
       "      <th>P&gt;|z|</th>\n",
       "      <th>[0.025</th>\n",
       "      <th>0.975]</th>\n",
       "    </tr>\n",
       "  </thead>\n",
       "  <tbody>\n",
       "    <tr>\n",
       "      <th>tobacco</th>\n",
       "      <td>0.080375</td>\n",
       "      <td>0.025880</td>\n",
       "      <td>3.105731</td>\n",
       "      <td>1.898095e-03</td>\n",
       "      <td>0.029652</td>\n",
       "      <td>0.131099</td>\n",
       "    </tr>\n",
       "    <tr>\n",
       "      <th>ldl</th>\n",
       "      <td>0.161992</td>\n",
       "      <td>0.054969</td>\n",
       "      <td>2.946967</td>\n",
       "      <td>3.209075e-03</td>\n",
       "      <td>0.054255</td>\n",
       "      <td>0.269729</td>\n",
       "    </tr>\n",
       "    <tr>\n",
       "      <th>famhist</th>\n",
       "      <td>0.908175</td>\n",
       "      <td>0.225758</td>\n",
       "      <td>4.022774</td>\n",
       "      <td>5.751661e-05</td>\n",
       "      <td>0.465697</td>\n",
       "      <td>1.350654</td>\n",
       "    </tr>\n",
       "    <tr>\n",
       "      <th>typea</th>\n",
       "      <td>0.037115</td>\n",
       "      <td>0.012167</td>\n",
       "      <td>3.050542</td>\n",
       "      <td>2.284291e-03</td>\n",
       "      <td>0.013269</td>\n",
       "      <td>0.060962</td>\n",
       "    </tr>\n",
       "    <tr>\n",
       "      <th>age</th>\n",
       "      <td>0.050460</td>\n",
       "      <td>0.010206</td>\n",
       "      <td>4.944159</td>\n",
       "      <td>7.647332e-07</td>\n",
       "      <td>0.030457</td>\n",
       "      <td>0.070464</td>\n",
       "    </tr>\n",
       "  </tbody>\n",
       "</table>\n",
       "</div>"
      ],
      "text/plain": [
       "            Coef.  Std.Err.         z         P>|z|    [0.025    0.975]\n",
       "tobacco  0.080375  0.025880  3.105731  1.898095e-03  0.029652  0.131099\n",
       "ldl      0.161992  0.054969  2.946967  3.209075e-03  0.054255  0.269729\n",
       "famhist  0.908175  0.225758  4.022774  5.751661e-05  0.465697  1.350654\n",
       "typea    0.037115  0.012167  3.050542  2.284291e-03  0.013269  0.060962\n",
       "age      0.050460  0.010206  4.944159  7.647332e-07  0.030457  0.070464"
      ]
     },
     "execution_count": 96,
     "metadata": {},
     "output_type": "execute_result"
    }
   ],
   "source": [
    "# Utiliza esta celda para mostrar los coeficientes significativos que afectan positivamente\n",
    "\n",
    "table_dep = model_depurado.summary2().tables[1]\n",
    "table_dep[table_dep['Coef.'] > 0]"
   ]
  },
  {
   "cell_type": "code",
   "execution_count": 97,
   "id": "bfaf0f09",
   "metadata": {},
   "outputs": [
    {
     "data": {
      "text/html": [
       "<div>\n",
       "<style scoped>\n",
       "    .dataframe tbody tr th:only-of-type {\n",
       "        vertical-align: middle;\n",
       "    }\n",
       "\n",
       "    .dataframe tbody tr th {\n",
       "        vertical-align: top;\n",
       "    }\n",
       "\n",
       "    .dataframe thead th {\n",
       "        text-align: right;\n",
       "    }\n",
       "</style>\n",
       "<table border=\"1\" class=\"dataframe\">\n",
       "  <thead>\n",
       "    <tr style=\"text-align: right;\">\n",
       "      <th></th>\n",
       "      <th>Coef.</th>\n",
       "      <th>Std.Err.</th>\n",
       "      <th>z</th>\n",
       "      <th>P&gt;|z|</th>\n",
       "      <th>[0.025</th>\n",
       "      <th>0.975]</th>\n",
       "    </tr>\n",
       "  </thead>\n",
       "  <tbody>\n",
       "    <tr>\n",
       "      <th>Intercept</th>\n",
       "      <td>-6.446445</td>\n",
       "      <td>0.920872</td>\n",
       "      <td>-7.000372</td>\n",
       "      <td>2.552836e-12</td>\n",
       "      <td>-8.25132</td>\n",
       "      <td>-4.641569</td>\n",
       "    </tr>\n",
       "  </tbody>\n",
       "</table>\n",
       "</div>"
      ],
      "text/plain": [
       "              Coef.  Std.Err.         z         P>|z|   [0.025    0.975]\n",
       "Intercept -6.446445  0.920872 -7.000372  2.552836e-12 -8.25132 -4.641569"
      ]
     },
     "execution_count": 97,
     "metadata": {},
     "output_type": "execute_result"
    }
   ],
   "source": [
    "# Utiliza esta celda para mostrar los coeficientes significativos que afectan negativamente\n",
    "\n",
    "table_dep[table_dep['Coef.'] < 0]"
   ]
  },
  {
   "cell_type": "markdown",
   "id": "9a3c6ce6",
   "metadata": {},
   "source": [
    "**Respuesta**\n",
    "- **<font color='green'>Las variables que tienen un efecto positivo (significativo) en el riesgo de tener una enfermedad coronaria son el hecho de fumar, tener un valor de ldl alto, tener antecedentes familiares, tener personalidad tipo a, y tener mayor edad.</font>**\n",
    "- **<font color='green'>Entre las variables explicativas del dataframe, no existe ninguna la cual tenga un efecto negativo (significativo) en la prediccion de nuestro target, solo el intercepto es negativo pero este no pertenece o no tiene asociada ninguna variable.</font>**"
   ]
  },
  {
   "cell_type": "markdown",
   "id": "e4aee44e",
   "metadata": {},
   "source": [
    "### Desafío 4: Estimación de perfiles\n",
    "A partir del modelo depurado, genere las estimaciones en log-odds y posteriormente transfórmelas a probabilidades con `inverse_logit`. Los perfiles a estimar son los\n",
    "siguientes:\n",
    "\n",
    "- La probabilidad de tener una enfermedad coronaria para un individuo con características similares a la muestra."
   ]
  },
  {
   "cell_type": "code",
   "execution_count": 147,
   "id": "9ccb0f95",
   "metadata": {},
   "outputs": [],
   "source": [
    "# Creamos una funcion para calcular dichas probabilidades\n",
    "\n",
    "def prob_enfermedad_coronaria(data, valor_ldl = False , valor_famhist = 1):\n",
    "    \"\"\"\n",
    "        Objetivo:\n",
    "            - Obtener la probabilidad de tener una enfermedad coronaria para un individuo promedio segun el modelo depurado, dejando como variables las variables famhist y ldl.\n",
    "        Parámetros:\n",
    "            - data (dataframe): Dataframe donde se encuentran las variables\n",
    "            - valor_ldl (string): valor que debe tomar la variable ldl. En este caso solo pueden ser 3 valores posibles: \n",
    "                    - Alto si se quiere un alto nivel de lopoproteína de baja densidad. Este valor será del quartil 75\n",
    "                    - Bajo si se quiere un bajo nivel de lopoproteína de baja densidad. Este valor será del quartil 75\n",
    "                    - False se solo se quiere la media de la variable\n",
    "            - valor_famhist (int): reemplazar segun si la persona posee antecedentes familiares de enfermedades cardiácas: 1 si es que lo posee, 0 en caso contrario\n",
    "\n",
    "        Retorno:\n",
    "           - probabilidad de tener una enfermedad coronaria (float)\n",
    "    \"\"\"\n",
    "\n",
    "    tobacco_mean = data['tobacco'].mean()\n",
    "    famhist_present = valor_famhist\n",
    "    typea_mean = data['typea'].mean()\n",
    "    age_mean = data['age'].mean()\n",
    "\n",
    "    if valor_ldl == False:\n",
    "        ldl_mean = data['ldl'].mean()\n",
    "    elif valor_ldl == 'Alto':\n",
    "        ldl_mean = df['ldl'].quantile(.75)\n",
    "    elif valor_ldl == 'Bajo':\n",
    "        ldl_mean = df['ldl'].quantile(.25)\n",
    "        \n",
    "    odds = model_depurado.params*np.array([1, tobacco_mean, ldl_mean, famhist_present, typea_mean, age_mean])\n",
    "\n",
    "    return inverse_logit(odds.sum())"
   ]
  },
  {
   "cell_type": "code",
   "execution_count": 148,
   "id": "e1003107",
   "metadata": {},
   "outputs": [
    {
     "data": {
      "text/plain": [
       "0.41418659081821735"
      ]
     },
     "execution_count": 148,
     "metadata": {},
     "output_type": "execute_result"
    }
   ],
   "source": [
    "# Utiliza esta celda para mostrar la probabilidad de un invidivuo promedio con antecedentes familiares\n",
    "\n",
    "prob_enfermedad_coronaria(df, valor_famhist=1)\n"
   ]
  },
  {
   "cell_type": "code",
   "execution_count": 149,
   "id": "ecdf3f1b",
   "metadata": {},
   "outputs": [
    {
     "data": {
      "text/plain": [
       "0.22185998096946388"
      ]
     },
     "execution_count": 149,
     "metadata": {},
     "output_type": "execute_result"
    }
   ],
   "source": [
    "# Utiliza esta celda para mostrar la probabilidad de un individuo promedio sin antecedentes familiares\n",
    "\n",
    "prob_enfermedad_coronaria(df, valor_famhist=0)"
   ]
  },
  {
   "cell_type": "markdown",
   "id": "87cb7c89",
   "metadata": {},
   "source": [
    "- La probabilidad de tener una enfermedad coronaria para un individuo con altos niveles de lipoproteína de baja densidad, _manteniendo todas las demás características constantes_."
   ]
  },
  {
   "cell_type": "code",
   "execution_count": 150,
   "id": "19f3e8ba",
   "metadata": {},
   "outputs": [
    {
     "data": {
      "text/plain": [
       "0.4559529452265043"
      ]
     },
     "execution_count": 150,
     "metadata": {},
     "output_type": "execute_result"
    }
   ],
   "source": [
    "# Utiliza esta celda para mostrar la probabilidad de un invidivuo promedio con antecedentes familiares y un alto nivel de lopoproteína de baja densidad\n",
    "\n",
    "prob_enfermedad_coronaria(df, valor_ldl='Alto', valor_famhist=1)"
   ]
  },
  {
   "cell_type": "code",
   "execution_count": 151,
   "id": "beab9c60",
   "metadata": {},
   "outputs": [
    {
     "data": {
      "text/plain": [
       "0.2525946978599806"
      ]
     },
     "execution_count": 151,
     "metadata": {},
     "output_type": "execute_result"
    }
   ],
   "source": [
    "# Utiliza esta celda para mostrar la probabilidad de un invidivuo promedio sin antecedentes familiares y un alto nivel de lopoproteína de baja densidad\n",
    "\n",
    "prob_enfermedad_coronaria(df, valor_ldl='Alto', valor_famhist=0)"
   ]
  },
  {
   "cell_type": "markdown",
   "id": "5f7045ea",
   "metadata": {},
   "source": [
    "- La probabilidad de tener una enfermedad coronaria para un individuo con bajos niveles de lipoproteína de baja densidad, _manteniendo todas las demás características constantes_."
   ]
  },
  {
   "cell_type": "code",
   "execution_count": 152,
   "id": "4d6f08b3",
   "metadata": {},
   "outputs": [
    {
     "data": {
      "text/plain": [
       "0.3582793365570518"
      ]
     },
     "execution_count": 152,
     "metadata": {},
     "output_type": "execute_result"
    }
   ],
   "source": [
    "# Utiliza esta celda para mostrar la probabilidad de un invidivuo promedio con antecedentes familiares y un bajo nivel de lopoproteína de baja densidad\n",
    "\n",
    "prob_enfermedad_coronaria(df, valor_ldl='Bajo', valor_famhist=1)"
   ]
  },
  {
   "cell_type": "code",
   "execution_count": 153,
   "id": "f666fe7a",
   "metadata": {},
   "outputs": [
    {
     "data": {
      "text/plain": [
       "0.18376936761768622"
      ]
     },
     "execution_count": 153,
     "metadata": {},
     "output_type": "execute_result"
    }
   ],
   "source": [
    "# Utiliza esta celda para mostrar la probabilidad de un invidivuo promedio sin antecedentes familiares y un bajo nivel de lopoproteína de baja densidad\n",
    "\n",
    "prob_enfermedad_coronaria(df, valor_ldl='Bajo', valor_famhist=0)"
   ]
  },
  {
   "cell_type": "code",
   "execution_count": null,
   "id": "fca0644b",
   "metadata": {},
   "outputs": [],
   "source": []
  }
 ],
 "metadata": {
  "kernelspec": {
   "display_name": "Python 3.6.8 64-bit",
   "language": "python",
   "name": "python3"
  },
  "language_info": {
   "codemirror_mode": {
    "name": "ipython",
    "version": 3
   },
   "file_extension": ".py",
   "mimetype": "text/x-python",
   "name": "python",
   "nbconvert_exporter": "python",
   "pygments_lexer": "ipython3",
   "version": "3.6.8"
  },
  "vscode": {
   "interpreter": {
    "hash": "3bdfc9259a895d0928a4ae2f6847af189aa6726de5ec3e388785c2fb28cb2e34"
   }
  }
 },
 "nbformat": 4,
 "nbformat_minor": 5
}
