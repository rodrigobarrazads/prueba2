{
 "cells": [
  {
   "cell_type": "markdown",
   "id": "11411f67",
   "metadata": {},
   "source": [
    "<h1 style=\"text-align: center;\">Desafío - Regresión desde la econometría</h1>\n",
    "\n",
    "- Para realizar este desafío debes haber estudiado previamente todo el material disponible correspondiente a la unidad.\n",
    "- Una vez terminado el desafío, comprime la carpeta que contiene el desarrollo de los requerimientos solicitados y sube el .zip en el LMS.\n",
    "- Desarrollo del desafío: individual\n",
    "- Para la realización del desafío necesitarás apoyarte del archivo `Apoyo Desafío - Regresión desde la econometría`, disponible en la <a href=\"https://empieza.desafiolatam.com/cohorts/2091/sections/78283/activities/119111/items/610886\">plataforma</a>."
   ]
  },
  {
   "cell_type": "markdown",
   "id": "f3bc4328",
   "metadata": {},
   "source": [
    "## Habilidades a evaluar\n",
    "- Reconocer la terminología asociada a la modelación estadística.\n",
    "- Identificar la regresión lineal y sus fundamentos.\n",
    "- Interpretar los parámetros estimados en la regresión.\n",
    "- Interpretar inicialmente estadísticas de bondad de ajuste y coeficientes.\n",
    "- Reconocer los supuestos en los que la regresión tiene sustento teórico.\n",
    "- Implementar un modelo de regresión con `statsmodels`."
   ]
  },
  {
   "cell_type": "markdown",
   "id": "5230d757",
   "metadata": {},
   "source": [
    "## Descripción\n",
    "En la empresa en la cual te encuentras contratado, te solicitan trabajar con un registro de clientes de un banco e información sobre su salud financiera. La base contenida en el csv `Credit` abarca las siguientes variables:\n",
    "- `Income`: Ingreso anual disponible en miles de dólares.\n",
    "- `Limit`: Límite del crédito.\n",
    "- `Rating`: Ranking del crédito.\n",
    "- `Cards`: Cantidad de tarjetas de crédito.\n",
    "- `Age`: Edad del usuario.\n",
    "- `Education`: Años de educación del usuario.\n",
    "- `Gender`: ¿Hombre o mujer?\n",
    "- `Student`: ¿Es estudiante?\n",
    "- `Married`: ¿Está casado?\n",
    "- `Ethnicity`: Etnicidad del usuario (Caucásico, Afroamericano, Asiático)\n",
    "- `Balance`: Promedio de deuda en tarjeta de crédito de usuario.\n",
    "\n",
    "El objetivo que persigue el trabajo con esta base de datos es conocer los determinantes de la variación en el promedio de deuda en tarjeta de crédito. Para ello se te solicita generar modelos econométricos para inspeccionar los efectos de distintos atributos a partir de requerimientos que serán detallados más adelante."
   ]
  },
  {
   "cell_type": "markdown",
   "id": "918bf89b",
   "metadata": {},
   "source": [
    "## Requerimientos\n",
    "\n",
    "### 1. Preparar el ambiente de trabajo (1 puntos). Para ello debes:\n",
    "\n",
    "- Importar las librerías básicas para el análisis de datos.\n",
    "- Incluir los import base de `statsmodels`.\n",
    "- Importar la base de datos `Credit.csv` y eliminar la columna `Unnamed: 0`.\n",
    "- Siguiendo las buenas prácticas, genera variables binarias para capturar el efecto del grupo minoritario en cada variable. Para el caso de `Ethnicity`, genere binarias para `African American` y `Asian`.\n",
    "\n",
    "_**Tip**_: Utilice `value_counts()` para revisar la cantidad de casos en las variables categóricas."
   ]
  },
  {
   "cell_type": "code",
   "execution_count": 95,
   "id": "6ced3818",
   "metadata": {},
   "outputs": [
    {
     "data": {
      "text/html": [
       "<div>\n",
       "<style scoped>\n",
       "    .dataframe tbody tr th:only-of-type {\n",
       "        vertical-align: middle;\n",
       "    }\n",
       "\n",
       "    .dataframe tbody tr th {\n",
       "        vertical-align: top;\n",
       "    }\n",
       "\n",
       "    .dataframe thead th {\n",
       "        text-align: right;\n",
       "    }\n",
       "</style>\n",
       "<table border=\"1\" class=\"dataframe\">\n",
       "  <thead>\n",
       "    <tr style=\"text-align: right;\">\n",
       "      <th></th>\n",
       "      <th>Income</th>\n",
       "      <th>Limit</th>\n",
       "      <th>Rating</th>\n",
       "      <th>Cards</th>\n",
       "      <th>Age</th>\n",
       "      <th>Education</th>\n",
       "      <th>Gender</th>\n",
       "      <th>Student</th>\n",
       "      <th>Married</th>\n",
       "      <th>Ethnicity</th>\n",
       "      <th>Balance</th>\n",
       "    </tr>\n",
       "  </thead>\n",
       "  <tbody>\n",
       "    <tr>\n",
       "      <th>1</th>\n",
       "      <td>14.891</td>\n",
       "      <td>3606</td>\n",
       "      <td>283</td>\n",
       "      <td>2</td>\n",
       "      <td>34</td>\n",
       "      <td>11</td>\n",
       "      <td>Male</td>\n",
       "      <td>No</td>\n",
       "      <td>Yes</td>\n",
       "      <td>Caucasian</td>\n",
       "      <td>333</td>\n",
       "    </tr>\n",
       "    <tr>\n",
       "      <th>2</th>\n",
       "      <td>106.025</td>\n",
       "      <td>6645</td>\n",
       "      <td>483</td>\n",
       "      <td>3</td>\n",
       "      <td>82</td>\n",
       "      <td>15</td>\n",
       "      <td>Female</td>\n",
       "      <td>Yes</td>\n",
       "      <td>Yes</td>\n",
       "      <td>Asian</td>\n",
       "      <td>903</td>\n",
       "    </tr>\n",
       "    <tr>\n",
       "      <th>3</th>\n",
       "      <td>104.593</td>\n",
       "      <td>7075</td>\n",
       "      <td>514</td>\n",
       "      <td>4</td>\n",
       "      <td>71</td>\n",
       "      <td>11</td>\n",
       "      <td>Male</td>\n",
       "      <td>No</td>\n",
       "      <td>No</td>\n",
       "      <td>Asian</td>\n",
       "      <td>580</td>\n",
       "    </tr>\n",
       "    <tr>\n",
       "      <th>4</th>\n",
       "      <td>148.924</td>\n",
       "      <td>9504</td>\n",
       "      <td>681</td>\n",
       "      <td>3</td>\n",
       "      <td>36</td>\n",
       "      <td>11</td>\n",
       "      <td>Female</td>\n",
       "      <td>No</td>\n",
       "      <td>No</td>\n",
       "      <td>Asian</td>\n",
       "      <td>964</td>\n",
       "    </tr>\n",
       "    <tr>\n",
       "      <th>5</th>\n",
       "      <td>55.882</td>\n",
       "      <td>4897</td>\n",
       "      <td>357</td>\n",
       "      <td>2</td>\n",
       "      <td>68</td>\n",
       "      <td>16</td>\n",
       "      <td>Male</td>\n",
       "      <td>No</td>\n",
       "      <td>Yes</td>\n",
       "      <td>Caucasian</td>\n",
       "      <td>331</td>\n",
       "    </tr>\n",
       "  </tbody>\n",
       "</table>\n",
       "</div>"
      ],
      "text/plain": [
       "    Income  Limit  Rating  Cards  Age  Education  Gender Student Married  \\\n",
       "1   14.891   3606     283      2   34         11    Male      No     Yes   \n",
       "2  106.025   6645     483      3   82         15  Female     Yes     Yes   \n",
       "3  104.593   7075     514      4   71         11    Male      No      No   \n",
       "4  148.924   9504     681      3   36         11  Female      No      No   \n",
       "5   55.882   4897     357      2   68         16    Male      No     Yes   \n",
       "\n",
       "   Ethnicity  Balance  \n",
       "1  Caucasian      333  \n",
       "2      Asian      903  \n",
       "3      Asian      580  \n",
       "4      Asian      964  \n",
       "5  Caucasian      331  "
      ]
     },
     "execution_count": 95,
     "metadata": {},
     "output_type": "execute_result"
    }
   ],
   "source": [
    "# Utiliza esta celda para importar los módulos y el set de datos\n",
    "import pandas as pd\n",
    "import numpy as np\n",
    "import statsmodels.formula.api as smf\n",
    "import matplotlib.pyplot as plt\n",
    "import seaborn as sns\n",
    "\n",
    "df = pd.read_csv('Credit.csv', index_col='Unnamed: 0')\n",
    "df['Gender'] = df['Gender'].apply(lambda x: x.strip()) #Le quitamos todos los espacios a la variable Gender ya que detectamos que hay espacios al comienzo de cada valor de Male\n",
    "df.head()"
   ]
  },
  {
   "cell_type": "code",
   "execution_count": 96,
   "id": "79267c58",
   "metadata": {},
   "outputs": [
    {
     "data": {
      "text/plain": [
       "Female    207\n",
       "Male      193\n",
       "Name: Gender, dtype: int64"
      ]
     },
     "metadata": {},
     "output_type": "display_data"
    },
    {
     "data": {
      "text/plain": [
       "No     360\n",
       "Yes     40\n",
       "Name: Student, dtype: int64"
      ]
     },
     "metadata": {},
     "output_type": "display_data"
    },
    {
     "data": {
      "text/plain": [
       "Yes    245\n",
       "No     155\n",
       "Name: Married, dtype: int64"
      ]
     },
     "metadata": {},
     "output_type": "display_data"
    },
    {
     "data": {
      "text/plain": [
       "Caucasian           199\n",
       "Asian               102\n",
       "African American     99\n",
       "Name: Ethnicity, dtype: int64"
      ]
     },
     "metadata": {},
     "output_type": "display_data"
    }
   ],
   "source": [
    "# Dentro de todas las variables categoricas, buscaremos el valor más frecuente para cada una para anotarla posteriormente\n",
    "\n",
    "var_cat = ['Gender','Student','Married','Ethnicity']\n",
    "\n",
    "for col in var_cat:\n",
    "    display(df[col].value_counts())"
   ]
  },
  {
   "cell_type": "code",
   "execution_count": 97,
   "id": "afaaf39e",
   "metadata": {},
   "outputs": [
    {
     "data": {
      "text/html": [
       "<div>\n",
       "<style scoped>\n",
       "    .dataframe tbody tr th:only-of-type {\n",
       "        vertical-align: middle;\n",
       "    }\n",
       "\n",
       "    .dataframe tbody tr th {\n",
       "        vertical-align: top;\n",
       "    }\n",
       "\n",
       "    .dataframe thead th {\n",
       "        text-align: right;\n",
       "    }\n",
       "</style>\n",
       "<table border=\"1\" class=\"dataframe\">\n",
       "  <thead>\n",
       "    <tr style=\"text-align: right;\">\n",
       "      <th></th>\n",
       "      <th>Income</th>\n",
       "      <th>Limit</th>\n",
       "      <th>Rating</th>\n",
       "      <th>Cards</th>\n",
       "      <th>Age</th>\n",
       "      <th>Education</th>\n",
       "      <th>Balance</th>\n",
       "      <th>Gender_Male</th>\n",
       "      <th>Student_Yes</th>\n",
       "      <th>Married_No</th>\n",
       "      <th>Ethnicity_African_American</th>\n",
       "      <th>Ethnicity_Asian</th>\n",
       "    </tr>\n",
       "  </thead>\n",
       "  <tbody>\n",
       "    <tr>\n",
       "      <th>1</th>\n",
       "      <td>14.891</td>\n",
       "      <td>3606</td>\n",
       "      <td>283</td>\n",
       "      <td>2</td>\n",
       "      <td>34</td>\n",
       "      <td>11</td>\n",
       "      <td>333</td>\n",
       "      <td>1</td>\n",
       "      <td>0</td>\n",
       "      <td>0</td>\n",
       "      <td>0</td>\n",
       "      <td>0</td>\n",
       "    </tr>\n",
       "    <tr>\n",
       "      <th>2</th>\n",
       "      <td>106.025</td>\n",
       "      <td>6645</td>\n",
       "      <td>483</td>\n",
       "      <td>3</td>\n",
       "      <td>82</td>\n",
       "      <td>15</td>\n",
       "      <td>903</td>\n",
       "      <td>0</td>\n",
       "      <td>1</td>\n",
       "      <td>0</td>\n",
       "      <td>0</td>\n",
       "      <td>1</td>\n",
       "    </tr>\n",
       "    <tr>\n",
       "      <th>3</th>\n",
       "      <td>104.593</td>\n",
       "      <td>7075</td>\n",
       "      <td>514</td>\n",
       "      <td>4</td>\n",
       "      <td>71</td>\n",
       "      <td>11</td>\n",
       "      <td>580</td>\n",
       "      <td>1</td>\n",
       "      <td>0</td>\n",
       "      <td>1</td>\n",
       "      <td>0</td>\n",
       "      <td>1</td>\n",
       "    </tr>\n",
       "    <tr>\n",
       "      <th>4</th>\n",
       "      <td>148.924</td>\n",
       "      <td>9504</td>\n",
       "      <td>681</td>\n",
       "      <td>3</td>\n",
       "      <td>36</td>\n",
       "      <td>11</td>\n",
       "      <td>964</td>\n",
       "      <td>0</td>\n",
       "      <td>0</td>\n",
       "      <td>1</td>\n",
       "      <td>0</td>\n",
       "      <td>1</td>\n",
       "    </tr>\n",
       "    <tr>\n",
       "      <th>5</th>\n",
       "      <td>55.882</td>\n",
       "      <td>4897</td>\n",
       "      <td>357</td>\n",
       "      <td>2</td>\n",
       "      <td>68</td>\n",
       "      <td>16</td>\n",
       "      <td>331</td>\n",
       "      <td>1</td>\n",
       "      <td>0</td>\n",
       "      <td>0</td>\n",
       "      <td>0</td>\n",
       "      <td>0</td>\n",
       "    </tr>\n",
       "  </tbody>\n",
       "</table>\n",
       "</div>"
      ],
      "text/plain": [
       "    Income  Limit  Rating  Cards  Age  Education  Balance  Gender_Male  \\\n",
       "1   14.891   3606     283      2   34         11      333            1   \n",
       "2  106.025   6645     483      3   82         15      903            0   \n",
       "3  104.593   7075     514      4   71         11      580            1   \n",
       "4  148.924   9504     681      3   36         11      964            0   \n",
       "5   55.882   4897     357      2   68         16      331            1   \n",
       "\n",
       "   Student_Yes  Married_No  Ethnicity_African_American  Ethnicity_Asian  \n",
       "1            0           0                           0                0  \n",
       "2            1           0                           0                1  \n",
       "3            0           1                           0                1  \n",
       "4            0           1                           0                1  \n",
       "5            0           0                           0                0  "
      ]
     },
     "execution_count": 97,
     "metadata": {},
     "output_type": "execute_result"
    }
   ],
   "source": [
    "# Del resultado anterior, obtenemos que variables debemos quitar (las pasamos como una lista). Luego generamos las variables dummies y quitamos dichas columnas\n",
    "eliminar = ['Gender_Female', 'Student_No', 'Married_Yes', 'Ethnicity_Caucasian']\n",
    "\n",
    "df = pd.get_dummies(df)\n",
    "df = df.drop(eliminar, axis = 1)\n",
    "df = df.rename({'Ethnicity_African American': 'Ethnicity_African_American'}, axis=1)    #Renombramos esta columna ya que tenia un espacio en su nombre y esto podría generar problemas más adelante en el codigo\n",
    "\n",
    "df.head()"
   ]
  },
  {
   "cell_type": "markdown",
   "id": "b2faa9da",
   "metadata": {},
   "source": [
    "### 2. Generar gráficos descriptivos para las variables continuas (1 punto)\n",
    "\n",
    "- Genere una función llamada `plot_hist` que genere un histograma de la variable e indique la media y mediana de la misma.\n",
    "- Agregue una leyenda para indicar qué representa cada línea.\n",
    "- ¿Cuál es el comportamiento de Balance, Income, Cards y Rating?"
   ]
  },
  {
   "cell_type": "code",
   "execution_count": 98,
   "id": "48801c5f",
   "metadata": {},
   "outputs": [],
   "source": [
    "# Utiliza esta celda para definir la función plot_hist\n",
    "\n",
    "def plot_hist(df, variable):\n",
    "    \"\"\"\n",
    "        Objetivo:\n",
    "            - Generar un histograma, junto con la media, mediana y curva de densidad para una cierta variable\n",
    "        Parámetros:\n",
    "            - df (Dataframe): Dataframe donde se encuentra la variable a graficar\n",
    "            - variable (string): nombre de la variable a graficar\n",
    "\n",
    "        Retorno:\n",
    "           - (Grafico) histograma de la variable entregada\n",
    "    \"\"\"\n",
    "\n",
    "    df_tmp = df.copy()\n",
    "\n",
    "    plt.title(variable)\n",
    "    sns.histplot(df_tmp[variable], kde=True)\n",
    "    plt.axvline(df_tmp[variable].mean(), color='red', label=f'Media de {variable}', ls='--')\n",
    "    plt.axvline(df_tmp[variable].median(), color='blue', label=f'Mediana de {variable}', ls='--')\n",
    "    plt.legend()"
   ]
  },
  {
   "cell_type": "code",
   "execution_count": 99,
   "id": "b9eb53e4",
   "metadata": {},
   "outputs": [
    {
     "data": {
      "image/png": "[encoded data removed]",
      "text/plain": [
       "<Figure size 432x288 with 1 Axes>"
      ]
     },
     "metadata": {
      "needs_background": "light"
     },
     "output_type": "display_data"
    }
   ],
   "source": [
    "# Utiliza esta celda para generar gráfico de Balance\n",
    "\n",
    "plot_hist(df, 'Balance')"
   ]
  },
  {
   "cell_type": "markdown",
   "id": "fbc2e23d",
   "metadata": {},
   "source": [
    "**Comentarios**\n",
    "\n",
    "**<font color='green'>No se parece nada a una variable normal, ya que tiene una de sus colas muy cargadas, mas precisamente la cola de la izquierda (negative skew, o sesgo negativo).</font>**"
   ]
  },
  {
   "cell_type": "code",
   "execution_count": 100,
   "id": "dacadf0f",
   "metadata": {},
   "outputs": [
    {
     "data": {
      "image/png": "[encoded data removed]",
      "text/plain": [
       "<Figure size 432x288 with 1 Axes>"
      ]
     },
     "metadata": {
      "needs_background": "light"
     },
     "output_type": "display_data"
    }
   ],
   "source": [
    "# Utiliza esta celda para generar gráfico de Cards\n",
    "plot_hist(df, 'Cards')"
   ]
  },
  {
   "cell_type": "markdown",
   "id": "d623cf18",
   "metadata": {},
   "source": [
    "**Comentarios**\n",
    "\n",
    "**<font color='green'>al igual que la variable anterior, presenta un alto sesgo en la cola izquierda, concentrado mucho valores en este intervalo.</font>**"
   ]
  },
  {
   "cell_type": "code",
   "execution_count": 101,
   "id": "f51fd8f0",
   "metadata": {},
   "outputs": [
    {
     "data": {
      "image/png": "[encoded data removed]",
      "text/plain": [
       "<Figure size 432x288 with 1 Axes>"
      ]
     },
     "metadata": {
      "needs_background": "light"
     },
     "output_type": "display_data"
    }
   ],
   "source": [
    "# Utiliza esta celda para generar gráfico de Income\n",
    "plot_hist(df, 'Income')"
   ]
  },
  {
   "cell_type": "markdown",
   "id": "b1a4f60e",
   "metadata": {},
   "source": [
    "**Comentarios**\n",
    "\n",
    "**<font color='green'>Nuevamente, se presenta un alto sesgo negativo (cola izquierda muy pesada).</font>**"
   ]
  },
  {
   "cell_type": "code",
   "execution_count": 102,
   "id": "616d3f71",
   "metadata": {},
   "outputs": [
    {
     "data": {
      "image/png": "[encoded data removed]",
      "text/plain": [
       "<Figure size 432x288 with 1 Axes>"
      ]
     },
     "metadata": {
      "needs_background": "light"
     },
     "output_type": "display_data"
    }
   ],
   "source": [
    "# Utiliza esta celda para generar gráfico de Limit\n",
    "plot_hist(df, 'Limit')"
   ]
  },
  {
   "cell_type": "markdown",
   "id": "b013a427",
   "metadata": {},
   "source": [
    "**Comentarios**\n",
    "\n",
    "**<font color='green'>Para esta distribucion, se asemeja un poco mejor a la forma de una normal, pero nuevamente presenta un alto sesgo negativo (cola izquierda pesada).</font>**"
   ]
  },
  {
   "cell_type": "code",
   "execution_count": 103,
   "id": "50f055cf",
   "metadata": {},
   "outputs": [
    {
     "data": {
      "image/png": "[encoded data removed]",
      "text/plain": [
       "<Figure size 432x288 with 1 Axes>"
      ]
     },
     "metadata": {
      "needs_background": "light"
     },
     "output_type": "display_data"
    }
   ],
   "source": [
    "# Utiliza esta celda para generar gráfico de Rating\n",
    "plot_hist(df, 'Rating')"
   ]
  },
  {
   "cell_type": "markdown",
   "id": "d227d36d",
   "metadata": {},
   "source": [
    "**Comentarios**\n",
    "\n",
    "**<font color='green'>identico al anterior, alto sesgo negativo.</font>**"
   ]
  },
  {
   "cell_type": "markdown",
   "id": "b4316129",
   "metadata": {},
   "source": [
    "### 3. Regresión Lineal Simple (2 puntos). \n",
    "\n",
    "- Para ello se debe generar una serie de modelos simples utilizando `statsmodels`:\n",
    "$$\n",
    "\\text{Balance}_i = \\beta_0 + \\gamma_{student} \\cdot \\text{student}_i + \\epsilon_i \\\\\n",
    "\\text{Balance}_i = \\beta_0 + \\beta_{income} \\cdot \\text{income}_i + \\epsilon_i \\\\\n",
    "\\text{Balance}_i = \\beta_0 + \\beta_{rating} \\cdot \\text{rating}_i + \\epsilon_i\n",
    "$$"
   ]
  },
  {
   "cell_type": "code",
   "execution_count": 104,
   "id": "917ca8f8",
   "metadata": {},
   "outputs": [],
   "source": [
    "# Utiliza esta celda para generar y entrenar los 3 modelos solicitados\n",
    "\n",
    "modelo_student = smf.ols('Balance ~ Student_Yes', data = df).fit()\n",
    "modelo_income = smf.ols('Balance ~ Income', data = df).fit()\n",
    "modelo_rating = smf.ols('Balance ~ Rating', data = df).fit()"
   ]
  },
  {
   "cell_type": "markdown",
   "id": "24c4b8a9",
   "metadata": {},
   "source": [
    "- ¿Qué variable presenta un mayor poder explicativo de la variabilidad de `Balance`?"
   ]
  },
  {
   "cell_type": "code",
   "execution_count": 105,
   "id": "5e98f2f5",
   "metadata": {},
   "outputs": [
    {
     "data": {
      "text/html": [
       "<table class=\"simpletable\">\n",
       "<caption>OLS Regression Results</caption>\n",
       "<tr>\n",
       "  <th>Dep. Variable:</th>         <td>Balance</td>     <th>  R-squared:         </th> <td>   0.067</td>\n",
       "</tr>\n",
       "<tr>\n",
       "  <th>Model:</th>                   <td>OLS</td>       <th>  Adj. R-squared:    </th> <td>   0.065</td>\n",
       "</tr>\n",
       "<tr>\n",
       "  <th>Method:</th>             <td>Least Squares</td>  <th>  F-statistic:       </th> <td>   28.62</td>\n",
       "</tr>\n",
       "<tr>\n",
       "  <th>Date:</th>             <td>Wed, 19 Oct 2022</td> <th>  Prob (F-statistic):</th> <td>1.49e-07</td>\n",
       "</tr>\n",
       "<tr>\n",
       "  <th>Time:</th>                 <td>23:53:33</td>     <th>  Log-Likelihood:    </th> <td> -3005.5</td>\n",
       "</tr>\n",
       "<tr>\n",
       "  <th>No. Observations:</th>      <td>   400</td>      <th>  AIC:               </th> <td>   6015.</td>\n",
       "</tr>\n",
       "<tr>\n",
       "  <th>Df Residuals:</th>          <td>   398</td>      <th>  BIC:               </th> <td>   6023.</td>\n",
       "</tr>\n",
       "<tr>\n",
       "  <th>Df Model:</th>              <td>     1</td>      <th>                     </th>     <td> </td>   \n",
       "</tr>\n",
       "<tr>\n",
       "  <th>Covariance Type:</th>      <td>nonrobust</td>    <th>                     </th>     <td> </td>   \n",
       "</tr>\n",
       "</table>"
      ],
      "text/plain": [
       "<class 'statsmodels.iolib.table.SimpleTable'>"
      ]
     },
     "metadata": {},
     "output_type": "display_data"
    },
    {
     "name": "stdout",
     "output_type": "stream",
     "text": [
      "------------------------------------------------------------\n"
     ]
    },
    {
     "data": {
      "text/html": [
       "<table class=\"simpletable\">\n",
       "<caption>OLS Regression Results</caption>\n",
       "<tr>\n",
       "  <th>Dep. Variable:</th>         <td>Balance</td>     <th>  R-squared:         </th> <td>   0.215</td>\n",
       "</tr>\n",
       "<tr>\n",
       "  <th>Model:</th>                   <td>OLS</td>       <th>  Adj. R-squared:    </th> <td>   0.213</td>\n",
       "</tr>\n",
       "<tr>\n",
       "  <th>Method:</th>             <td>Least Squares</td>  <th>  F-statistic:       </th> <td>   109.0</td>\n",
       "</tr>\n",
       "<tr>\n",
       "  <th>Date:</th>             <td>Wed, 19 Oct 2022</td> <th>  Prob (F-statistic):</th> <td>1.03e-22</td>\n",
       "</tr>\n",
       "<tr>\n",
       "  <th>Time:</th>                 <td>23:53:33</td>     <th>  Log-Likelihood:    </th> <td> -2970.9</td>\n",
       "</tr>\n",
       "<tr>\n",
       "  <th>No. Observations:</th>      <td>   400</td>      <th>  AIC:               </th> <td>   5946.</td>\n",
       "</tr>\n",
       "<tr>\n",
       "  <th>Df Residuals:</th>          <td>   398</td>      <th>  BIC:               </th> <td>   5954.</td>\n",
       "</tr>\n",
       "<tr>\n",
       "  <th>Df Model:</th>              <td>     1</td>      <th>                     </th>     <td> </td>   \n",
       "</tr>\n",
       "<tr>\n",
       "  <th>Covariance Type:</th>      <td>nonrobust</td>    <th>                     </th>     <td> </td>   \n",
       "</tr>\n",
       "</table>"
      ],
      "text/plain": [
       "<class 'statsmodels.iolib.table.SimpleTable'>"
      ]
     },
     "metadata": {},
     "output_type": "display_data"
    },
    {
     "name": "stdout",
     "output_type": "stream",
     "text": [
      "------------------------------------------------------------\n"
     ]
    },
    {
     "data": {
      "text/html": [
       "<table class=\"simpletable\">\n",
       "<caption>OLS Regression Results</caption>\n",
       "<tr>\n",
       "  <th>Dep. Variable:</th>         <td>Balance</td>     <th>  R-squared:         </th> <td>   0.746</td> \n",
       "</tr>\n",
       "<tr>\n",
       "  <th>Model:</th>                   <td>OLS</td>       <th>  Adj. R-squared:    </th> <td>   0.745</td> \n",
       "</tr>\n",
       "<tr>\n",
       "  <th>Method:</th>             <td>Least Squares</td>  <th>  F-statistic:       </th> <td>   1168.</td> \n",
       "</tr>\n",
       "<tr>\n",
       "  <th>Date:</th>             <td>Wed, 19 Oct 2022</td> <th>  Prob (F-statistic):</th> <td>1.90e-120</td>\n",
       "</tr>\n",
       "<tr>\n",
       "  <th>Time:</th>                 <td>23:53:33</td>     <th>  Log-Likelihood:    </th> <td> -2745.4</td> \n",
       "</tr>\n",
       "<tr>\n",
       "  <th>No. Observations:</th>      <td>   400</td>      <th>  AIC:               </th> <td>   5495.</td> \n",
       "</tr>\n",
       "<tr>\n",
       "  <th>Df Residuals:</th>          <td>   398</td>      <th>  BIC:               </th> <td>   5503.</td> \n",
       "</tr>\n",
       "<tr>\n",
       "  <th>Df Model:</th>              <td>     1</td>      <th>                     </th>     <td> </td>    \n",
       "</tr>\n",
       "<tr>\n",
       "  <th>Covariance Type:</th>      <td>nonrobust</td>    <th>                     </th>     <td> </td>    \n",
       "</tr>\n",
       "</table>"
      ],
      "text/plain": [
       "<class 'statsmodels.iolib.table.SimpleTable'>"
      ]
     },
     "execution_count": 105,
     "metadata": {},
     "output_type": "execute_result"
    }
   ],
   "source": [
    "# Utiliza esta celda para explorar el poder explicativo de la variabilidad de Balance en los 3 modelos\n",
    "\n",
    "display(modelo_student.summary().tables[0])\n",
    "print('-'*60)\n",
    "display(modelo_income.summary().tables[0])\n",
    "print('-'*60)\n",
    "modelo_rating.summary().tables[0]"
   ]
  },
  {
   "cell_type": "markdown",
   "id": "0b051682",
   "metadata": {},
   "source": [
    "**Respuesta**\n",
    "\n",
    "**<font color='green'>Claramente, la que presenta un mayor poder explicativo frente a la variable Balance es el modelo con la variable Rating.</font>**"
   ]
  },
  {
   "cell_type": "markdown",
   "id": "2deecf77",
   "metadata": {},
   "source": [
    "- ¿Qué podemos decir sobre el comportamiento de Student?"
   ]
  },
  {
   "cell_type": "code",
   "execution_count": 106,
   "id": "5b89909c",
   "metadata": {},
   "outputs": [
    {
     "data": {
      "text/plain": [
       "Intercept      480.369444\n",
       "Student_Yes    396.455556\n",
       "dtype: float64"
      ]
     },
     "execution_count": 106,
     "metadata": {},
     "output_type": "execute_result"
    }
   ],
   "source": [
    "# Utiliza esta celda para explorar los valores de los coeficientes del modelo Balance ~ Student\n",
    "\n",
    "modelo_student.params"
   ]
  },
  {
   "cell_type": "markdown",
   "id": "cb077dc2",
   "metadata": {},
   "source": [
    "**Respuesta**\n",
    "\n",
    "**<font color='green'>Podemos decir que si es entudiantes, este aporta al valor Balance en un incremento de 396 (en las unidades correspondientes al credito reflejado), mientras que si no es estudiante, el valor promedio del credito es de 480 aproximadamente.</font>**"
   ]
  },
  {
   "cell_type": "markdown",
   "id": "efa72fba",
   "metadata": {},
   "source": [
    "- ¿Qué pasa si aplicamos una prueba de hipótesis para muestras independientes de Balance entre aquellos que son y no son estudiantes?"
   ]
  },
  {
   "cell_type": "code",
   "execution_count": 107,
   "id": "56a867a0",
   "metadata": {},
   "outputs": [
    {
     "data": {
      "text/plain": [
       "Ttest_indResult(statistic=-5.349964123075003, pvalue=1.487734107732302e-07)"
      ]
     },
     "execution_count": 107,
     "metadata": {},
     "output_type": "execute_result"
    }
   ],
   "source": [
    "# Utiliza esta celda para realizar la prueba de hipótesis solicitada\n",
    "from scipy.stats import ttest_ind\n",
    "\n",
    "ttest_ind(df[df['Student_Yes']==0]['Balance'], df[df['Student_Yes']==1]['Balance'])\n"
   ]
  },
  {
   "cell_type": "markdown",
   "id": "0881f144",
   "metadata": {},
   "source": [
    "**Comentarios de la prueba de hipótesis realizada**\n",
    "\n",
    "**<font color='green'>Con un p-value de practicamente cero, podemos rechazar la hipotesis nula, es decir, existe evidencia sufiente para decir que la distribucion de los valores de Balance, tanto para los grupos de estudiantes y no estudiantes son  diferentes, con una confienza del 95%.</font>**"
   ]
  },
  {
   "cell_type": "markdown",
   "id": "b0ac2aa5",
   "metadata": {},
   "source": [
    "### 4. Generar un modelo que incluya todos los regresores (2 puntos):\n",
    "A partir de la siguiente fórmula, genere el modelo que incluya dichos regresores\n",
    "\n",
    "$$\n",
    "\\text{Balance}_i = \\beta_0 + \\sum_{j=1}^{n} \\beta_{j} \\cdot x_{ij} + \\epsilon_i\n",
    "$$\n",
    "\n",
    "- $j$: Cantidad de tributos del modelo. **Para las variables categóricas, considerar solamente las variables binarias generadas, y omitir las columnas de las variables categóricas originales**"
   ]
  },
  {
   "cell_type": "code",
   "execution_count": 110,
   "id": "711e44ba",
   "metadata": {},
   "outputs": [],
   "source": [
    "# Sugerencia: Utiliza esta celda para explorar las columnas del set de datos\n",
    "\n",
    "columnas = df.select_dtypes(np.number).columns\n",
    "columnas = columnas.drop('Balance')\n",
    "regresores = ' + '.join(columnas)"
   ]
  },
  {
   "cell_type": "code",
   "execution_count": 111,
   "id": "e2679370",
   "metadata": {},
   "outputs": [
    {
     "data": {
      "text/html": [
       "<table class=\"simpletable\">\n",
       "<tr>\n",
       "        <td>Model:</td>               <td>OLS</td>         <td>Adj. R-squared:</td>     <td>0.954</td>  \n",
       "</tr>\n",
       "<tr>\n",
       "  <td>Dependent Variable:</td>      <td>Balance</td>            <td>AIC:</td>         <td>4821.3704</td>\n",
       "</tr>\n",
       "<tr>\n",
       "         <td>Date:</td>        <td>2022-10-19 23:53</td>        <td>BIC:</td>         <td>4869.2680</td>\n",
       "</tr>\n",
       "<tr>\n",
       "   <td>No. Observations:</td>         <td>400</td>         <td>Log-Likelihood:</td>    <td>-2398.7</td> \n",
       "</tr>\n",
       "<tr>\n",
       "       <td>Df Model:</td>             <td>11</td>           <td>F-statistic:</td>       <td>750.3</td>  \n",
       "</tr>\n",
       "<tr>\n",
       "     <td>Df Residuals:</td>           <td>388</td>       <td>Prob (F-statistic):</td> <td>1.11e-253</td>\n",
       "</tr>\n",
       "<tr>\n",
       "      <td>R-squared:</td>            <td>0.955</td>            <td>Scale:</td>         <td>9759.6</td>  \n",
       "</tr>\n",
       "</table>\n",
       "<table class=\"simpletable\">\n",
       "<tr>\n",
       "               <td></td>                <th>Coef.</th>   <th>Std.Err.</th>     <th>t</th>     <th>P>|t|</th>  <th>[0.025</th>    <th>0.975]</th>  \n",
       "</tr>\n",
       "<tr>\n",
       "  <th>Intercept</th>                  <td>-488.2880</td>  <td>34.8161</td> <td>-14.0248</td> <td>0.0000</td> <td>-556.7397</td> <td>-419.8362</td>\n",
       "</tr>\n",
       "<tr>\n",
       "  <th>Income</th>                      <td>-7.8031</td>   <td>0.2342</td>  <td>-33.3136</td> <td>0.0000</td>  <td>-8.2636</td>   <td>-7.3426</td> \n",
       "</tr>\n",
       "<tr>\n",
       "  <th>Limit</th>                       <td>0.1909</td>    <td>0.0328</td>   <td>5.8241</td>  <td>0.0000</td>  <td>0.1265</td>    <td>0.2554</td>  \n",
       "</tr>\n",
       "<tr>\n",
       "  <th>Rating</th>                      <td>1.1365</td>    <td>0.4909</td>   <td>2.3152</td>  <td>0.0211</td>  <td>0.1714</td>    <td>2.1017</td>  \n",
       "</tr>\n",
       "<tr>\n",
       "  <th>Cards</th>                       <td>17.7245</td>   <td>4.3410</td>   <td>4.0830</td>  <td>0.0001</td>  <td>9.1896</td>    <td>26.2594</td> \n",
       "</tr>\n",
       "<tr>\n",
       "  <th>Age</th>                         <td>-0.6139</td>   <td>0.2940</td>   <td>-2.0882</td> <td>0.0374</td>  <td>-1.1919</td>   <td>-0.0359</td> \n",
       "</tr>\n",
       "<tr>\n",
       "  <th>Education</th>                   <td>-1.0989</td>   <td>1.5980</td>   <td>-0.6877</td> <td>0.4921</td>  <td>-4.2406</td>   <td>2.0429</td>  \n",
       "</tr>\n",
       "<tr>\n",
       "  <th>Gender_Male</th>                 <td>10.6532</td>   <td>9.9140</td>   <td>1.0746</td>  <td>0.2832</td>  <td>-8.8386</td>   <td>30.1451</td> \n",
       "</tr>\n",
       "<tr>\n",
       "  <th>Student_Yes</th>                <td>425.7474</td>   <td>16.7226</td>  <td>25.4594</td> <td>0.0000</td> <td>392.8691</td>  <td>458.6256</td> \n",
       "</tr>\n",
       "<tr>\n",
       "  <th>Married_No</th>                  <td>8.5339</td>    <td>10.3629</td>  <td>0.8235</td>  <td>0.4107</td> <td>-11.8405</td>   <td>28.9083</td> \n",
       "</tr>\n",
       "<tr>\n",
       "  <th>Ethnicity_African_American</th> <td>-10.1070</td>   <td>12.2099</td>  <td>-0.8278</td> <td>0.4083</td> <td>-34.1129</td>   <td>13.8989</td> \n",
       "</tr>\n",
       "<tr>\n",
       "  <th>Ethnicity_Asian</th>             <td>6.6972</td>    <td>12.1224</td>  <td>0.5525</td>  <td>0.5810</td> <td>-17.1367</td>   <td>30.5310</td> \n",
       "</tr>\n",
       "</table>\n",
       "<table class=\"simpletable\">\n",
       "<tr>\n",
       "     <td>Omnibus:</td>    <td>34.899</td>  <td>Durbin-Watson:</td>    <td>1.968</td>\n",
       "</tr>\n",
       "<tr>\n",
       "  <td>Prob(Omnibus):</td>  <td>0.000</td> <td>Jarque-Bera (JB):</td> <td>41.766</td>\n",
       "</tr>\n",
       "<tr>\n",
       "       <td>Skew:</td>      <td>0.782</td>     <td>Prob(JB):</td>      <td>0.000</td>\n",
       "</tr>\n",
       "<tr>\n",
       "     <td>Kurtosis:</td>    <td>3.241</td>  <td>Condition No.:</td>    <td>37395</td>\n",
       "</tr>\n",
       "</table>"
      ],
      "text/plain": [
       "<class 'statsmodels.iolib.summary2.Summary'>\n",
       "\"\"\"\n",
       "                         Results: Ordinary least squares\n",
       "=================================================================================\n",
       "Model:                   OLS                   Adj. R-squared:          0.954    \n",
       "Dependent Variable:      Balance               AIC:                     4821.3704\n",
       "Date:                    2022-10-19 23:53      BIC:                     4869.2680\n",
       "No. Observations:        400                   Log-Likelihood:          -2398.7  \n",
       "Df Model:                11                    F-statistic:             750.3    \n",
       "Df Residuals:            388                   Prob (F-statistic):      1.11e-253\n",
       "R-squared:               0.955                 Scale:                   9759.6   \n",
       "---------------------------------------------------------------------------------\n",
       "                             Coef.   Std.Err.    t     P>|t|    [0.025    0.975] \n",
       "---------------------------------------------------------------------------------\n",
       "Intercept                  -488.2880  34.8161 -14.0248 0.0000 -556.7397 -419.8362\n",
       "Income                       -7.8031   0.2342 -33.3136 0.0000   -8.2636   -7.3426\n",
       "Limit                         0.1909   0.0328   5.8241 0.0000    0.1265    0.2554\n",
       "Rating                        1.1365   0.4909   2.3152 0.0211    0.1714    2.1017\n",
       "Cards                        17.7245   4.3410   4.0830 0.0001    9.1896   26.2594\n",
       "Age                          -0.6139   0.2940  -2.0882 0.0374   -1.1919   -0.0359\n",
       "Education                    -1.0989   1.5980  -0.6877 0.4921   -4.2406    2.0429\n",
       "Gender_Male                  10.6532   9.9140   1.0746 0.2832   -8.8386   30.1451\n",
       "Student_Yes                 425.7474  16.7226  25.4594 0.0000  392.8691  458.6256\n",
       "Married_No                    8.5339  10.3629   0.8235 0.4107  -11.8405   28.9083\n",
       "Ethnicity_African_American  -10.1070  12.2099  -0.8278 0.4083  -34.1129   13.8989\n",
       "Ethnicity_Asian               6.6972  12.1224   0.5525 0.5810  -17.1367   30.5310\n",
       "---------------------------------------------------------------------------------\n",
       "Omnibus:                    34.899            Durbin-Watson:               1.968 \n",
       "Prob(Omnibus):              0.000             Jarque-Bera (JB):            41.766\n",
       "Skew:                       0.782             Prob(JB):                    0.000 \n",
       "Kurtosis:                   3.241             Condition No.:               37395 \n",
       "=================================================================================\n",
       "* The condition number is large (4e+04). This might indicate             strong\n",
       "multicollinearity or other numerical problems.\n",
       "\"\"\""
      ]
     },
     "execution_count": 111,
     "metadata": {},
     "output_type": "execute_result"
    }
   ],
   "source": [
    "# Utiliza esta celda para generar el modelo solicitado\n",
    "\n",
    "modelo_full = smf.ols(f'Balance ~ {regresores}', data = df).fit()\n",
    "modelo_full.summary2()"
   ]
  },
  {
   "cell_type": "markdown",
   "id": "c627e20f",
   "metadata": {},
   "source": [
    "- Comente brevemente sobre el poder explicativo en la varianza de $y$"
   ]
  },
  {
   "cell_type": "code",
   "execution_count": 122,
   "id": "0924175d",
   "metadata": {},
   "outputs": [
    {
     "data": {
      "text/html": [
       "<div>\n",
       "<style scoped>\n",
       "    .dataframe tbody tr th:only-of-type {\n",
       "        vertical-align: middle;\n",
       "    }\n",
       "\n",
       "    .dataframe tbody tr th {\n",
       "        vertical-align: top;\n",
       "    }\n",
       "\n",
       "    .dataframe thead th {\n",
       "        text-align: right;\n",
       "    }\n",
       "</style>\n",
       "<table border=\"1\" class=\"dataframe\">\n",
       "  <thead>\n",
       "    <tr style=\"text-align: right;\">\n",
       "      <th></th>\n",
       "      <th>0</th>\n",
       "      <th>1</th>\n",
       "      <th>2</th>\n",
       "      <th>3</th>\n",
       "    </tr>\n",
       "  </thead>\n",
       "  <tbody>\n",
       "    <tr>\n",
       "      <th>0</th>\n",
       "      <td>Model:</td>\n",
       "      <td>OLS</td>\n",
       "      <td>Adj. R-squared:</td>\n",
       "      <td>0.954</td>\n",
       "    </tr>\n",
       "    <tr>\n",
       "      <th>1</th>\n",
       "      <td>Dependent Variable:</td>\n",
       "      <td>Balance</td>\n",
       "      <td>AIC:</td>\n",
       "      <td>4821.3704</td>\n",
       "    </tr>\n",
       "    <tr>\n",
       "      <th>2</th>\n",
       "      <td>Date:</td>\n",
       "      <td>2022-10-20 00:13</td>\n",
       "      <td>BIC:</td>\n",
       "      <td>4869.2680</td>\n",
       "    </tr>\n",
       "    <tr>\n",
       "      <th>3</th>\n",
       "      <td>No. Observations:</td>\n",
       "      <td>400</td>\n",
       "      <td>Log-Likelihood:</td>\n",
       "      <td>-2398.7</td>\n",
       "    </tr>\n",
       "    <tr>\n",
       "      <th>4</th>\n",
       "      <td>Df Model:</td>\n",
       "      <td>11</td>\n",
       "      <td>F-statistic:</td>\n",
       "      <td>750.3</td>\n",
       "    </tr>\n",
       "    <tr>\n",
       "      <th>5</th>\n",
       "      <td>Df Residuals:</td>\n",
       "      <td>388</td>\n",
       "      <td>Prob (F-statistic):</td>\n",
       "      <td>1.11e-253</td>\n",
       "    </tr>\n",
       "    <tr>\n",
       "      <th>6</th>\n",
       "      <td>R-squared:</td>\n",
       "      <td>0.955</td>\n",
       "      <td>Scale:</td>\n",
       "      <td>9759.6</td>\n",
       "    </tr>\n",
       "  </tbody>\n",
       "</table>\n",
       "</div>"
      ],
      "text/plain": [
       "                     0                 1                    2          3\n",
       "0               Model:               OLS      Adj. R-squared:      0.954\n",
       "1  Dependent Variable:           Balance                 AIC:  4821.3704\n",
       "2                Date:  2022-10-20 00:13                 BIC:  4869.2680\n",
       "3    No. Observations:               400      Log-Likelihood:    -2398.7\n",
       "4            Df Model:                11         F-statistic:      750.3\n",
       "5        Df Residuals:               388  Prob (F-statistic):  1.11e-253\n",
       "6           R-squared:             0.955               Scale:     9759.6"
      ]
     },
     "execution_count": 122,
     "metadata": {},
     "output_type": "execute_result"
    }
   ],
   "source": [
    "# Utiliza esta celda para explorar el poder explicativo en la varianza de Balance\n",
    "modelo_full.summary2().tables[0]"
   ]
  },
  {
   "cell_type": "markdown",
   "id": "99f10a9a",
   "metadata": {},
   "source": [
    "**Comentarios**\n",
    "\n",
    "**<font color='green'>Se puede apreciar, por el R2, que nuestro modelo tiene un muy alto poder explicativo con respecto a la variable Balance, dicho de otro, nuestras variables estan logrando explicar el 95,4% de la variabilidad total de la variable Balance.</font>**"
   ]
  },
  {
   "cell_type": "markdown",
   "id": "fe586796",
   "metadata": {},
   "source": [
    "- Comente sobre las principales características de los predictores."
   ]
  },
  {
   "cell_type": "code",
   "execution_count": 118,
   "id": "31dd7e8f",
   "metadata": {},
   "outputs": [],
   "source": [
    "# Utiliza esta celda para almacenar los coeficientes y sus significancias. Tip: puede usar summary2.tables[1] y almacenar el resultado en una variable (será de tipo DataFrame)\n",
    "\n",
    "table = modelo_full.summary2().tables[1]"
   ]
  },
  {
   "cell_type": "code",
   "execution_count": 119,
   "id": "f039d67a",
   "metadata": {},
   "outputs": [
    {
     "data": {
      "text/html": [
       "<div>\n",
       "<style scoped>\n",
       "    .dataframe tbody tr th:only-of-type {\n",
       "        vertical-align: middle;\n",
       "    }\n",
       "\n",
       "    .dataframe tbody tr th {\n",
       "        vertical-align: top;\n",
       "    }\n",
       "\n",
       "    .dataframe thead th {\n",
       "        text-align: right;\n",
       "    }\n",
       "</style>\n",
       "<table border=\"1\" class=\"dataframe\">\n",
       "  <thead>\n",
       "    <tr style=\"text-align: right;\">\n",
       "      <th></th>\n",
       "      <th>Coef.</th>\n",
       "      <th>Std.Err.</th>\n",
       "      <th>t</th>\n",
       "      <th>P&gt;|t|</th>\n",
       "      <th>[0.025</th>\n",
       "      <th>0.975]</th>\n",
       "    </tr>\n",
       "  </thead>\n",
       "  <tbody>\n",
       "    <tr>\n",
       "      <th>Limit</th>\n",
       "      <td>0.190907</td>\n",
       "      <td>0.032779</td>\n",
       "      <td>5.824124</td>\n",
       "      <td>1.205974e-08</td>\n",
       "      <td>0.126461</td>\n",
       "      <td>0.255353</td>\n",
       "    </tr>\n",
       "    <tr>\n",
       "      <th>Rating</th>\n",
       "      <td>1.136527</td>\n",
       "      <td>0.490894</td>\n",
       "      <td>2.315216</td>\n",
       "      <td>2.112213e-02</td>\n",
       "      <td>0.171380</td>\n",
       "      <td>2.101673</td>\n",
       "    </tr>\n",
       "    <tr>\n",
       "      <th>Cards</th>\n",
       "      <td>17.724484</td>\n",
       "      <td>4.341033</td>\n",
       "      <td>4.083011</td>\n",
       "      <td>5.401200e-05</td>\n",
       "      <td>9.189592</td>\n",
       "      <td>26.259375</td>\n",
       "    </tr>\n",
       "    <tr>\n",
       "      <th>Student_Yes</th>\n",
       "      <td>425.747360</td>\n",
       "      <td>16.722580</td>\n",
       "      <td>25.459430</td>\n",
       "      <td>8.854521e-85</td>\n",
       "      <td>392.869147</td>\n",
       "      <td>458.625572</td>\n",
       "    </tr>\n",
       "  </tbody>\n",
       "</table>\n",
       "</div>"
      ],
      "text/plain": [
       "                  Coef.   Std.Err.          t         P>|t|      [0.025  \\\n",
       "Limit          0.190907   0.032779   5.824124  1.205974e-08    0.126461   \n",
       "Rating         1.136527   0.490894   2.315216  2.112213e-02    0.171380   \n",
       "Cards         17.724484   4.341033   4.083011  5.401200e-05    9.189592   \n",
       "Student_Yes  425.747360  16.722580  25.459430  8.854521e-85  392.869147   \n",
       "\n",
       "                 0.975]  \n",
       "Limit          0.255353  \n",
       "Rating         2.101673  \n",
       "Cards         26.259375  \n",
       "Student_Yes  458.625572  "
      ]
     },
     "execution_count": 119,
     "metadata": {},
     "output_type": "execute_result"
    }
   ],
   "source": [
    "# Utiliza esta celda para explorar los atributos que aumentan el balance en forma significativa (considerando alpha 0.025)\n",
    "\n",
    "table_025 = table[table['P>|t|'] <= 0.025]\n",
    "table_025[table_025['Coef.'] > 0] "
   ]
  },
  {
   "cell_type": "code",
   "execution_count": 120,
   "id": "dff58556",
   "metadata": {},
   "outputs": [
    {
     "data": {
      "text/html": [
       "<div>\n",
       "<style scoped>\n",
       "    .dataframe tbody tr th:only-of-type {\n",
       "        vertical-align: middle;\n",
       "    }\n",
       "\n",
       "    .dataframe tbody tr th {\n",
       "        vertical-align: top;\n",
       "    }\n",
       "\n",
       "    .dataframe thead th {\n",
       "        text-align: right;\n",
       "    }\n",
       "</style>\n",
       "<table border=\"1\" class=\"dataframe\">\n",
       "  <thead>\n",
       "    <tr style=\"text-align: right;\">\n",
       "      <th></th>\n",
       "      <th>Coef.</th>\n",
       "      <th>Std.Err.</th>\n",
       "      <th>t</th>\n",
       "      <th>P&gt;|t|</th>\n",
       "      <th>[0.025</th>\n",
       "      <th>0.975]</th>\n",
       "    </tr>\n",
       "  </thead>\n",
       "  <tbody>\n",
       "    <tr>\n",
       "      <th>Intercept</th>\n",
       "      <td>-488.287994</td>\n",
       "      <td>34.816063</td>\n",
       "      <td>-14.024791</td>\n",
       "      <td>1.953141e-36</td>\n",
       "      <td>-556.739746</td>\n",
       "      <td>-419.836241</td>\n",
       "    </tr>\n",
       "    <tr>\n",
       "      <th>Income</th>\n",
       "      <td>-7.803102</td>\n",
       "      <td>0.234232</td>\n",
       "      <td>-33.313573</td>\n",
       "      <td>7.372312e-116</td>\n",
       "      <td>-8.263624</td>\n",
       "      <td>-7.342579</td>\n",
       "    </tr>\n",
       "  </tbody>\n",
       "</table>\n",
       "</div>"
      ],
      "text/plain": [
       "                Coef.   Std.Err.          t          P>|t|      [0.025  \\\n",
       "Intercept -488.287994  34.816063 -14.024791   1.953141e-36 -556.739746   \n",
       "Income      -7.803102   0.234232 -33.313573  7.372312e-116   -8.263624   \n",
       "\n",
       "               0.975]  \n",
       "Intercept -419.836241  \n",
       "Income      -7.342579  "
      ]
     },
     "execution_count": 120,
     "metadata": {},
     "output_type": "execute_result"
    }
   ],
   "source": [
    "# Utiliza esta celda para explorar los atributos que disminuyen el balance en forma significativa (considerando alpha 0.025)\n",
    "\n",
    "table_025[table_025['Coef.'] < 0]"
   ]
  },
  {
   "cell_type": "code",
   "execution_count": 121,
   "id": "2bef76e6",
   "metadata": {},
   "outputs": [
    {
     "data": {
      "text/html": [
       "<div>\n",
       "<style scoped>\n",
       "    .dataframe tbody tr th:only-of-type {\n",
       "        vertical-align: middle;\n",
       "    }\n",
       "\n",
       "    .dataframe tbody tr th {\n",
       "        vertical-align: top;\n",
       "    }\n",
       "\n",
       "    .dataframe thead th {\n",
       "        text-align: right;\n",
       "    }\n",
       "</style>\n",
       "<table border=\"1\" class=\"dataframe\">\n",
       "  <thead>\n",
       "    <tr style=\"text-align: right;\">\n",
       "      <th></th>\n",
       "      <th>Coef.</th>\n",
       "      <th>Std.Err.</th>\n",
       "      <th>t</th>\n",
       "      <th>P&gt;|t|</th>\n",
       "      <th>[0.025</th>\n",
       "      <th>0.975]</th>\n",
       "    </tr>\n",
       "  </thead>\n",
       "  <tbody>\n",
       "    <tr>\n",
       "      <th>Age</th>\n",
       "      <td>-0.613909</td>\n",
       "      <td>0.293989</td>\n",
       "      <td>-2.088200</td>\n",
       "      <td>0.037431</td>\n",
       "      <td>-1.191920</td>\n",
       "      <td>-0.035897</td>\n",
       "    </tr>\n",
       "    <tr>\n",
       "      <th>Education</th>\n",
       "      <td>-1.098855</td>\n",
       "      <td>1.597951</td>\n",
       "      <td>-0.687665</td>\n",
       "      <td>0.492075</td>\n",
       "      <td>-4.240582</td>\n",
       "      <td>2.042872</td>\n",
       "    </tr>\n",
       "    <tr>\n",
       "      <th>Gender_Male</th>\n",
       "      <td>10.653248</td>\n",
       "      <td>9.914000</td>\n",
       "      <td>1.074566</td>\n",
       "      <td>0.283237</td>\n",
       "      <td>-8.838637</td>\n",
       "      <td>30.145132</td>\n",
       "    </tr>\n",
       "    <tr>\n",
       "      <th>Married_No</th>\n",
       "      <td>8.533901</td>\n",
       "      <td>10.362875</td>\n",
       "      <td>0.823507</td>\n",
       "      <td>0.410726</td>\n",
       "      <td>-11.840515</td>\n",
       "      <td>28.908316</td>\n",
       "    </tr>\n",
       "    <tr>\n",
       "      <th>Ethnicity_African_American</th>\n",
       "      <td>-10.107025</td>\n",
       "      <td>12.209923</td>\n",
       "      <td>-0.827771</td>\n",
       "      <td>0.408309</td>\n",
       "      <td>-34.112917</td>\n",
       "      <td>13.898867</td>\n",
       "    </tr>\n",
       "    <tr>\n",
       "      <th>Ethnicity_Asian</th>\n",
       "      <td>6.697154</td>\n",
       "      <td>12.122442</td>\n",
       "      <td>0.552459</td>\n",
       "      <td>0.580952</td>\n",
       "      <td>-17.136741</td>\n",
       "      <td>30.531049</td>\n",
       "    </tr>\n",
       "  </tbody>\n",
       "</table>\n",
       "</div>"
      ],
      "text/plain": [
       "                                Coef.   Std.Err.         t     P>|t|  \\\n",
       "Age                         -0.613909   0.293989 -2.088200  0.037431   \n",
       "Education                   -1.098855   1.597951 -0.687665  0.492075   \n",
       "Gender_Male                 10.653248   9.914000  1.074566  0.283237   \n",
       "Married_No                   8.533901  10.362875  0.823507  0.410726   \n",
       "Ethnicity_African_American -10.107025  12.209923 -0.827771  0.408309   \n",
       "Ethnicity_Asian              6.697154  12.122442  0.552459  0.580952   \n",
       "\n",
       "                               [0.025     0.975]  \n",
       "Age                         -1.191920  -0.035897  \n",
       "Education                   -4.240582   2.042872  \n",
       "Gender_Male                 -8.838637  30.145132  \n",
       "Married_No                 -11.840515  28.908316  \n",
       "Ethnicity_African_American -34.112917  13.898867  \n",
       "Ethnicity_Asian            -17.136741  30.531049  "
      ]
     },
     "execution_count": 121,
     "metadata": {},
     "output_type": "execute_result"
    }
   ],
   "source": [
    "# Utiliza esta celda para explorar los atributos que no modifican el balance de forma significativa significativos (considerando alpha 0.025)\n",
    "\n",
    "table[table['P>|t|'] > 0.025]"
   ]
  },
  {
   "cell_type": "markdown",
   "id": "b2736a4f",
   "metadata": {},
   "source": [
    "**Comentarios**\n",
    "\n",
    "**<font color='green'>Para los predictores, se observa que hay ciertas variables que no tiene un efecto predictivo significativo en nuestra variable Balance, como es el caso de la variable `Education`, `Gender_Male`, `Married_No`, `Ethnicity_African_American` y `Ethnicity_Asian`.</font>**\n",
    "\n",
    "**<font color='green'>Por otro lado, de las variables que si tienen un efecto predictivo en nuestra variable Balance, algunas tienen un efecto positivo y negativo, como son las variables `Limit`, `Rating`, `Cards` y `Student_Yes`. En cambio, otras tienen un efecto negativo en Balance como la variable `Income` </font>**"
   ]
  },
  {
   "cell_type": "markdown",
   "id": "3d8da77c",
   "metadata": {},
   "source": [
    "### 5. Depurar el modelo e incluya sólo los predictores significativo (2 puntos)\n",
    "- En base al modelo anterior, refactoriza e incluya sólo las variables con un nivel de significancia _p-value_ $\\leq 0.025$. "
   ]
  },
  {
   "cell_type": "code",
   "execution_count": 124,
   "id": "2be30b53",
   "metadata": {},
   "outputs": [
    {
     "data": {
      "text/html": [
       "<table class=\"simpletable\">\n",
       "<tr>\n",
       "        <td>Model:</td>               <td>OLS</td>         <td>Adj. R-squared:</td>     <td>0.954</td>  \n",
       "</tr>\n",
       "<tr>\n",
       "  <td>Dependent Variable:</td>      <td>Balance</td>            <td>AIC:</td>         <td>4817.6668</td>\n",
       "</tr>\n",
       "<tr>\n",
       "         <td>Date:</td>        <td>2022-10-20 00:14</td>        <td>BIC:</td>         <td>4841.6156</td>\n",
       "</tr>\n",
       "<tr>\n",
       "   <td>No. Observations:</td>         <td>400</td>         <td>Log-Likelihood:</td>    <td>-2402.8</td> \n",
       "</tr>\n",
       "<tr>\n",
       "       <td>Df Model:</td>              <td>5</td>           <td>F-statistic:</td>       <td>1640.</td>  \n",
       "</tr>\n",
       "<tr>\n",
       "     <td>Df Residuals:</td>           <td>394</td>       <td>Prob (F-statistic):</td> <td>3.60e-261</td>\n",
       "</tr>\n",
       "<tr>\n",
       "      <td>R-squared:</td>            <td>0.954</td>            <td>Scale:</td>         <td>9812.4</td>  \n",
       "</tr>\n",
       "</table>\n",
       "<table class=\"simpletable\">\n",
       "<tr>\n",
       "       <td></td>         <th>Coef.</th>   <th>Std.Err.</th>     <th>t</th>     <th>P>|t|</th>  <th>[0.025</th>    <th>0.975]</th>  \n",
       "</tr>\n",
       "<tr>\n",
       "  <th>Intercept</th>   <td>-526.1555</td>  <td>19.7466</td> <td>-26.6454</td> <td>0.0000</td> <td>-564.9774</td> <td>-487.3336</td>\n",
       "</tr>\n",
       "<tr>\n",
       "  <th>Income</th>       <td>-7.8749</td>   <td>0.2315</td>  <td>-34.0236</td> <td>0.0000</td>  <td>-8.3300</td>   <td>-7.4199</td> \n",
       "</tr>\n",
       "<tr>\n",
       "  <th>Limit</th>        <td>0.1944</td>    <td>0.0325</td>   <td>5.9768</td>  <td>0.0000</td>  <td>0.1305</td>    <td>0.2584</td>  \n",
       "</tr>\n",
       "<tr>\n",
       "  <th>Rating</th>       <td>1.0879</td>    <td>0.4870</td>   <td>2.2339</td>  <td>0.0260</td>  <td>0.1305</td>    <td>2.0453</td>  \n",
       "</tr>\n",
       "<tr>\n",
       "  <th>Cards</th>        <td>17.8517</td>   <td>4.3349</td>   <td>4.1182</td>  <td>0.0000</td>  <td>9.3293</td>    <td>26.3741</td> \n",
       "</tr>\n",
       "<tr>\n",
       "  <th>Student_Yes</th> <td>426.8501</td>   <td>16.5740</td>  <td>25.7542</td> <td>0.0000</td> <td>394.2656</td>  <td>459.4347</td> \n",
       "</tr>\n",
       "</table>\n",
       "<table class=\"simpletable\">\n",
       "<tr>\n",
       "     <td>Omnibus:</td>    <td>30.263</td>  <td>Durbin-Watson:</td>    <td>1.949</td>\n",
       "</tr>\n",
       "<tr>\n",
       "  <td>Prob(Omnibus):</td>  <td>0.000</td> <td>Jarque-Bera (JB):</td> <td>35.257</td>\n",
       "</tr>\n",
       "<tr>\n",
       "       <td>Skew:</td>      <td>0.722</td>     <td>Prob(JB):</td>      <td>0.000</td>\n",
       "</tr>\n",
       "<tr>\n",
       "     <td>Kurtosis:</td>    <td>3.179</td>  <td>Condition No.:</td>    <td>21155</td>\n",
       "</tr>\n",
       "</table>"
      ],
      "text/plain": [
       "<class 'statsmodels.iolib.summary2.Summary'>\n",
       "\"\"\"\n",
       "                 Results: Ordinary least squares\n",
       "==================================================================\n",
       "Model:              OLS              Adj. R-squared:     0.954    \n",
       "Dependent Variable: Balance          AIC:                4817.6668\n",
       "Date:               2022-10-20 00:14 BIC:                4841.6156\n",
       "No. Observations:   400              Log-Likelihood:     -2402.8  \n",
       "Df Model:           5                F-statistic:        1640.    \n",
       "Df Residuals:       394              Prob (F-statistic): 3.60e-261\n",
       "R-squared:          0.954            Scale:              9812.4   \n",
       "------------------------------------------------------------------\n",
       "              Coef.   Std.Err.    t     P>|t|    [0.025    0.975] \n",
       "------------------------------------------------------------------\n",
       "Intercept   -526.1555  19.7466 -26.6454 0.0000 -564.9774 -487.3336\n",
       "Income        -7.8749   0.2315 -34.0236 0.0000   -8.3300   -7.4199\n",
       "Limit          0.1944   0.0325   5.9768 0.0000    0.1305    0.2584\n",
       "Rating         1.0879   0.4870   2.2339 0.0260    0.1305    2.0453\n",
       "Cards         17.8517   4.3349   4.1182 0.0000    9.3293   26.3741\n",
       "Student_Yes  426.8501  16.5740  25.7542 0.0000  394.2656  459.4347\n",
       "------------------------------------------------------------------\n",
       "Omnibus:               30.263       Durbin-Watson:          1.949 \n",
       "Prob(Omnibus):         0.000        Jarque-Bera (JB):       35.257\n",
       "Skew:                  0.722        Prob(JB):               0.000 \n",
       "Kurtosis:              3.179        Condition No.:          21155 \n",
       "==================================================================\n",
       "* The condition number is large (2e+04). This might indicate\n",
       "strong multicollinearity or other numerical problems.\n",
       "\"\"\""
      ]
     },
     "execution_count": 124,
     "metadata": {},
     "output_type": "execute_result"
    }
   ],
   "source": [
    "# Utiliza esta celda para generar el modelo depurado\n",
    "\n",
    "modelo_depurado = smf.ols(f'Balance ~ {\" + \".join(table_025.index.drop(\"Intercept\"))}', data = df).fit()\n",
    "modelo_depurado.summary2()"
   ]
  },
  {
   "cell_type": "markdown",
   "id": "b7a73761",
   "metadata": {},
   "source": [
    "- Comente brevemente sobre el poder explicativo en la varianza de $y$"
   ]
  },
  {
   "cell_type": "code",
   "execution_count": 125,
   "id": "28e33ffe",
   "metadata": {},
   "outputs": [
    {
     "data": {
      "text/html": [
       "<div>\n",
       "<style scoped>\n",
       "    .dataframe tbody tr th:only-of-type {\n",
       "        vertical-align: middle;\n",
       "    }\n",
       "\n",
       "    .dataframe tbody tr th {\n",
       "        vertical-align: top;\n",
       "    }\n",
       "\n",
       "    .dataframe thead th {\n",
       "        text-align: right;\n",
       "    }\n",
       "</style>\n",
       "<table border=\"1\" class=\"dataframe\">\n",
       "  <thead>\n",
       "    <tr style=\"text-align: right;\">\n",
       "      <th></th>\n",
       "      <th>0</th>\n",
       "      <th>1</th>\n",
       "      <th>2</th>\n",
       "      <th>3</th>\n",
       "    </tr>\n",
       "  </thead>\n",
       "  <tbody>\n",
       "    <tr>\n",
       "      <th>0</th>\n",
       "      <td>Model:</td>\n",
       "      <td>OLS</td>\n",
       "      <td>Adj. R-squared:</td>\n",
       "      <td>0.954</td>\n",
       "    </tr>\n",
       "    <tr>\n",
       "      <th>1</th>\n",
       "      <td>Dependent Variable:</td>\n",
       "      <td>Balance</td>\n",
       "      <td>AIC:</td>\n",
       "      <td>4817.6668</td>\n",
       "    </tr>\n",
       "    <tr>\n",
       "      <th>2</th>\n",
       "      <td>Date:</td>\n",
       "      <td>2022-10-20 00:16</td>\n",
       "      <td>BIC:</td>\n",
       "      <td>4841.6156</td>\n",
       "    </tr>\n",
       "    <tr>\n",
       "      <th>3</th>\n",
       "      <td>No. Observations:</td>\n",
       "      <td>400</td>\n",
       "      <td>Log-Likelihood:</td>\n",
       "      <td>-2402.8</td>\n",
       "    </tr>\n",
       "    <tr>\n",
       "      <th>4</th>\n",
       "      <td>Df Model:</td>\n",
       "      <td>5</td>\n",
       "      <td>F-statistic:</td>\n",
       "      <td>1640.</td>\n",
       "    </tr>\n",
       "    <tr>\n",
       "      <th>5</th>\n",
       "      <td>Df Residuals:</td>\n",
       "      <td>394</td>\n",
       "      <td>Prob (F-statistic):</td>\n",
       "      <td>3.60e-261</td>\n",
       "    </tr>\n",
       "    <tr>\n",
       "      <th>6</th>\n",
       "      <td>R-squared:</td>\n",
       "      <td>0.954</td>\n",
       "      <td>Scale:</td>\n",
       "      <td>9812.4</td>\n",
       "    </tr>\n",
       "  </tbody>\n",
       "</table>\n",
       "</div>"
      ],
      "text/plain": [
       "                     0                 1                    2          3\n",
       "0               Model:               OLS      Adj. R-squared:      0.954\n",
       "1  Dependent Variable:           Balance                 AIC:  4817.6668\n",
       "2                Date:  2022-10-20 00:16                 BIC:  4841.6156\n",
       "3    No. Observations:               400      Log-Likelihood:    -2402.8\n",
       "4            Df Model:                 5         F-statistic:      1640.\n",
       "5        Df Residuals:               394  Prob (F-statistic):  3.60e-261\n",
       "6           R-squared:             0.954               Scale:     9812.4"
      ]
     },
     "execution_count": 125,
     "metadata": {},
     "output_type": "execute_result"
    }
   ],
   "source": [
    "# Utiliza esa celda para explorar el poder explicativ en la varianza de Balance\n",
    "\n",
    "modelo_depurado.summary2().tables[0]"
   ]
  },
  {
   "cell_type": "markdown",
   "id": "f76b98fe",
   "metadata": {},
   "source": [
    "**Comentarios**\n",
    "\n",
    "**<font color='green'>al igual que en el modelo anterior, dejando solo las variables significativas para el modelo, practicamente mantenemos el mismo R2, mantendiendo lograr explicar el 95,4% de la variabilidad total de Balance con nuestras variables ingresadas en el modelo.</font>**"
   ]
  },
  {
   "cell_type": "markdown",
   "id": "5f475309",
   "metadata": {},
   "source": [
    "- Comente brevemente las principales características de los predictores."
   ]
  },
  {
   "cell_type": "code",
   "execution_count": 132,
   "id": "3ca697b9",
   "metadata": {},
   "outputs": [
    {
     "data": {
      "text/html": [
       "<div>\n",
       "<style scoped>\n",
       "    .dataframe tbody tr th:only-of-type {\n",
       "        vertical-align: middle;\n",
       "    }\n",
       "\n",
       "    .dataframe tbody tr th {\n",
       "        vertical-align: top;\n",
       "    }\n",
       "\n",
       "    .dataframe thead th {\n",
       "        text-align: right;\n",
       "    }\n",
       "</style>\n",
       "<table border=\"1\" class=\"dataframe\">\n",
       "  <thead>\n",
       "    <tr style=\"text-align: right;\">\n",
       "      <th></th>\n",
       "      <th>Coef.</th>\n",
       "      <th>P&gt;|t|</th>\n",
       "    </tr>\n",
       "  </thead>\n",
       "  <tbody>\n",
       "    <tr>\n",
       "      <th>Intercept</th>\n",
       "      <td>-526.155523</td>\n",
       "      <td>3.539640e-90</td>\n",
       "    </tr>\n",
       "    <tr>\n",
       "      <th>Income</th>\n",
       "      <td>-7.874924</td>\n",
       "      <td>2.488284e-119</td>\n",
       "    </tr>\n",
       "    <tr>\n",
       "      <th>Limit</th>\n",
       "      <td>0.194409</td>\n",
       "      <td>5.098874e-09</td>\n",
       "    </tr>\n",
       "    <tr>\n",
       "      <th>Rating</th>\n",
       "      <td>1.087901</td>\n",
       "      <td>2.604970e-02</td>\n",
       "    </tr>\n",
       "    <tr>\n",
       "      <th>Cards</th>\n",
       "      <td>17.851731</td>\n",
       "      <td>4.655806e-05</td>\n",
       "    </tr>\n",
       "    <tr>\n",
       "      <th>Student_Yes</th>\n",
       "      <td>426.850146</td>\n",
       "      <td>1.786842e-86</td>\n",
       "    </tr>\n",
       "  </tbody>\n",
       "</table>\n",
       "</div>"
      ],
      "text/plain": [
       "                  Coef.          P>|t|\n",
       "Intercept   -526.155523   3.539640e-90\n",
       "Income        -7.874924  2.488284e-119\n",
       "Limit          0.194409   5.098874e-09\n",
       "Rating         1.087901   2.604970e-02\n",
       "Cards         17.851731   4.655806e-05\n",
       "Student_Yes  426.850146   1.786842e-86"
      ]
     },
     "execution_count": 132,
     "metadata": {},
     "output_type": "execute_result"
    }
   ],
   "source": [
    "# Utiliza esta celda para almacenar los coeficientes y sus significancias\n",
    "\n",
    "table_depurada = modelo_depurado.summary2().tables[1]\n",
    "table_depurada_sub = table_depurada[['Coef.', 'P>|t|']]\n",
    "table_depurada_sub"
   ]
  },
  {
   "cell_type": "code",
   "execution_count": 137,
   "id": "2f7cb761",
   "metadata": {},
   "outputs": [
    {
     "data": {
      "text/html": [
       "<div>\n",
       "<style scoped>\n",
       "    .dataframe tbody tr th:only-of-type {\n",
       "        vertical-align: middle;\n",
       "    }\n",
       "\n",
       "    .dataframe tbody tr th {\n",
       "        vertical-align: top;\n",
       "    }\n",
       "\n",
       "    .dataframe thead th {\n",
       "        text-align: right;\n",
       "    }\n",
       "</style>\n",
       "<table border=\"1\" class=\"dataframe\">\n",
       "  <thead>\n",
       "    <tr style=\"text-align: right;\">\n",
       "      <th></th>\n",
       "      <th>Coef.</th>\n",
       "      <th>Std.Err.</th>\n",
       "      <th>t</th>\n",
       "      <th>P&gt;|t|</th>\n",
       "      <th>[0.025</th>\n",
       "      <th>0.975]</th>\n",
       "    </tr>\n",
       "  </thead>\n",
       "  <tbody>\n",
       "    <tr>\n",
       "      <th>Limit</th>\n",
       "      <td>0.194409</td>\n",
       "      <td>0.032527</td>\n",
       "      <td>5.976794</td>\n",
       "      <td>5.098874e-09</td>\n",
       "      <td>0.130460</td>\n",
       "      <td>0.258358</td>\n",
       "    </tr>\n",
       "    <tr>\n",
       "      <th>Cards</th>\n",
       "      <td>17.851731</td>\n",
       "      <td>4.334889</td>\n",
       "      <td>4.118152</td>\n",
       "      <td>4.655806e-05</td>\n",
       "      <td>9.329326</td>\n",
       "      <td>26.374136</td>\n",
       "    </tr>\n",
       "    <tr>\n",
       "      <th>Student_Yes</th>\n",
       "      <td>426.850146</td>\n",
       "      <td>16.574025</td>\n",
       "      <td>25.754163</td>\n",
       "      <td>1.786842e-86</td>\n",
       "      <td>394.265559</td>\n",
       "      <td>459.434732</td>\n",
       "    </tr>\n",
       "  </tbody>\n",
       "</table>\n",
       "</div>"
      ],
      "text/plain": [
       "                  Coef.   Std.Err.          t         P>|t|      [0.025  \\\n",
       "Limit          0.194409   0.032527   5.976794  5.098874e-09    0.130460   \n",
       "Cards         17.851731   4.334889   4.118152  4.655806e-05    9.329326   \n",
       "Student_Yes  426.850146  16.574025  25.754163  1.786842e-86  394.265559   \n",
       "\n",
       "                 0.975]  \n",
       "Limit          0.258358  \n",
       "Cards         26.374136  \n",
       "Student_Yes  459.434732  "
      ]
     },
     "execution_count": 137,
     "metadata": {},
     "output_type": "execute_result"
    }
   ],
   "source": [
    "# Utiliza esta celda para explorar los atributos que aumentan el balance en forma significativa (considerando alpha 0.025)\n",
    "\n",
    "table_depurada_025 = table_depurada[table_depurada['P>|t|'] <= 0.025]\n",
    "table_depurada_025[table_depurada_025['Coef.'] > 0]"
   ]
  },
  {
   "cell_type": "code",
   "execution_count": 138,
   "id": "16859668",
   "metadata": {},
   "outputs": [
    {
     "data": {
      "text/html": [
       "<div>\n",
       "<style scoped>\n",
       "    .dataframe tbody tr th:only-of-type {\n",
       "        vertical-align: middle;\n",
       "    }\n",
       "\n",
       "    .dataframe tbody tr th {\n",
       "        vertical-align: top;\n",
       "    }\n",
       "\n",
       "    .dataframe thead th {\n",
       "        text-align: right;\n",
       "    }\n",
       "</style>\n",
       "<table border=\"1\" class=\"dataframe\">\n",
       "  <thead>\n",
       "    <tr style=\"text-align: right;\">\n",
       "      <th></th>\n",
       "      <th>Coef.</th>\n",
       "      <th>Std.Err.</th>\n",
       "      <th>t</th>\n",
       "      <th>P&gt;|t|</th>\n",
       "      <th>[0.025</th>\n",
       "      <th>0.975]</th>\n",
       "    </tr>\n",
       "  </thead>\n",
       "  <tbody>\n",
       "    <tr>\n",
       "      <th>Intercept</th>\n",
       "      <td>-526.155523</td>\n",
       "      <td>19.746614</td>\n",
       "      <td>-26.645355</td>\n",
       "      <td>3.539640e-90</td>\n",
       "      <td>-564.977429</td>\n",
       "      <td>-487.333618</td>\n",
       "    </tr>\n",
       "    <tr>\n",
       "      <th>Income</th>\n",
       "      <td>-7.874924</td>\n",
       "      <td>0.231455</td>\n",
       "      <td>-34.023627</td>\n",
       "      <td>2.488284e-119</td>\n",
       "      <td>-8.329964</td>\n",
       "      <td>-7.419884</td>\n",
       "    </tr>\n",
       "  </tbody>\n",
       "</table>\n",
       "</div>"
      ],
      "text/plain": [
       "                Coef.   Std.Err.          t          P>|t|      [0.025  \\\n",
       "Intercept -526.155523  19.746614 -26.645355   3.539640e-90 -564.977429   \n",
       "Income      -7.874924   0.231455 -34.023627  2.488284e-119   -8.329964   \n",
       "\n",
       "               0.975]  \n",
       "Intercept -487.333618  \n",
       "Income      -7.419884  "
      ]
     },
     "execution_count": 138,
     "metadata": {},
     "output_type": "execute_result"
    }
   ],
   "source": [
    "# Utiliza esta celda para explorar los atributos que disminuyen el balance en forma significativa (considerando alpha 0.025)\n",
    "\n",
    "table_depurada_025[table_depurada_025['Coef.'] < 0]"
   ]
  },
  {
   "cell_type": "code",
   "execution_count": 139,
   "id": "3084a01a",
   "metadata": {},
   "outputs": [
    {
     "data": {
      "text/html": [
       "<div>\n",
       "<style scoped>\n",
       "    .dataframe tbody tr th:only-of-type {\n",
       "        vertical-align: middle;\n",
       "    }\n",
       "\n",
       "    .dataframe tbody tr th {\n",
       "        vertical-align: top;\n",
       "    }\n",
       "\n",
       "    .dataframe thead th {\n",
       "        text-align: right;\n",
       "    }\n",
       "</style>\n",
       "<table border=\"1\" class=\"dataframe\">\n",
       "  <thead>\n",
       "    <tr style=\"text-align: right;\">\n",
       "      <th></th>\n",
       "      <th>Coef.</th>\n",
       "      <th>Std.Err.</th>\n",
       "      <th>t</th>\n",
       "      <th>P&gt;|t|</th>\n",
       "      <th>[0.025</th>\n",
       "      <th>0.975]</th>\n",
       "    </tr>\n",
       "  </thead>\n",
       "  <tbody>\n",
       "    <tr>\n",
       "      <th>Rating</th>\n",
       "      <td>1.087901</td>\n",
       "      <td>0.486995</td>\n",
       "      <td>2.233907</td>\n",
       "      <td>0.02605</td>\n",
       "      <td>0.130468</td>\n",
       "      <td>2.045335</td>\n",
       "    </tr>\n",
       "  </tbody>\n",
       "</table>\n",
       "</div>"
      ],
      "text/plain": [
       "           Coef.  Std.Err.         t    P>|t|    [0.025    0.975]\n",
       "Rating  1.087901  0.486995  2.233907  0.02605  0.130468  2.045335"
      ]
     },
     "execution_count": 139,
     "metadata": {},
     "output_type": "execute_result"
    }
   ],
   "source": [
    "# Utiliza esta celda para explorar los atributos que no modifican el balance de forma significativa significativos (considerando alpha 0.025)\n",
    "\n",
    "table_depurada[table_depurada['P>|t|'] > 0.025]"
   ]
  },
  {
   "cell_type": "markdown",
   "id": "d15d794e",
   "metadata": {},
   "source": [
    "**Comentarios**\n",
    "\n",
    "**<font color='green'>Para los predictores, se observa que hay ciertas variables que no tiene un efecto predictivo significativo en nuestra variable Balance, como es el caso de la variable `Rating` aunque se encuentre muy al borde de nuestro punto de corte.</font>**\n",
    "\n",
    "**<font color='green'>Por otro lado, de las variables que si tienen un efecto predictivo en nuestra variable Balance, algunas tienen un efecto positivo y negativo, como son las variables `Limit`, `Cards` y `Student_Yes`. En cambio, otras tienen un efecto negativo en Balance como la variable `Income` </font>**"
   ]
  },
  {
   "cell_type": "markdown",
   "id": "37fe2404",
   "metadata": {},
   "source": [
    "- ¿Mejoró o empeoró el modelo con la reducción de regresores?\n",
    "\n",
    "**Respuesta**\n",
    "\n",
    "**<font color='green'>En cuanto a la parsimonia del modelo (cantidad de variables), si hubo mejora ya que obtuvimos los mismo resultados en termino de R2 con menos variables que el modelo full</font>**"
   ]
  },
  {
   "cell_type": "markdown",
   "id": "bf46e64f",
   "metadata": {},
   "source": [
    "### 6. Utilizando `lmplot` de `seaborn`, inspeccione el comportamiento de los tres principales determinantes. (2 puntos)\n",
    "\n",
    "Considere los 3 con valores más bajos de _p-value_ del último modelo generado"
   ]
  },
  {
   "cell_type": "code",
   "execution_count": 141,
   "id": "74bf21b2",
   "metadata": {},
   "outputs": [
    {
     "data": {
      "text/plain": [
       "['Income', 'Student_Yes', 'Limit']"
      ]
     },
     "execution_count": 141,
     "metadata": {},
     "output_type": "execute_result"
    }
   ],
   "source": [
    "# Utiliza esta celda para mostrar los coeficientes con los 3 p-values más bajos (no considere el intercepto)\n",
    "\n",
    "significativas = modelo_full.summary2().tables[1].sort_values(by='P>|t|').head(4).index.drop('Intercept').to_list()"
   ]
  },
  {
   "cell_type": "code",
   "execution_count": 144,
   "id": "a7aaab11",
   "metadata": {},
   "outputs": [
    {
     "data": {
      "text/plain": [
       "<seaborn.axisgrid.FacetGrid at 0x21919d28ac8>"
      ]
     },
     "execution_count": 144,
     "metadata": {},
     "output_type": "execute_result"
    },
    {
     "data": {
      "image/png": "[encoded data removed]",
      "text/plain": [
       "<Figure size 360x360 with 1 Axes>"
      ]
     },
     "metadata": {
      "needs_background": "light"
     },
     "output_type": "display_data"
    }
   ],
   "source": [
    "# Utiliza esta celda para graficar el primer atributo\n",
    "import warnings\n",
    "warnings.simplefilter('ignore')\n",
    "\n",
    "sns.lmplot(significativas[0], 'Balance', df)"
   ]
  },
  {
   "cell_type": "markdown",
   "id": "4b157606",
   "metadata": {},
   "source": [
    "**Comentarios**\n",
    "\n",
    "**<font color='green'>Si vemos la recta, se ve que hay muchos valores muy lejanos a nuestra recta de regresion, esto ya que los valores estan muy dispersos y es imposible poder caracterizar de buena manera estas variables a traves de una lines recta.</font>**"
   ]
  },
  {
   "cell_type": "code",
   "execution_count": 145,
   "id": "abadb422",
   "metadata": {},
   "outputs": [
    {
     "data": {
      "text/plain": [
       "<seaborn.axisgrid.FacetGrid at 0x21919d280b8>"
      ]
     },
     "execution_count": 145,
     "metadata": {},
     "output_type": "execute_result"
    },
    {
     "data": {
      "image/png": "[encoded data removed]",
      "text/plain": [
       "<Figure size 360x360 with 1 Axes>"
      ]
     },
     "metadata": {
      "needs_background": "light"
     },
     "output_type": "display_data"
    }
   ],
   "source": [
    "# Utiliza esta celda para graficar el segundo atributo\n",
    "\n",
    "sns.lmplot(significativas[1], 'Balance', df)"
   ]
  },
  {
   "cell_type": "markdown",
   "id": "c2081b41",
   "metadata": {},
   "source": [
    "**Comentarios**\n",
    "\n",
    "**<font color='green'>Este caso es algo particular, ya que estamos comparando frente a una variable dicotomica, a si que es imposible caracterizar dichas variables a traves de una recta de regresion.</font>**"
   ]
  },
  {
   "cell_type": "code",
   "execution_count": 146,
   "id": "abd382ce",
   "metadata": {},
   "outputs": [
    {
     "data": {
      "text/plain": [
       "<seaborn.axisgrid.FacetGrid at 0x219195733c8>"
      ]
     },
     "execution_count": 146,
     "metadata": {},
     "output_type": "execute_result"
    },
    {
     "data": {
      "image/png": "[encoded data removed]",
      "text/plain": [
       "<Figure size 360x360 with 1 Axes>"
      ]
     },
     "metadata": {
      "needs_background": "light"
     },
     "output_type": "display_data"
    }
   ],
   "source": [
    "# Utiliza esta celda para graficar el tercer atributo\n",
    "\n",
    "sns.lmplot(significativas[2], 'Balance', df)"
   ]
  },
  {
   "cell_type": "markdown",
   "id": "501f70e7",
   "metadata": {},
   "source": [
    "**Comentarios**\n",
    "\n",
    "**<font color='green'>A diferencia de los otros dos graficos anteriores, aquí si se puede apreciar un leve ordenamiento de  los datos dispersos, ya que se ve como estos tienden a tener el mismo comportamiento que la recta de regresion  ya que a medida que aumenta los valores de la variable limit, aumentan los valores de la variable Balance.</font>**"
   ]
  },
  {
   "cell_type": "code",
   "execution_count": null,
   "id": "4e4c4d00",
   "metadata": {},
   "outputs": [],
   "source": []
  }
 ],
 "metadata": {
  "kernelspec": {
   "display_name": "Python 3.6.8 64-bit",
   "language": "python",
   "name": "python3"
  },
  "language_info": {
   "codemirror_mode": {
    "name": "ipython",
    "version": 3
   },
   "file_extension": ".py",
   "mimetype": "text/x-python",
   "name": "python",
   "nbconvert_exporter": "python",
   "pygments_lexer": "ipython3",
   "version": "3.6.8"
  },
  "vscode": {
   "interpreter": {
    "hash": "3bdfc9259a895d0928a4ae2f6847af189aa6726de5ec3e388785c2fb28cb2e34"
   }
  }
 },
 "nbformat": 4,
 "nbformat_minor": 5
}
